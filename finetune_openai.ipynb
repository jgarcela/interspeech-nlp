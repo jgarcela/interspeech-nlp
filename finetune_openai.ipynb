{
 "cells": [
  {
   "cell_type": "markdown",
   "metadata": {},
   "source": [
    "# Finetune with OpenAI"
   ]
  },
  {
   "cell_type": "markdown",
   "metadata": {},
   "source": [
    "## Load data"
   ]
  },
  {
   "cell_type": "code",
   "execution_count": 25,
   "metadata": {},
   "outputs": [
    {
     "name": "stdout",
     "output_type": "stream",
     "text": [
      "19842\n",
      "19837\n"
     ]
    },
    {
     "data": {
      "text/html": [
       "<div>\n",
       "<style scoped>\n",
       "    .dataframe tbody tr th:only-of-type {\n",
       "        vertical-align: middle;\n",
       "    }\n",
       "\n",
       "    .dataframe tbody tr th {\n",
       "        vertical-align: top;\n",
       "    }\n",
       "\n",
       "    .dataframe thead th {\n",
       "        text-align: right;\n",
       "    }\n",
       "</style>\n",
       "<table border=\"1\" class=\"dataframe\">\n",
       "  <thead>\n",
       "    <tr style=\"text-align: right;\">\n",
       "      <th></th>\n",
       "      <th>FileName</th>\n",
       "      <th>text</th>\n",
       "      <th>EmoClass</th>\n",
       "      <th>EmoAct</th>\n",
       "      <th>EmoVal</th>\n",
       "      <th>EmoDom</th>\n",
       "      <th>SpkrID</th>\n",
       "      <th>Gender</th>\n",
       "      <th>Split_Set</th>\n",
       "      <th>PodcastID</th>\n",
       "      <th>StratifyCol</th>\n",
       "      <th>NewPartition</th>\n",
       "      <th>PseudoEmo</th>\n",
       "      <th>InvEntropyNorm</th>\n",
       "      <th>PseudoEmoNum</th>\n",
       "    </tr>\n",
       "  </thead>\n",
       "  <tbody>\n",
       "    <tr>\n",
       "      <th>0</th>\n",
       "      <td>MSP-PODCAST_0288_0019</td>\n",
       "      <td>mr. [excess 00:01:24] also known as ike, bbc r...</td>\n",
       "      <td>H</td>\n",
       "      <td>5.333333</td>\n",
       "      <td>5.416667</td>\n",
       "      <td>4.750000</td>\n",
       "      <td>123</td>\n",
       "      <td>Male</td>\n",
       "      <td>Train</td>\n",
       "      <td>288</td>\n",
       "      <td>0288_123_H</td>\n",
       "      <td>Train</td>\n",
       "      <td>H</td>\n",
       "      <td>1.000000</td>\n",
       "      <td>1</td>\n",
       "    </tr>\n",
       "    <tr>\n",
       "      <th>1</th>\n",
       "      <td>MSP-PODCAST_3371_0004_0001</td>\n",
       "      <td>... i decided to take a trip to canada with my...</td>\n",
       "      <td>N</td>\n",
       "      <td>3.400000</td>\n",
       "      <td>4.800000</td>\n",
       "      <td>4.200000</td>\n",
       "      <td>1769</td>\n",
       "      <td>Male</td>\n",
       "      <td>Development</td>\n",
       "      <td>3371</td>\n",
       "      <td>3371_1769_N</td>\n",
       "      <td>Evaluation</td>\n",
       "      <td>N</td>\n",
       "      <td>1.000000</td>\n",
       "      <td>0</td>\n",
       "    </tr>\n",
       "    <tr>\n",
       "      <th>2</th>\n",
       "      <td>MSP-PODCAST_0153_0436</td>\n",
       "      <td>just clowning in the studio, people.</td>\n",
       "      <td>H</td>\n",
       "      <td>5.777778</td>\n",
       "      <td>5.111111</td>\n",
       "      <td>5.444444</td>\n",
       "      <td>15</td>\n",
       "      <td>Male</td>\n",
       "      <td>Train</td>\n",
       "      <td>153</td>\n",
       "      <td>0153_15_H</td>\n",
       "      <td>Evaluation</td>\n",
       "      <td>H</td>\n",
       "      <td>1.000000</td>\n",
       "      <td>1</td>\n",
       "    </tr>\n",
       "    <tr>\n",
       "      <th>3</th>\n",
       "      <td>MSP-PODCAST_2979_0216</td>\n",
       "      <td>social distancing implies that we're being dis...</td>\n",
       "      <td>X</td>\n",
       "      <td>3.200000</td>\n",
       "      <td>4.000000</td>\n",
       "      <td>3.600000</td>\n",
       "      <td>1565</td>\n",
       "      <td>Male</td>\n",
       "      <td>Train</td>\n",
       "      <td>2979</td>\n",
       "      <td>2979_1565_X</td>\n",
       "      <td>Evaluation</td>\n",
       "      <td>N</td>\n",
       "      <td>0.246159</td>\n",
       "      <td>0</td>\n",
       "    </tr>\n",
       "    <tr>\n",
       "      <th>4</th>\n",
       "      <td>MSP-PODCAST_0917_0196</td>\n",
       "      <td>... in 2016. we won. okay. and our core messag...</td>\n",
       "      <td>N</td>\n",
       "      <td>4.800000</td>\n",
       "      <td>3.600000</td>\n",
       "      <td>4.800000</td>\n",
       "      <td>266</td>\n",
       "      <td>Male</td>\n",
       "      <td>Train</td>\n",
       "      <td>917</td>\n",
       "      <td>0917_266_N</td>\n",
       "      <td>Train</td>\n",
       "      <td>N</td>\n",
       "      <td>1.000000</td>\n",
       "      <td>0</td>\n",
       "    </tr>\n",
       "  </tbody>\n",
       "</table>\n",
       "</div>"
      ],
      "text/plain": [
       "                     FileName  \\\n",
       "0       MSP-PODCAST_0288_0019   \n",
       "1  MSP-PODCAST_3371_0004_0001   \n",
       "2       MSP-PODCAST_0153_0436   \n",
       "3       MSP-PODCAST_2979_0216   \n",
       "4       MSP-PODCAST_0917_0196   \n",
       "\n",
       "                                                text EmoClass    EmoAct  \\\n",
       "0  mr. [excess 00:01:24] also known as ike, bbc r...        H  5.333333   \n",
       "1  ... i decided to take a trip to canada with my...        N  3.400000   \n",
       "2              just clowning in the studio, people.         H  5.777778   \n",
       "3  social distancing implies that we're being dis...        X  3.200000   \n",
       "4  ... in 2016. we won. okay. and our core messag...        N  4.800000   \n",
       "\n",
       "     EmoVal    EmoDom  SpkrID Gender    Split_Set  PodcastID  StratifyCol  \\\n",
       "0  5.416667  4.750000     123   Male        Train        288   0288_123_H   \n",
       "1  4.800000  4.200000    1769   Male  Development       3371  3371_1769_N   \n",
       "2  5.111111  5.444444      15   Male        Train        153    0153_15_H   \n",
       "3  4.000000  3.600000    1565   Male        Train       2979  2979_1565_X   \n",
       "4  3.600000  4.800000     266   Male        Train        917   0917_266_N   \n",
       "\n",
       "  NewPartition PseudoEmo  InvEntropyNorm  PseudoEmoNum  \n",
       "0        Train         H        1.000000             1  \n",
       "1   Evaluation         N        1.000000             0  \n",
       "2   Evaluation         H        1.000000             1  \n",
       "3   Evaluation         N        0.246159             0  \n",
       "4        Train         N        1.000000             0  "
      ]
     },
     "execution_count": 25,
     "metadata": {},
     "output_type": "execute_result"
    }
   ],
   "source": [
    "import pandas as pd\n",
    "\n",
    "# Cargar el CSV\n",
    "# data = pd.read_csv('data/data_male.csv')\n",
    "data = pd.read_csv('data/data_male.csv')\n",
    "print(len(data))\n",
    "\n",
    "# Eliminar filas con valores nulos solo en la columna 'text'\n",
    "data = data.dropna(subset=['text'])\n",
    "print(len(data))\n",
    "\n",
    "# data = data[~data['EmoClass'].isin(['X', 'O'])]\n",
    "\n",
    "data.head()"
   ]
  },
  {
   "cell_type": "code",
   "execution_count": 27,
   "metadata": {},
   "outputs": [
    {
     "name": "stdout",
     "output_type": "stream",
     "text": [
      "Conjunto Train:\n",
      "                FileName                                               text  \\\n",
      "0  MSP-PODCAST_0288_0019  mr. [excess 00:01:24] also known as ike, bbc r...   \n",
      "4  MSP-PODCAST_0917_0196  ... in 2016. we won. okay. and our core messag...   \n",
      "5  MSP-PODCAST_0040_0223   all those decent men and women around the wor...   \n",
      "7  MSP-PODCAST_1702_0156  yeah. it's like they're in some sort of geomet...   \n",
      "8  MSP-PODCAST_5495_0498  that's a very good point of view. i love that....   \n",
      "\n",
      "  EmoClass    EmoAct    EmoVal    EmoDom  SpkrID Gender    Split_Set  \\\n",
      "0        H  5.333333  5.416667  4.750000     123   Male        Train   \n",
      "4        N  4.800000  3.600000  4.800000     266   Male        Train   \n",
      "5        N  2.750000  3.666667  3.666667     425   Male        Train   \n",
      "7        N  5.000000  4.200000  5.600000     981   Male  Development   \n",
      "8        H  4.800000  5.400000  4.800000    2865   Male        Train   \n",
      "\n",
      "   PodcastID  StratifyCol NewPartition PseudoEmo  InvEntropyNorm  PseudoEmoNum  \n",
      "0        288   0288_123_H        Train         H             1.0             1  \n",
      "4        917   0917_266_N        Train         N             1.0             0  \n",
      "5         40   0040_425_N        Train         N             1.0             0  \n",
      "7       1702   1702_981_N        Train         N             1.0             0  \n",
      "8       5495  5495_2865_H        Train         H             1.0             1  \n",
      "Conjunto Development:\n",
      "                      FileName  \\\n",
      "1   MSP-PODCAST_3371_0004_0001   \n",
      "2        MSP-PODCAST_0153_0436   \n",
      "3        MSP-PODCAST_2979_0216   \n",
      "12       MSP-PODCAST_5200_0923   \n",
      "15  MSP-PODCAST_1693_0263_0003   \n",
      "\n",
      "                                                 text EmoClass    EmoAct  \\\n",
      "1   ... i decided to take a trip to canada with my...        N  3.400000   \n",
      "2               just clowning in the studio, people.         H  5.777778   \n",
      "3   social distancing implies that we're being dis...        X  3.200000   \n",
      "12  ... snake women everywhere. but i'll take my c...        A  5.200000   \n",
      "15  buddy ryan. he tattooed it.yeah, that was the ...        H  5.800000   \n",
      "\n",
      "      EmoVal    EmoDom  SpkrID Gender    Split_Set  PodcastID  StratifyCol  \\\n",
      "1   4.800000  4.200000    1769   Male  Development       3371  3371_1769_N   \n",
      "2   5.111111  5.444444      15   Male        Train        153    0153_15_H   \n",
      "3   4.000000  3.600000    1565   Male        Train       2979  2979_1565_X   \n",
      "12  2.400000  5.200000    2789   Male  Development       5200  5200_2789_A   \n",
      "15  5.600000  5.200000     932   Male        Train       1693   1693_932_H   \n",
      "\n",
      "   NewPartition PseudoEmo  InvEntropyNorm  PseudoEmoNum  \n",
      "1    Evaluation         N        1.000000             0  \n",
      "2    Evaluation         H        1.000000             1  \n",
      "3    Evaluation         N        0.246159             0  \n",
      "12   Evaluation         A        1.000000             2  \n",
      "15   Evaluation         H        1.000000             1  \n",
      "Conjunto Test:\n",
      "                      FileName  \\\n",
      "6   MSP-PODCAST_5577_0905_0001   \n",
      "9        MSP-PODCAST_5598_0302   \n",
      "16  MSP-PODCAST_0836_0077_0004   \n",
      "25       MSP-PODCAST_2355_0637   \n",
      "31  MSP-PODCAST_0888_0157_0002   \n",
      "\n",
      "                                                 text EmoClass  EmoAct  \\\n",
      "6                              you in a relationship.        H     3.2   \n",
      "9   other than that, i mean, if i thought i could ...        H     4.2   \n",
      "16  it's why they're stopping 85 year old grandmas...        D     5.1   \n",
      "25                               bonding and plastic.        N     3.2   \n",
      "31  ... just sort of fall in love with this myster...        A     4.8   \n",
      "\n",
      "    EmoVal  EmoDom  SpkrID Gender Split_Set  PodcastID  StratifyCol  \\\n",
      "6      4.0     4.4    2952   Male     Train       5577  5577_2952_H   \n",
      "9      4.4     4.0    2959   Male     Train       5598  5598_2959_H   \n",
      "16     3.1     5.1     307   Male     Train        836   0836_307_D   \n",
      "25     3.2     3.6    1600   Male     Train       2355  2355_1600_N   \n",
      "31     4.4     4.8     352   Male     Train        888   0888_352_A   \n",
      "\n",
      "   NewPartition PseudoEmo  InvEntropyNorm  PseudoEmoNum  \n",
      "6          Test         H             1.0             1  \n",
      "9          Test         H             1.0             1  \n",
      "16         Test         D             1.0             6  \n",
      "25         Test         N             1.0             0  \n",
      "31         Test         A             1.0             2  \n"
     ]
    }
   ],
   "source": [
    "# Filtrar los datos en tres conjuntos basados en la columna 'Split_Set'\n",
    "train_df = data.loc[data['NewPartition'] == 'Train']\n",
    "dev_df = data.loc[data['NewPartition'] == 'Evaluation']\n",
    "test_df = data.loc[data['NewPartition'] == 'Test']\n",
    "\n",
    "# Verifica las primeras filas de cada conjunto\n",
    "print(\"Conjunto Train:\")\n",
    "print(train_df.head())\n",
    "\n",
    "print(\"Conjunto Development:\")\n",
    "print(dev_df.head())\n",
    "\n",
    "print(\"Conjunto Test:\")\n",
    "print(test_df.head())"
   ]
  },
  {
   "cell_type": "code",
   "execution_count": 28,
   "metadata": {},
   "outputs": [
    {
     "name": "stdout",
     "output_type": "stream",
     "text": [
      "Etiquetas únicas en 'EmoClass' antes del mapeo:\n",
      "['N' 'H' 'A' 'F' 'C' 'S' 'U' 'D']\n"
     ]
    }
   ],
   "source": [
    "# Verificar las etiquetas únicas en EmoClass antes de mapear\n",
    "print(\"Etiquetas únicas en 'EmoClass' antes del mapeo:\")\n",
    "print(dev_df['PseudoEmo'].unique())"
   ]
  },
  {
   "cell_type": "code",
   "execution_count": 29,
   "metadata": {},
   "outputs": [
    {
     "name": "stderr",
     "output_type": "stream",
     "text": [
      "/tmp/ipykernel_1903152/3428392459.py:8: DeprecationWarning: DataFrameGroupBy.apply operated on the grouping columns. This behavior is deprecated, and in a future version of pandas the grouping columns will be excluded from the operation. Either pass `include_groups=False` to exclude the groupings or explicitly select the grouping columns after groupby to silence this warning.\n",
      "  train_df = train_df.groupby(\"PseudoEmo\", group_keys=False).apply(\n",
      "/tmp/ipykernel_1903152/3428392459.py:13: DeprecationWarning: DataFrameGroupBy.apply operated on the grouping columns. This behavior is deprecated, and in a future version of pandas the grouping columns will be excluded from the operation. Either pass `include_groups=False` to exclude the groupings or explicitly select the grouping columns after groupby to silence this warning.\n",
      "  dev_df = dev_df.groupby(\"PseudoEmo\", group_keys=False).apply(\n"
     ]
    }
   ],
   "source": [
    "# Establecer la semilla para garantizar reproducibilidad\n",
    "seed = 42\n",
    "\n",
    "# Número de ejemplos por clase\n",
    "n_ejemplos_por_clase = 50\n",
    "\n",
    "# Seleccionar aleatoriamente ejemplos balanceados por clase para el conjunto de entrenamiento\n",
    "train_df = train_df.groupby(\"PseudoEmo\", group_keys=False).apply(\n",
    "    lambda x: x.sample(n=min(len(x), n_ejemplos_por_clase), random_state=seed)\n",
    ")\n",
    "\n",
    "# Seleccionar aleatoriamente ejemplos balanceados por clase para el conjunto de desarrollo\n",
    "dev_df = dev_df.groupby(\"PseudoEmo\", group_keys=False).apply(\n",
    "    lambda x: x.sample(n=min(len(x), n_ejemplos_por_clase // 2), random_state=seed)\n",
    ")"
   ]
  },
  {
   "cell_type": "markdown",
   "metadata": {},
   "source": [
    "## Prepare data"
   ]
  },
  {
   "cell_type": "code",
   "execution_count": null,
   "metadata": {},
   "outputs": [],
   "source": [
    "# Definir el mensaje del sistema\n",
    "system_message = {\n",
    "    \"role\": \"system\",\n",
    "    \"content\": \"You are an assistant that classifies emotions based on transcripts.\"\n",
    "}\n",
    "\n",
    "# Crear una lista de mensajes formateados\n",
    "formatted_data = []\n",
    "for _, row in train_df.iterrows():\n",
    "    messages = [\n",
    "        system_message,\n",
    "        {\"role\": \"user\", \"content\": row[\"text\"]},\n",
    "        {\"role\": \"assistant\", \"content\": row[\"PseudoEmo\"]}\n",
    "    ]\n",
    "    formatted_data.append({\"messages\": messages})\n",
    "\n",
    "# Guardar como archivo JSONL\n",
    "import json\n",
    "with open(\"data/fine_tune_train_male.jsonl\", \"w\", encoding=\"utf-8\") as f:\n",
    "    for item in formatted_data:\n",
    "        f.write(json.dumps(item, ensure_ascii=False) + \"\\n\")"
   ]
  },
  {
   "cell_type": "code",
   "execution_count": 31,
   "metadata": {},
   "outputs": [],
   "source": [
    "# Definir el mensaje del sistema\n",
    "system_message = {\n",
    "    \"role\": \"system\",\n",
    "    \"content\": \"You are an assistant that classifies emotions based on transcripts.\"\n",
    "}\n",
    "\n",
    "# Crear una lista de mensajes formateados\n",
    "formatted_data = []\n",
    "for _, row in dev_df.iterrows():\n",
    "    messages = [\n",
    "        system_message,\n",
    "        {\"role\": \"user\", \"content\": row[\"text\"]},\n",
    "        {\"role\": \"assistant\", \"content\": row[\"PseudoEmo\"]}\n",
    "    ]\n",
    "    formatted_data.append({\"messages\": messages})\n",
    "\n",
    "# Guardar como archivo JSONL\n",
    "import json\n",
    "with open(\"data/fine_tune_dev_male.jsonl\", \"w\", encoding=\"utf-8\") as f:\n",
    "    for item in formatted_data:\n",
    "        f.write(json.dumps(item, ensure_ascii=False) + \"\\n\")"
   ]
  },
  {
   "cell_type": "markdown",
   "metadata": {},
   "source": [
    "## Load data to OpenAI"
   ]
  },
  {
   "cell_type": "code",
   "execution_count": 32,
   "metadata": {},
   "outputs": [],
   "source": [
    "import configparser\n",
    "import openai\n",
    "\n",
    "config = configparser.ConfigParser()\n",
    "config.read('config.ini')\n",
    "\n",
    "OPENAI_MODEL = config['DEFAULT']['OPENAI_MODEL']\n",
    "openai.api_key = config['DEFAULT']['OPENAI_API_KEY']"
   ]
  },
  {
   "cell_type": "code",
   "execution_count": 33,
   "metadata": {},
   "outputs": [
    {
     "data": {
      "text/plain": [
       "FileObject(id='file-K9HoCa3LGTjemTuDSvBBd8', bytes=110032, created_at=1737372342, filename='fine_tune_train_male.jsonl', object='file', purpose='fine-tune', status='processed', status_details=None)"
      ]
     },
     "execution_count": 33,
     "metadata": {},
     "output_type": "execute_result"
    }
   ],
   "source": [
    "openai.files.create(\n",
    "    file=open(\"data/fine_tune_train_male.jsonl\", \"rb\"),\n",
    "    purpose=\"fine-tune\"\n",
    ")"
   ]
  },
  {
   "cell_type": "code",
   "execution_count": 34,
   "metadata": {},
   "outputs": [
    {
     "data": {
      "text/plain": [
       "FileObject(id='file-VnhuZm93yhogqheemjda4h', bytes=55375, created_at=1737372352, filename='fine_tune_dev_male.jsonl', object='file', purpose='fine-tune', status='processed', status_details=None)"
      ]
     },
     "execution_count": 34,
     "metadata": {},
     "output_type": "execute_result"
    }
   ],
   "source": [
    "openai.files.create(\n",
    "    file=open(\"data/fine_tune_dev_male.jsonl\", \"rb\"),\n",
    "    purpose=\"fine-tune\"\n",
    ")"
   ]
  },
  {
   "cell_type": "markdown",
   "metadata": {},
   "source": [
    "## Finetuning"
   ]
  },
  {
   "cell_type": "code",
   "execution_count": 35,
   "metadata": {},
   "outputs": [
    {
     "data": {
      "text/plain": [
       "FineTuningJob(id='ftjob-DFOhs5QRmiihezvExooVrfaf', created_at=1737372377, error=Error(code=None, message=None, param=None), fine_tuned_model=None, finished_at=None, hyperparameters=Hyperparameters(batch_size='auto', learning_rate_multiplier='auto', n_epochs='auto'), model='gpt-4o-2024-08-06', object='fine_tuning.job', organization_id='org-6n6bq55SqOv94y3EbtfwLuNX', result_files=[], seed=328645151, status='validating_files', trained_tokens=None, training_file='file-K9HoCa3LGTjemTuDSvBBd8', validation_file='file-VnhuZm93yhogqheemjda4h', estimated_finish=None, integrations=[], method=Method(dpo=None, supervised=MethodSupervised(hyperparameters=MethodSupervisedHyperparameters(batch_size='auto', learning_rate_multiplier='auto', n_epochs='auto')), type='supervised'), user_provided_suffix=None)"
      ]
     },
     "execution_count": 35,
     "metadata": {},
     "output_type": "execute_result"
    }
   ],
   "source": [
    "openai.fine_tuning.jobs.create(\n",
    "    training_file=\"file-K9HoCa3LGTjemTuDSvBBd8\",\n",
    "    validation_file=\"file-VnhuZm93yhogqheemjda4h\",\n",
    "    model=\"gpt-4o-2024-08-06\"\n",
    ")"
   ]
  },
  {
   "cell_type": "code",
   "execution_count": 52,
   "metadata": {},
   "outputs": [],
   "source": [
    "# Retrieve the state of a fine-tune\n",
    "job = openai.fine_tuning.jobs.retrieve(\"ftjob-DFOhs5QRmiihezvExooVrfaf\")"
   ]
  },
  {
   "cell_type": "code",
   "execution_count": 53,
   "metadata": {},
   "outputs": [
    {
     "data": {
      "text/plain": [
       "FineTuningJob(id='ftjob-DFOhs5QRmiihezvExooVrfaf', created_at=1737372377, error=Error(code=None, message=None, param=None), fine_tuned_model='ft:gpt-4o-2024-08-06:personal::Arkn2ZcA', finished_at=1737374606, hyperparameters=Hyperparameters(batch_size=1, learning_rate_multiplier=2.0, n_epochs=3), model='gpt-4o-2024-08-06', object='fine_tuning.job', organization_id='org-6n6bq55SqOv94y3EbtfwLuNX', result_files=['file-KVMTf3hcUzKS1nAhcSV1D7'], seed=328645151, status='succeeded', trained_tokens=55428, training_file='file-K9HoCa3LGTjemTuDSvBBd8', validation_file='file-VnhuZm93yhogqheemjda4h', estimated_finish=None, integrations=[], method=Method(dpo=None, supervised=MethodSupervised(hyperparameters=MethodSupervisedHyperparameters(batch_size=1, learning_rate_multiplier=2.0, n_epochs=3)), type='supervised'), user_provided_suffix=None)"
      ]
     },
     "execution_count": 53,
     "metadata": {},
     "output_type": "execute_result"
    }
   ],
   "source": [
    "job"
   ]
  },
  {
   "cell_type": "code",
   "execution_count": null,
   "metadata": {},
   "outputs": [
    {
     "data": {
      "text/plain": [
       "SyncCursorPage[FineTuningJob](data=[FineTuningJob(id='ftjob-DFOhs5QRmiihezvExooVrfaf', created_at=1737372377, error=Error(code=None, message=None, param=None), fine_tuned_model=None, finished_at=None, hyperparameters=Hyperparameters(batch_size='auto', learning_rate_multiplier='auto', n_epochs='auto'), model='gpt-4o-2024-08-06', object='fine_tuning.job', organization_id='org-6n6bq55SqOv94y3EbtfwLuNX', result_files=[], seed=328645151, status='validating_files', trained_tokens=None, training_file='file-K9HoCa3LGTjemTuDSvBBd8', validation_file='file-VnhuZm93yhogqheemjda4h', estimated_finish=None, integrations=[], method=Method(dpo=None, supervised=MethodSupervised(hyperparameters=MethodSupervisedHyperparameters(batch_size='auto', learning_rate_multiplier='auto', n_epochs='auto')), type='supervised'), user_provided_suffix=None), FineTuningJob(id='ftjob-IrG9bETvL2xsNmyBygK7yT8l', created_at=1737371829, error=Error(code='invalid_training_file', message='The job failed due to an invalid training file. Invalid file format. Input file file-PH9Xc23YQWWcQZTC1E8LcL is in the prompt-completion format, but the specified model gpt-3.5-turbo-0125 is a chat model and requires chat-formatted data. See https://platform.openai.com/docs/guides/fine-tuning#preparing-your-dataset for details.', param='training_file'), fine_tuned_model=None, finished_at=None, hyperparameters=Hyperparameters(batch_size='auto', learning_rate_multiplier='auto', n_epochs='auto'), model='gpt-3.5-turbo-0125', object='fine_tuning.job', organization_id='org-6n6bq55SqOv94y3EbtfwLuNX', result_files=[], seed=1139905950, status='failed', trained_tokens=None, training_file='file-PH9Xc23YQWWcQZTC1E8LcL', validation_file=None, estimated_finish=None, integrations=[], method=Method(dpo=None, supervised=MethodSupervised(hyperparameters=MethodSupervisedHyperparameters(batch_size='auto', learning_rate_multiplier='auto', n_epochs='auto')), type='supervised'), user_provided_suffix=None), FineTuningJob(id='ftjob-4j5AfAT9iceCypC2nana2AgE', created_at=1737371705, error=Error(code='invalid_training_file', message='The job failed due to an invalid training file. Invalid file format. Input file file-PH9Xc23YQWWcQZTC1E8LcL is in the prompt-completion format, but the specified model gpt-4o-2024-08-06 is a chat model and requires chat-formatted data. See https://platform.openai.com/docs/guides/fine-tuning#preparing-your-dataset for details.', param='training_file'), fine_tuned_model=None, finished_at=None, hyperparameters=Hyperparameters(batch_size='auto', learning_rate_multiplier='auto', n_epochs='auto'), model='gpt-4o-2024-08-06', object='fine_tuning.job', organization_id='org-6n6bq55SqOv94y3EbtfwLuNX', result_files=[], seed=700009133, status='failed', trained_tokens=None, training_file='file-PH9Xc23YQWWcQZTC1E8LcL', validation_file=None, estimated_finish=None, integrations=[], method=Method(dpo=None, supervised=MethodSupervised(hyperparameters=MethodSupervisedHyperparameters(batch_size='auto', learning_rate_multiplier='auto', n_epochs='auto')), type='supervised'), user_provided_suffix=None)], object='list', has_more=False)"
      ]
     },
     "execution_count": 36,
     "metadata": {},
     "output_type": "execute_result"
    }
   ],
   "source": [
    "# List 10 fine-tuning jobs\n",
    "openai.fine_tuning.jobs.list(limit=10)"
   ]
  },
  {
   "cell_type": "markdown",
   "metadata": {},
   "source": [
    "## Output file"
   ]
  },
  {
   "cell_type": "code",
   "execution_count": null,
   "metadata": {},
   "outputs": [
    {
     "data": {
      "text/plain": [
       "<openai._legacy_response.HttpxBinaryResponseContent at 0x77effafa5f10>"
      ]
     },
     "execution_count": 49,
     "metadata": {},
     "output_type": "execute_result"
    }
   ],
   "source": [
    "openai.files.retrieve(\"file-KVMTf3hcUzKS1nAhcSV1D7\")"
   ]
  },
  {
   "cell_type": "markdown",
   "metadata": {},
   "source": [
    "## Use finetune model"
   ]
  },
  {
   "cell_type": "code",
   "execution_count": null,
   "metadata": {},
   "outputs": [],
   "source": [
    "completion = openai.chat.completions.create(\n",
    "    model=\"ft:gpt-4o-2024-08-06:personal::Arkn2ZcA\",\n",
    "    messages=[\n",
    "        {\"role\": \"system\", \"content\": \"You are an assistant that classifies emotions based on transcripts.\"},\n",
    "        {\"role\": \"user\", \"content\": \"Hello!\"}\n",
    "    ]\n",
    ")\n",
    "\n",
    "print(completion.choices[0].message)"
   ]
  },
  {
   "cell_type": "code",
   "execution_count": 59,
   "metadata": {},
   "outputs": [
    {
     "name": "stderr",
     "output_type": "stream",
     "text": [
      "Processing predictions: 100%|██████████| 200/200 [01:50<00:00,  1.80it/s]\n"
     ]
    },
    {
     "ename": "ValueError",
     "evalue": "Length of values (200) does not match length of index (400)",
     "output_type": "error",
     "traceback": [
      "\u001b[0;31m---------------------------------------------------------------------------\u001b[0m",
      "\u001b[0;31mValueError\u001b[0m                                Traceback (most recent call last)",
      "Cell \u001b[0;32mIn[59], line 34\u001b[0m\n\u001b[1;32m     31\u001b[0m         predictions\u001b[38;5;241m.\u001b[39mappend(\u001b[38;5;28;01mNone\u001b[39;00m)  \u001b[38;5;66;03m# Manejo de errores: insertar None en caso de fallo\u001b[39;00m\n\u001b[1;32m     33\u001b[0m \u001b[38;5;66;03m# Add predictions to the DataFrame\u001b[39;00m\n\u001b[0;32m---> 34\u001b[0m \u001b[43mtrain_df\u001b[49m\u001b[43m[\u001b[49m\u001b[38;5;124;43m'\u001b[39;49m\u001b[38;5;124;43mpredicted_emotion\u001b[39;49m\u001b[38;5;124;43m'\u001b[39;49m\u001b[43m]\u001b[49m \u001b[38;5;241m=\u001b[39m predictions\n",
      "File \u001b[0;32m~/Desktop/Interspeech/interspeech-nlp/.venv/lib/python3.12/site-packages/pandas/core/frame.py:4311\u001b[0m, in \u001b[0;36mDataFrame.__setitem__\u001b[0;34m(self, key, value)\u001b[0m\n\u001b[1;32m   4308\u001b[0m     \u001b[38;5;28mself\u001b[39m\u001b[38;5;241m.\u001b[39m_setitem_array([key], value)\n\u001b[1;32m   4309\u001b[0m \u001b[38;5;28;01melse\u001b[39;00m:\n\u001b[1;32m   4310\u001b[0m     \u001b[38;5;66;03m# set column\u001b[39;00m\n\u001b[0;32m-> 4311\u001b[0m     \u001b[38;5;28;43mself\u001b[39;49m\u001b[38;5;241;43m.\u001b[39;49m\u001b[43m_set_item\u001b[49m\u001b[43m(\u001b[49m\u001b[43mkey\u001b[49m\u001b[43m,\u001b[49m\u001b[43m \u001b[49m\u001b[43mvalue\u001b[49m\u001b[43m)\u001b[49m\n",
      "File \u001b[0;32m~/Desktop/Interspeech/interspeech-nlp/.venv/lib/python3.12/site-packages/pandas/core/frame.py:4524\u001b[0m, in \u001b[0;36mDataFrame._set_item\u001b[0;34m(self, key, value)\u001b[0m\n\u001b[1;32m   4514\u001b[0m \u001b[38;5;28;01mdef\u001b[39;00m\u001b[38;5;250m \u001b[39m\u001b[38;5;21m_set_item\u001b[39m(\u001b[38;5;28mself\u001b[39m, key, value) \u001b[38;5;241m-\u001b[39m\u001b[38;5;241m>\u001b[39m \u001b[38;5;28;01mNone\u001b[39;00m:\n\u001b[1;32m   4515\u001b[0m \u001b[38;5;250m    \u001b[39m\u001b[38;5;124;03m\"\"\"\u001b[39;00m\n\u001b[1;32m   4516\u001b[0m \u001b[38;5;124;03m    Add series to DataFrame in specified column.\u001b[39;00m\n\u001b[1;32m   4517\u001b[0m \n\u001b[0;32m   (...)\u001b[0m\n\u001b[1;32m   4522\u001b[0m \u001b[38;5;124;03m    ensure homogeneity.\u001b[39;00m\n\u001b[1;32m   4523\u001b[0m \u001b[38;5;124;03m    \"\"\"\u001b[39;00m\n\u001b[0;32m-> 4524\u001b[0m     value, refs \u001b[38;5;241m=\u001b[39m \u001b[38;5;28;43mself\u001b[39;49m\u001b[38;5;241;43m.\u001b[39;49m\u001b[43m_sanitize_column\u001b[49m\u001b[43m(\u001b[49m\u001b[43mvalue\u001b[49m\u001b[43m)\u001b[49m\n\u001b[1;32m   4526\u001b[0m     \u001b[38;5;28;01mif\u001b[39;00m (\n\u001b[1;32m   4527\u001b[0m         key \u001b[38;5;129;01min\u001b[39;00m \u001b[38;5;28mself\u001b[39m\u001b[38;5;241m.\u001b[39mcolumns\n\u001b[1;32m   4528\u001b[0m         \u001b[38;5;129;01mand\u001b[39;00m value\u001b[38;5;241m.\u001b[39mndim \u001b[38;5;241m==\u001b[39m \u001b[38;5;241m1\u001b[39m\n\u001b[1;32m   4529\u001b[0m         \u001b[38;5;129;01mand\u001b[39;00m \u001b[38;5;129;01mnot\u001b[39;00m \u001b[38;5;28misinstance\u001b[39m(value\u001b[38;5;241m.\u001b[39mdtype, ExtensionDtype)\n\u001b[1;32m   4530\u001b[0m     ):\n\u001b[1;32m   4531\u001b[0m         \u001b[38;5;66;03m# broadcast across multiple columns if necessary\u001b[39;00m\n\u001b[1;32m   4532\u001b[0m         \u001b[38;5;28;01mif\u001b[39;00m \u001b[38;5;129;01mnot\u001b[39;00m \u001b[38;5;28mself\u001b[39m\u001b[38;5;241m.\u001b[39mcolumns\u001b[38;5;241m.\u001b[39mis_unique \u001b[38;5;129;01mor\u001b[39;00m \u001b[38;5;28misinstance\u001b[39m(\u001b[38;5;28mself\u001b[39m\u001b[38;5;241m.\u001b[39mcolumns, MultiIndex):\n",
      "File \u001b[0;32m~/Desktop/Interspeech/interspeech-nlp/.venv/lib/python3.12/site-packages/pandas/core/frame.py:5266\u001b[0m, in \u001b[0;36mDataFrame._sanitize_column\u001b[0;34m(self, value)\u001b[0m\n\u001b[1;32m   5263\u001b[0m     \u001b[38;5;28;01mreturn\u001b[39;00m _reindex_for_setitem(value, \u001b[38;5;28mself\u001b[39m\u001b[38;5;241m.\u001b[39mindex)\n\u001b[1;32m   5265\u001b[0m \u001b[38;5;28;01mif\u001b[39;00m is_list_like(value):\n\u001b[0;32m-> 5266\u001b[0m     \u001b[43mcom\u001b[49m\u001b[38;5;241;43m.\u001b[39;49m\u001b[43mrequire_length_match\u001b[49m\u001b[43m(\u001b[49m\u001b[43mvalue\u001b[49m\u001b[43m,\u001b[49m\u001b[43m \u001b[49m\u001b[38;5;28;43mself\u001b[39;49m\u001b[38;5;241;43m.\u001b[39;49m\u001b[43mindex\u001b[49m\u001b[43m)\u001b[49m\n\u001b[1;32m   5267\u001b[0m arr \u001b[38;5;241m=\u001b[39m sanitize_array(value, \u001b[38;5;28mself\u001b[39m\u001b[38;5;241m.\u001b[39mindex, copy\u001b[38;5;241m=\u001b[39m\u001b[38;5;28;01mTrue\u001b[39;00m, allow_2d\u001b[38;5;241m=\u001b[39m\u001b[38;5;28;01mTrue\u001b[39;00m)\n\u001b[1;32m   5268\u001b[0m \u001b[38;5;28;01mif\u001b[39;00m (\n\u001b[1;32m   5269\u001b[0m     \u001b[38;5;28misinstance\u001b[39m(value, Index)\n\u001b[1;32m   5270\u001b[0m     \u001b[38;5;129;01mand\u001b[39;00m value\u001b[38;5;241m.\u001b[39mdtype \u001b[38;5;241m==\u001b[39m \u001b[38;5;124m\"\u001b[39m\u001b[38;5;124mobject\u001b[39m\u001b[38;5;124m\"\u001b[39m\n\u001b[0;32m   (...)\u001b[0m\n\u001b[1;32m   5273\u001b[0m     \u001b[38;5;66;03m# TODO: Remove kludge in sanitize_array for string mode when enforcing\u001b[39;00m\n\u001b[1;32m   5274\u001b[0m     \u001b[38;5;66;03m# this deprecation\u001b[39;00m\n",
      "File \u001b[0;32m~/Desktop/Interspeech/interspeech-nlp/.venv/lib/python3.12/site-packages/pandas/core/common.py:573\u001b[0m, in \u001b[0;36mrequire_length_match\u001b[0;34m(data, index)\u001b[0m\n\u001b[1;32m    569\u001b[0m \u001b[38;5;250m\u001b[39m\u001b[38;5;124;03m\"\"\"\u001b[39;00m\n\u001b[1;32m    570\u001b[0m \u001b[38;5;124;03mCheck the length of data matches the length of the index.\u001b[39;00m\n\u001b[1;32m    571\u001b[0m \u001b[38;5;124;03m\"\"\"\u001b[39;00m\n\u001b[1;32m    572\u001b[0m \u001b[38;5;28;01mif\u001b[39;00m \u001b[38;5;28mlen\u001b[39m(data) \u001b[38;5;241m!=\u001b[39m \u001b[38;5;28mlen\u001b[39m(index):\n\u001b[0;32m--> 573\u001b[0m     \u001b[38;5;28;01mraise\u001b[39;00m \u001b[38;5;167;01mValueError\u001b[39;00m(\n\u001b[1;32m    574\u001b[0m         \u001b[38;5;124m\"\u001b[39m\u001b[38;5;124mLength of values \u001b[39m\u001b[38;5;124m\"\u001b[39m\n\u001b[1;32m    575\u001b[0m         \u001b[38;5;124mf\u001b[39m\u001b[38;5;124m\"\u001b[39m\u001b[38;5;124m(\u001b[39m\u001b[38;5;132;01m{\u001b[39;00m\u001b[38;5;28mlen\u001b[39m(data)\u001b[38;5;132;01m}\u001b[39;00m\u001b[38;5;124m) \u001b[39m\u001b[38;5;124m\"\u001b[39m\n\u001b[1;32m    576\u001b[0m         \u001b[38;5;124m\"\u001b[39m\u001b[38;5;124mdoes not match length of index \u001b[39m\u001b[38;5;124m\"\u001b[39m\n\u001b[1;32m    577\u001b[0m         \u001b[38;5;124mf\u001b[39m\u001b[38;5;124m\"\u001b[39m\u001b[38;5;124m(\u001b[39m\u001b[38;5;132;01m{\u001b[39;00m\u001b[38;5;28mlen\u001b[39m(index)\u001b[38;5;132;01m}\u001b[39;00m\u001b[38;5;124m)\u001b[39m\u001b[38;5;124m\"\u001b[39m\n\u001b[1;32m    578\u001b[0m     )\n",
      "\u001b[0;31mValueError\u001b[0m: Length of values (200) does not match length of index (400)"
     ]
    }
   ],
   "source": [
    "from sklearn.metrics import classification_report, confusion_matrix, accuracy_score\n",
    "from tqdm import tqdm\n",
    "\n",
    "# Lista para almacenar las predicciones\n",
    "predictions = []\n",
    "\n",
    "# Loop de predicción\n",
    "for idx, row in tqdm(dev_df.iterrows(), total=len(dev_df), desc=\"Processing predictions\"):\n",
    "    transcript = row['text']\n",
    "    try:\n",
    "        completion = openai.beta.chat.completions.parse(\n",
    "            model=\"ft:gpt-4o-2024-08-06:personal::Arkn2ZcA\",\n",
    "            messages=[\n",
    "                {\n",
    "                    \"role\": \"system\", \n",
    "                    \"content\": \"You are an assistant that classifies emotions based on transcripts.\"\n",
    "                },\n",
    "                {\n",
    "                    \"role\": \"user\", \n",
    "                    \"content\": f\"Classify this transcript into one of the following emotions: Angry (A), Sad (S), Happy (H), Surprise (U), Fear (F), Disgust (D), Contempt (C), Neutral (N). Transcript: {transcript}. Output only the letter that corresponds to the emotion.\"\n",
    "                }\n",
    "            ]\n",
    "        )\n",
    "        # Extraer la respuesta\n",
    "        response_message = completion.choices[0].message.content\n",
    "        emotion = response_message.strip()\n",
    "        predictions.append(emotion)\n",
    "        # print(f\"Predicción en el índice {idx}: {emotion}\")\n",
    "    except Exception as e:\n",
    "        print(f\"Error en el índice {idx}: {e}\")\n",
    "        predictions.append(None)  # Manejo de errores: insertar None en caso de fallo\n",
    "\n",
    "# Add predictions to the DataFrame\n",
    "dev_df['predicted_emotion'] = predictions"
   ]
  },
  {
   "cell_type": "code",
   "execution_count": 61,
   "metadata": {},
   "outputs": [],
   "source": [
    "def compute_metrics(true_labels, predicted_labels):\n",
    "\n",
    "    # Obtener reporte completo\n",
    "    report = classification_report(true_labels, predicted_labels, output_dict=True)\n",
    "    \n",
    "    # Obtener la matriz de confusión\n",
    "    conf_matrix = confusion_matrix(true_labels, predicted_labels)\n",
    "    \n",
    "    # Extraer métricas para cada clase y globales\n",
    "    metrics = {\n",
    "        'accuracy': report['accuracy'],\n",
    "        'weighted_f1': report['weighted avg']['f1-score'],\n",
    "        'macro_f1': report['macro avg']['f1-score'],\n",
    "        # 'weighted_precision': report['weighted avg']['precision'],\n",
    "        # 'weighted_recall': report['weighted avg']['recall'],\n",
    "        # La matriz de confusión no se incluye normalmente como una métrica devuelta porque no es un escalar\n",
    "        'confusion_matrix': conf_matrix.tolist()  # Convertir a lista para asegurarse de que es serializable si es necesario\n",
    "    }\n",
    "    \n",
    "    # # Añadir métricas específicas por clase si se requiere\n",
    "    # for label, scores in report.items():\n",
    "    #     if label not in [\"accuracy\", \"macro avg\", \"weighted avg\"]:\n",
    "    #         metrics[f'{label}_precision'] = scores['precision']\n",
    "    #         metrics[f'{label}_recall'] = scores['recall']\n",
    "    #         metrics[f'{label}_f1'] = scores['f1-score']\n",
    "    #         metrics[f'{label}_support'] = scores['support']\n",
    "    \n",
    "    return metrics"
   ]
  },
  {
   "cell_type": "code",
   "execution_count": 62,
   "metadata": {},
   "outputs": [
    {
     "name": "stdout",
     "output_type": "stream",
     "text": [
      "200\n",
      "200\n"
     ]
    },
    {
     "data": {
      "text/plain": [
       "{'accuracy': 0.295,\n",
       " 'weighted_f1': 0.25983788676761027,\n",
       " 'macro_f1': 0.25983788676761027,\n",
       " 'confusion_matrix': [[2, 13, 5, 1, 0, 0, 3, 1],\n",
       "  [0, 15, 3, 2, 0, 4, 0, 1],\n",
       "  [0, 8, 11, 1, 0, 1, 4, 0],\n",
       "  [2, 7, 2, 2, 0, 10, 1, 1],\n",
       "  [0, 5, 0, 1, 5, 11, 2, 1],\n",
       "  [1, 6, 3, 0, 0, 13, 2, 0],\n",
       "  [0, 5, 4, 1, 0, 4, 11, 0],\n",
       "  [0, 9, 3, 2, 0, 10, 1, 0]]}"
      ]
     },
     "execution_count": 62,
     "metadata": {},
     "output_type": "execute_result"
    }
   ],
   "source": [
    "true_labels = dev_df['PseudoEmo']\n",
    "predicted_labels = dev_df['predicted_emotion']\n",
    "print(len(true_labels))\n",
    "print(len(predicted_labels))\n",
    "\n",
    "metrics = compute_metrics(true_labels, predicted_labels)\n",
    "metrics"
   ]
  },
  {
   "cell_type": "code",
   "execution_count": 57,
   "metadata": {},
   "outputs": [],
   "source": [
    "num_labels = 8\n",
    "id2label = dict(zip(train_df[\"PseudoEmoNum\"], train_df[\"PseudoEmo\"]))\n",
    "label2id = dict(zip(train_df[\"PseudoEmo\"], train_df[\"PseudoEmoNum\"]))"
   ]
  },
  {
   "cell_type": "code",
   "execution_count": 63,
   "metadata": {},
   "outputs": [
    {
     "data": {
      "image/png": "[encoded data removed]",
      "text/plain": [
       "<Figure size 1000x800 with 2 Axes>"
      ]
     },
     "metadata": {},
     "output_type": "display_data"
    }
   ],
   "source": [
    "import matplotlib.pyplot as plt\n",
    "import numpy as np\n",
    "\n",
    "labels = label2id.keys()\n",
    "conf_matrix = metrics['confusion_matrix']\n",
    "\n",
    "# Crear el gráfico de la matriz de confusión\n",
    "plt.figure(figsize=(10, 8))\n",
    "plt.imshow(conf_matrix, interpolation='nearest', cmap=plt.cm.Blues)\n",
    "plt.title(\"Confusion Matrix\")\n",
    "plt.colorbar()\n",
    "\n",
    "# Agregar etiquetas\n",
    "tick_marks = np.arange(len(labels))\n",
    "plt.xticks(tick_marks, labels)\n",
    "plt.yticks(tick_marks, labels)\n",
    "\n",
    "# Rótulos de valores dentro de cada celda\n",
    "conf_matrix = np.array(conf_matrix)\n",
    "\n",
    "# Calcular el umbral\n",
    "thresh = conf_matrix.max() / 2\n",
    "for i, j in np.ndindex(conf_matrix.shape):\n",
    "    plt.text(\n",
    "        j, i, format(conf_matrix[i, j], 'd'),\n",
    "        horizontalalignment=\"center\",\n",
    "        color=\"white\" if conf_matrix[i, j] > thresh else \"black\"\n",
    "    )\n",
    "\n",
    "# Etiquetas de los ejes\n",
    "plt.ylabel('True Label')\n",
    "plt.xlabel('Predicted Label')\n",
    "plt.tight_layout()\n",
    "plt.show()"
   ]
  }
 ],
 "metadata": {
  "kernelspec": {
   "display_name": ".venv",
   "language": "python",
   "name": "python3"
  },
  "language_info": {
   "codemirror_mode": {
    "name": "ipython",
    "version": 3
   },
   "file_extension": ".py",
   "mimetype": "text/x-python",
   "name": "python",
   "nbconvert_exporter": "python",
   "pygments_lexer": "ipython3",
   "version": "3.12.3"
  }
 },
 "nbformat": 4,
 "nbformat_minor": 2
}
