{
 "cells": [
  {
   "cell_type": "markdown",
   "metadata": {},
   "source": [
    "# Test Interspeech"
   ]
  },
  {
   "cell_type": "code",
   "execution_count": 3,
   "metadata": {},
   "outputs": [],
   "source": [
    "PATH_TRANSCRIPTS = '/export/data_gpm/empatia/databases/MSP-podcast/Transcripts'"
   ]
  },
  {
   "cell_type": "code",
   "execution_count": 4,
   "metadata": {},
   "outputs": [
    {
     "name": "stdout",
     "output_type": "stream",
     "text": [
      "\n",
      "Contenido del archivo MSP-PODCAST_2432_0200.txt:\n",
      "... happening there as well. and you have the black shirts and the brown shirts where the police either turned a blind eye or actively supported them, usually when they went on these rampages-\n",
      "\n",
      "Contenido del archivo MSP-PODCAST_0133_0033.txt:\n",
      " look they're - they're reporting on absolute admitted facts. ha-ha.\" \n",
      "\n",
      "Contenido del archivo MSP-PODCAST_0288_0019.txt:\n",
      "mr. [excess 00:01:24] also known as ike, bbc radio. download the bbc app. listen, share, and comment and whatever else [peel 00:01:29] says.\n",
      "\n",
      "Contenido del archivo MSP-PODCAST_2546_0333_0003.txt:\n",
      "and instead of us just handing people masks...\n",
      "\n",
      "Contenido del archivo MSP-PODCAST_3820_0101_0000.txt:\n",
      "or you're just done with all of the stuff that you've been doing, like system tuning.\n"
     ]
    }
   ],
   "source": [
    "import os\n",
    "\n",
    "def imprimir_contenido_txt(path, n):\n",
    "    # Verificar si el path existe\n",
    "    if not os.path.exists(path):\n",
    "        print(f\"El path {path} no existe.\")\n",
    "        return\n",
    "    \n",
    "    # Listar archivos en el directorio que terminan con .txt\n",
    "    archivos = [f for f in os.listdir(path) if f.endswith('.txt')]\n",
    "    \n",
    "    # Si hay menos archivos que los solicitados, solo muestra los disponibles\n",
    "    archivos_a_mostrar = archivos[:n]\n",
    "    \n",
    "    if not archivos_a_mostrar:\n",
    "        print(\"No se encontraron archivos .txt.\")\n",
    "    else:\n",
    "        for archivo in archivos_a_mostrar:\n",
    "            print(f\"\\nContenido del archivo {archivo}:\")\n",
    "            archivo_path = os.path.join(path, archivo)\n",
    "            try:\n",
    "                with open(archivo_path, 'r') as f:\n",
    "                    print(f.read())  # Imprime el contenido del archivo\n",
    "            except Exception as e:\n",
    "                print(f\"Error al leer el archivo {archivo}: {e}\")\n",
    "\n",
    "imprimir_contenido_txt(PATH_TRANSCRIPTS, 5)\n"
   ]
  },
  {
   "cell_type": "markdown",
   "metadata": {},
   "source": [
    "## Data"
   ]
  },
  {
   "cell_type": "code",
   "execution_count": 9,
   "metadata": {},
   "outputs": [
    {
     "name": "stderr",
     "output_type": "stream",
     "text": [
      "Procesando archivos: 100%|██████████| 116221/116221 [04:11<00:00, 462.67archivo/s]\n"
     ]
    },
    {
     "name": "stdout",
     "output_type": "stream",
     "text": [
      "Archivo CSV exportado exitosamente a: /home/jggomez/Desktop/IRIS/Interspeech/transcripts.csv\n",
      "                         FileName  \\\n",
      "0       MSP-PODCAST_2432_0200.txt   \n",
      "1       MSP-PODCAST_0133_0033.txt   \n",
      "2       MSP-PODCAST_0288_0019.txt   \n",
      "3  MSP-PODCAST_2546_0333_0003.txt   \n",
      "4  MSP-PODCAST_3820_0101_0000.txt   \n",
      "\n",
      "                                                text  \n",
      "0  ... happening there as well. and you have the ...  \n",
      "1   look they're - they're reporting on absolute ...  \n",
      "2  mr. [excess 00:01:24] also known as ike, bbc r...  \n",
      "3     and instead of us just handing people masks...  \n",
      "4  or you're just done with all of the stuff that...  \n"
     ]
    }
   ],
   "source": [
    "import os\n",
    "import pandas as pd\n",
    "from tqdm import tqdm  # Importamos tqdm para la barra de progreso\n",
    "\n",
    "def crear_dataframe_txt(path, output_csv):\n",
    "    # Verificar si el path existe\n",
    "    if not os.path.exists(path):\n",
    "        print(f\"El path {path} no existe.\")\n",
    "        return None\n",
    "    \n",
    "    # Listar archivos en el directorio que terminan con .txt\n",
    "    archivos = [f for f in os.listdir(path) if f.endswith('.txt')]\n",
    "    \n",
    "    if not archivos:\n",
    "        print(\"No se encontraron archivos .txt.\")\n",
    "        return None\n",
    "    \n",
    "    # Crear listas para almacenar los datos\n",
    "    nombres = []\n",
    "    textos = []\n",
    "    \n",
    "    # Recorrer los archivos .txt y leer su contenido con una barra de progreso\n",
    "    for i, archivo in enumerate(tqdm(archivos, desc=\"Procesando archivos\", unit=\"archivo\")):\n",
    "        archivo_path = os.path.join(path, archivo)\n",
    "        try:\n",
    "            with open(archivo_path, 'r') as f:\n",
    "                nombres.append(archivo)\n",
    "                textos.append(f.read())  # Almacena el contenido del archivo\n",
    "        except Exception as e:\n",
    "            print(f\"Error al leer el archivo {archivo}: {e}\")\n",
    "    \n",
    "    # Crear el DataFrame\n",
    "    df = pd.DataFrame({\n",
    "        'FileName': nombres,\n",
    "        'text': textos\n",
    "    })\n",
    "    \n",
    "    # Determinar el directorio del notebook y construir la ruta de salida\n",
    "    output_path = os.path.join(os.getcwd(), output_csv)\n",
    "\n",
    "    # Exportar el DataFrame a un archivo CSV\n",
    "    try:\n",
    "        df.to_csv(output_path, index=False)\n",
    "        print(f\"Archivo CSV exportado exitosamente a: {output_path}\")\n",
    "    except Exception as e:\n",
    "        print(f\"Error al exportar el archivo CSV: {e}\")\n",
    "    \n",
    "    return df\n",
    "\n",
    "\n",
    "df_txt = crear_dataframe_txt(PATH_TRANSCRIPTS, 'transcripts.csv')\n",
    "\n",
    "if df_txt is not None:\n",
    "    print(df_txt.head())  # Muestra las primeras filas del DataFrame\n"
   ]
  },
  {
   "cell_type": "code",
   "execution_count": 10,
   "metadata": {},
   "outputs": [
    {
     "name": "stdout",
     "output_type": "stream",
     "text": [
      "DataFrame con .txt:\n",
      "                         FileName  \\\n",
      "0       MSP-PODCAST_2432_0200.txt   \n",
      "1       MSP-PODCAST_0133_0033.txt   \n",
      "2       MSP-PODCAST_0288_0019.txt   \n",
      "3  MSP-PODCAST_2546_0333_0003.txt   \n",
      "4  MSP-PODCAST_3820_0101_0000.txt   \n",
      "\n",
      "                                                text  \n",
      "0  ... happening there as well. and you have the ...  \n",
      "1   look they're - they're reporting on absolute ...  \n",
      "2  mr. [excess 00:01:24] also known as ike, bbc r...  \n",
      "3     and instead of us just handing people masks...  \n",
      "4  or you're just done with all of the stuff that...  \n",
      "DataFrame con .wav:\n",
      "                    FileName EmoClass  EmoAct  EmoVal  EmoDom  SpkrID  Gender  \\\n",
      "0  MSP-PODCAST_0002_0033.wav        N     4.8     4.2     5.4     127  Female   \n",
      "1  MSP-PODCAST_0002_0039.wav        N     4.0     4.2     4.2     127  Female   \n",
      "2  MSP-PODCAST_0002_0051.wav        N     4.0     4.2     4.2     127  Female   \n",
      "3  MSP-PODCAST_0002_0059.wav        X     4.0     3.8     4.0     128  Female   \n",
      "4  MSP-PODCAST_0002_0061.wav        F     3.4     2.8     4.2     128  Female   \n",
      "\n",
      "     Split_Set  \n",
      "0  Development  \n",
      "1  Development  \n",
      "2  Development  \n",
      "3  Development  \n",
      "4  Development  \n",
      "DataFrame combinado:\n",
      "                     FileName  \\\n",
      "0       MSP-PODCAST_2432_0200   \n",
      "1       MSP-PODCAST_0133_0033   \n",
      "2       MSP-PODCAST_0288_0019   \n",
      "3  MSP-PODCAST_2546_0333_0003   \n",
      "4  MSP-PODCAST_3820_0101_0000   \n",
      "\n",
      "                                                text EmoClass    EmoAct  \\\n",
      "0  ... happening there as well. and you have the ...        S  2.800000   \n",
      "1   look they're - they're reporting on absolute ...        D  6.800000   \n",
      "2  mr. [excess 00:01:24] also known as ike, bbc r...        H  5.333333   \n",
      "3     and instead of us just handing people masks...        H  4.600000   \n",
      "4  or you're just done with all of the stuff that...        N  4.200000   \n",
      "\n",
      "     EmoVal  EmoDom  SpkrID  Gender    Split_Set  \n",
      "0  2.200000    3.40    1425    Male        Train  \n",
      "1  2.800000    6.60      54    Male  Development  \n",
      "2  5.416667    4.75     123    Male        Train  \n",
      "3  4.000000    4.80    1644    Male  Development  \n",
      "4  3.400000    4.40    2289  Female        Train  \n"
     ]
    }
   ],
   "source": [
    "# Cargar el primer CSV (el que tiene los archivos .txt)\n",
    "df_txt = pd.read_csv('transcripts.csv')\n",
    "\n",
    "# Cargar el segundo CSV (el que tiene los archivos .wav)\n",
    "df_wav = pd.read_csv('/export/data_gpm/empatia/databases/MSP-podcast/Labels/labels_consensus.csv')\n",
    "\n",
    "# Mostrar las primeras filas de ambos DataFrames para ver la estructura\n",
    "print(\"DataFrame con .txt:\")\n",
    "print(df_txt.head())\n",
    "\n",
    "print(\"DataFrame con .wav:\")\n",
    "print(df_wav.head())\n",
    "\n",
    "# Eliminar la extensión '.txt' en el DataFrame con los archivos .txt\n",
    "df_txt['FileName'] = df_txt['FileName'].apply(lambda x: x.replace('.txt', ''))\n",
    "\n",
    "# Eliminar la extensión '.wav' en el DataFrame con los archivos .wav\n",
    "df_wav['FileName'] = df_wav['FileName'].apply(lambda x: x.replace('.wav', ''))\n",
    "\n",
    "# Realizar el merge de ambos DataFrames en la columna 'FileName'\n",
    "df_combinado = pd.merge(df_txt, df_wav, on='FileName', how='inner')  # 'inner' para solo coincidencias\n",
    "\n",
    "# Mostrar las primeras filas del DataFrame combinado\n",
    "print(\"DataFrame combinado:\")\n",
    "print(df_combinado.head())\n",
    "\n",
    "# Exportar el DataFrame combinado a un archivo CSV\n",
    "df_combinado.to_csv('data.csv', index=False)\n"
   ]
  },
  {
   "cell_type": "markdown",
   "metadata": {},
   "source": [
    "## Gender"
   ]
  },
  {
   "cell_type": "code",
   "execution_count": 1,
   "metadata": {},
   "outputs": [
    {
     "ename": "NameError",
     "evalue": "name 'df_combinado' is not defined",
     "output_type": "error",
     "traceback": [
      "\u001b[0;31m---------------------------------------------------------------------------\u001b[0m",
      "\u001b[0;31mNameError\u001b[0m                                 Traceback (most recent call last)",
      "Cell \u001b[0;32mIn[1], line 1\u001b[0m\n\u001b[0;32m----> 1\u001b[0m df_male \u001b[38;5;241m=\u001b[39m \u001b[43mdf_combinado\u001b[49m[df_combinado[\u001b[38;5;124m'\u001b[39m\u001b[38;5;124mGender\u001b[39m\u001b[38;5;124m'\u001b[39m] \u001b[38;5;241m==\u001b[39m \u001b[38;5;124m'\u001b[39m\u001b[38;5;124mMale\u001b[39m\u001b[38;5;124m'\u001b[39m]\n\u001b[1;32m      2\u001b[0m df_female \u001b[38;5;241m=\u001b[39m df_combinado[df_combinado[\u001b[38;5;124m'\u001b[39m\u001b[38;5;124mGender\u001b[39m\u001b[38;5;124m'\u001b[39m] \u001b[38;5;241m==\u001b[39m \u001b[38;5;124m'\u001b[39m\u001b[38;5;124mFemale\u001b[39m\u001b[38;5;124m'\u001b[39m]\n\u001b[1;32m      4\u001b[0m df_male\u001b[38;5;241m.\u001b[39mto_csv(\u001b[38;5;124m'\u001b[39m\u001b[38;5;124mdata_male.csv\u001b[39m\u001b[38;5;124m'\u001b[39m, index\u001b[38;5;241m=\u001b[39m\u001b[38;5;28;01mFalse\u001b[39;00m)\n",
      "\u001b[0;31mNameError\u001b[0m: name 'df_combinado' is not defined"
     ]
    }
   ],
   "source": [
    "df_male = df_combinado[df_combinado['Gender'] == 'Male']\n",
    "df_female = df_combinado[df_combinado['Gender'] == 'Female']\n",
    "\n",
    "df_male.to_csv('data_male.csv', index=False)\n",
    "df_female.to_csv('data_female.csv', index=False)"
   ]
  }
 ],
 "metadata": {
  "kernelspec": {
   "display_name": ".venv",
   "language": "python",
   "name": "python3"
  },
  "language_info": {
   "codemirror_mode": {
    "name": "ipython",
    "version": 3
   },
   "file_extension": ".py",
   "mimetype": "text/x-python",
   "name": "python",
   "nbconvert_exporter": "python",
   "pygments_lexer": "ipython3",
   "version": "3.12.3"
  }
 },
 "nbformat": 4,
 "nbformat_minor": 2
}
