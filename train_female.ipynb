{
 "cells": [
  {
   "cell_type": "markdown",
   "metadata": {},
   "source": [
    "# Train Interspeech"
   ]
  },
  {
   "cell_type": "markdown",
   "metadata": {},
   "source": [
    "## Data"
   ]
  },
  {
   "cell_type": "code",
   "execution_count": 1,
   "metadata": {},
   "outputs": [
    {
     "name": "stdout",
     "output_type": "stream",
     "text": [
      "17581\n",
      "17576\n"
     ]
    },
    {
     "data": {
      "text/html": [
       "<div>\n",
       "<style scoped>\n",
       "    .dataframe tbody tr th:only-of-type {\n",
       "        vertical-align: middle;\n",
       "    }\n",
       "\n",
       "    .dataframe tbody tr th {\n",
       "        vertical-align: top;\n",
       "    }\n",
       "\n",
       "    .dataframe thead th {\n",
       "        text-align: right;\n",
       "    }\n",
       "</style>\n",
       "<table border=\"1\" class=\"dataframe\">\n",
       "  <thead>\n",
       "    <tr style=\"text-align: right;\">\n",
       "      <th></th>\n",
       "      <th>FileName</th>\n",
       "      <th>text</th>\n",
       "      <th>EmoClass</th>\n",
       "      <th>EmoAct</th>\n",
       "      <th>EmoVal</th>\n",
       "      <th>EmoDom</th>\n",
       "      <th>SpkrID</th>\n",
       "      <th>Gender</th>\n",
       "      <th>Split_Set</th>\n",
       "      <th>PodcastID</th>\n",
       "      <th>StratifyCol</th>\n",
       "      <th>NewPartition</th>\n",
       "      <th>PseudoEmo</th>\n",
       "      <th>InvEntropyNorm</th>\n",
       "      <th>PseudoEmoNum</th>\n",
       "    </tr>\n",
       "  </thead>\n",
       "  <tbody>\n",
       "    <tr>\n",
       "      <th>0</th>\n",
       "      <td>MSP-PODCAST_3820_0101_0000</td>\n",
       "      <td>or you're just done with all of the stuff that...</td>\n",
       "      <td>N</td>\n",
       "      <td>4.2</td>\n",
       "      <td>3.4</td>\n",
       "      <td>4.4</td>\n",
       "      <td>2289</td>\n",
       "      <td>Female</td>\n",
       "      <td>Train</td>\n",
       "      <td>3820</td>\n",
       "      <td>3820_2289_N</td>\n",
       "      <td>Train</td>\n",
       "      <td>N</td>\n",
       "      <td>1.000000</td>\n",
       "      <td>0</td>\n",
       "    </tr>\n",
       "    <tr>\n",
       "      <th>1</th>\n",
       "      <td>MSP-PODCAST_0727_0275</td>\n",
       "      <td>or just end it. if you are uncertain about it,...</td>\n",
       "      <td>X</td>\n",
       "      <td>4.2</td>\n",
       "      <td>3.2</td>\n",
       "      <td>4.2</td>\n",
       "      <td>471</td>\n",
       "      <td>Female</td>\n",
       "      <td>Development</td>\n",
       "      <td>727</td>\n",
       "      <td>0727_471_X</td>\n",
       "      <td>Train</td>\n",
       "      <td>F</td>\n",
       "      <td>0.199354</td>\n",
       "      <td>7</td>\n",
       "    </tr>\n",
       "    <tr>\n",
       "      <th>2</th>\n",
       "      <td>MSP-PODCAST_0452_0122</td>\n",
       "      <td>it's like someone on a railroad track.</td>\n",
       "      <td>H</td>\n",
       "      <td>5.0</td>\n",
       "      <td>5.4</td>\n",
       "      <td>3.8</td>\n",
       "      <td>638</td>\n",
       "      <td>Female</td>\n",
       "      <td>Train</td>\n",
       "      <td>452</td>\n",
       "      <td>0452_638_H</td>\n",
       "      <td>Test</td>\n",
       "      <td>H</td>\n",
       "      <td>1.000000</td>\n",
       "      <td>1</td>\n",
       "    </tr>\n",
       "    <tr>\n",
       "      <th>3</th>\n",
       "      <td>MSP-PODCAST_1664_0017_0003</td>\n",
       "      <td>i don't know why they're a key point for me. i...</td>\n",
       "      <td>N</td>\n",
       "      <td>4.4</td>\n",
       "      <td>3.6</td>\n",
       "      <td>3.8</td>\n",
       "      <td>953</td>\n",
       "      <td>Female</td>\n",
       "      <td>Train</td>\n",
       "      <td>1664</td>\n",
       "      <td>1664_953_N</td>\n",
       "      <td>Train</td>\n",
       "      <td>N</td>\n",
       "      <td>1.000000</td>\n",
       "      <td>0</td>\n",
       "    </tr>\n",
       "    <tr>\n",
       "      <th>4</th>\n",
       "      <td>MSP-PODCAST_0675_0430</td>\n",
       "      <td>this was definitely one of them. omg.</td>\n",
       "      <td>X</td>\n",
       "      <td>3.2</td>\n",
       "      <td>4.4</td>\n",
       "      <td>4.0</td>\n",
       "      <td>1261</td>\n",
       "      <td>Female</td>\n",
       "      <td>Train</td>\n",
       "      <td>675</td>\n",
       "      <td>0675_1261_X</td>\n",
       "      <td>Test</td>\n",
       "      <td>N</td>\n",
       "      <td>0.222219</td>\n",
       "      <td>0</td>\n",
       "    </tr>\n",
       "  </tbody>\n",
       "</table>\n",
       "</div>"
      ],
      "text/plain": [
       "                     FileName  \\\n",
       "0  MSP-PODCAST_3820_0101_0000   \n",
       "1       MSP-PODCAST_0727_0275   \n",
       "2       MSP-PODCAST_0452_0122   \n",
       "3  MSP-PODCAST_1664_0017_0003   \n",
       "4       MSP-PODCAST_0675_0430   \n",
       "\n",
       "                                                text EmoClass  EmoAct  EmoVal  \\\n",
       "0  or you're just done with all of the stuff that...        N     4.2     3.4   \n",
       "1  or just end it. if you are uncertain about it,...        X     4.2     3.2   \n",
       "2             it's like someone on a railroad track.        H     5.0     5.4   \n",
       "3  i don't know why they're a key point for me. i...        N     4.4     3.6   \n",
       "4              this was definitely one of them. omg.        X     3.2     4.4   \n",
       "\n",
       "   EmoDom  SpkrID  Gender    Split_Set  PodcastID  StratifyCol NewPartition  \\\n",
       "0     4.4    2289  Female        Train       3820  3820_2289_N        Train   \n",
       "1     4.2     471  Female  Development        727   0727_471_X        Train   \n",
       "2     3.8     638  Female        Train        452   0452_638_H         Test   \n",
       "3     3.8     953  Female        Train       1664   1664_953_N        Train   \n",
       "4     4.0    1261  Female        Train        675  0675_1261_X         Test   \n",
       "\n",
       "  PseudoEmo  InvEntropyNorm  PseudoEmoNum  \n",
       "0         N        1.000000             0  \n",
       "1         F        0.199354             7  \n",
       "2         H        1.000000             1  \n",
       "3         N        1.000000             0  \n",
       "4         N        0.222219             0  "
      ]
     },
     "execution_count": 1,
     "metadata": {},
     "output_type": "execute_result"
    }
   ],
   "source": [
    "import pandas as pd\n",
    "\n",
    "# Cargar el CSV para male\n",
    "data = pd.read_csv('data/data_female.csv')\n",
    "print(len(data))\n",
    "# Eliminar filas con valores nulos solo en la columna 'text'\n",
    "data = data.dropna(subset=['text'])\n",
    "print(len(data))\n",
    "data.head()"
   ]
  },
  {
   "cell_type": "code",
   "execution_count": 2,
   "metadata": {},
   "outputs": [
    {
     "name": "stdout",
     "output_type": "stream",
     "text": [
      "Conjunto Train:\n",
      "                     FileName  \\\n",
      "0  MSP-PODCAST_3820_0101_0000   \n",
      "1       MSP-PODCAST_0727_0275   \n",
      "3  MSP-PODCAST_1664_0017_0003   \n",
      "5       MSP-PODCAST_5756_0423   \n",
      "7  MSP-PODCAST_0861_0097_0002   \n",
      "\n",
      "                                                text EmoClass  EmoAct  EmoVal  \\\n",
      "0  or you're just done with all of the stuff that...        N     4.2     3.4   \n",
      "1  or just end it. if you are uncertain about it,...        X     4.2     3.2   \n",
      "3  i don't know why they're a key point for me. i...        N     4.4     3.6   \n",
      "5  this is a great way to now add it in the back ...        N     3.4     4.8   \n",
      "7   but it would be very hard for me to accept th...        N     4.8     4.4   \n",
      "\n",
      "   EmoDom  SpkrID  Gender    Split_Set  PodcastID  StratifyCol NewPartition  \\\n",
      "0     4.4    2289  Female        Train       3820  3820_2289_N        Train   \n",
      "1     4.2     471  Female  Development        727   0727_471_X        Train   \n",
      "3     3.8     953  Female        Train       1664   1664_953_N        Train   \n",
      "5     4.8    3279  Female        Train       5756  5756_3279_N        Train   \n",
      "7     5.0    1270  Female        Train        861  0861_1270_N        Train   \n",
      "\n",
      "  PseudoEmo  InvEntropyNorm  PseudoEmoNum  \n",
      "0         N        1.000000             0  \n",
      "1         F        0.199354             7  \n",
      "3         N        1.000000             0  \n",
      "5         N        1.000000             0  \n",
      "7         N        1.000000             0  \n",
      "Conjunto Development:\n",
      "                 FileName                                               text  \\\n",
      "6   MSP-PODCAST_0804_0783        i have a... wake up. not wake up, but be...   \n",
      "9   MSP-PODCAST_0803_0075                   and did you study art in school?   \n",
      "14  MSP-PODCAST_2954_0084   even before the pandemic pushed most universi...   \n",
      "22  MSP-PODCAST_1644_0121  should charities, or nonprofit organizations d...   \n",
      "37  MSP-PODCAST_3198_0147  but my dad's really found it very difficult th...   \n",
      "\n",
      "   EmoClass    EmoAct  EmoVal  EmoDom  SpkrID  Gender    Split_Set  PodcastID  \\\n",
      "6         X  4.800000     3.2     4.2    1302  Female        Train        804   \n",
      "9         N  2.833333     4.5     4.0     632  Female        Train        803   \n",
      "14        X  4.800000     4.4     4.8    1384  Female        Train       2954   \n",
      "22        N  5.600000     5.0     5.8    1446  Female        Train       1644   \n",
      "37        S  2.400000     2.4     4.4    2142  Female  Development       3198   \n",
      "\n",
      "    StratifyCol NewPartition PseudoEmo  InvEntropyNorm  PseudoEmoNum  \n",
      "6   0804_1302_X   Evaluation         C        0.293010             4  \n",
      "9    0803_632_N   Evaluation         N        1.000000             0  \n",
      "14  2954_1384_X   Evaluation         U        0.358826             5  \n",
      "22  1644_1446_N   Evaluation         N        1.000000             0  \n",
      "37  3198_2142_S   Evaluation         S        1.000000             3  \n",
      "Conjunto Test:\n",
      "                      FileName  \\\n",
      "2        MSP-PODCAST_0452_0122   \n",
      "4        MSP-PODCAST_0675_0430   \n",
      "13  MSP-PODCAST_4070_0071_0000   \n",
      "17       MSP-PODCAST_0063_0013   \n",
      "20       MSP-PODCAST_2391_0131   \n",
      "\n",
      "                                                 text EmoClass  EmoAct  \\\n",
      "2              it's like someone on a railroad track.        H     5.0   \n",
      "4               this was definitely one of them. omg.        X     3.2   \n",
      "13  if i know, it's all about what you believe tha...        H     4.4   \n",
      "17  another option is to substitute a descriptive ...        D     5.0   \n",
      "20  so angela, first off, let's talk about the gig...        S     5.0   \n",
      "\n",
      "    EmoVal  EmoDom  SpkrID  Gender Split_Set  PodcastID  StratifyCol  \\\n",
      "2      5.4     3.8     638  Female     Train        452   0452_638_H   \n",
      "4      4.4     4.0    1261  Female     Train        675  0675_1261_X   \n",
      "13     4.6     4.6    2375  Female     Train       4070  4070_2375_H   \n",
      "17     5.0     4.8     223  Female     Train         63   0063_223_D   \n",
      "20     4.0     5.0    1339  Female     Train       2391  2391_1339_S   \n",
      "\n",
      "   NewPartition PseudoEmo  InvEntropyNorm  PseudoEmoNum  \n",
      "2          Test         H        1.000000             1  \n",
      "4          Test         N        0.222219             0  \n",
      "13         Test         H        1.000000             1  \n",
      "17         Test         D        1.000000             6  \n",
      "20         Test         S        1.000000             3  \n"
     ]
    }
   ],
   "source": [
    "# Filtrar los datos en tres conjuntos basados en la columna 'Split_Set'\n",
    "train_df = data.loc[data['NewPartition'] == 'Train']\n",
    "dev_df = data.loc[data['NewPartition'] == 'Evaluation']\n",
    "test_df = data.loc[data['NewPartition'] == 'Test']\n",
    "\n",
    "# Verifica las primeras filas de cada conjunto\n",
    "print(\"Conjunto Train:\")\n",
    "print(train_df.head())\n",
    "\n",
    "print(\"Conjunto Development:\")\n",
    "print(dev_df.head())\n",
    "\n",
    "print(\"Conjunto Test:\")\n",
    "print(test_df.head())"
   ]
  },
  {
   "cell_type": "code",
   "execution_count": 3,
   "metadata": {},
   "outputs": [],
   "source": [
    "# # Establecer la semilla para garantizar reproducibilidad\n",
    "# seed = 42\n",
    "\n",
    "# # Seleccionar aleatoriamente las primeras N filas del conjunto de entrenamiento\n",
    "# train_df = train_df.sample(n=1000, random_state=seed)\n",
    "\n",
    "# # Seleccionar aleatoriamente las primeras N filas del conjunto de desarrollo\n",
    "# dev_df = dev_df.sample(n=250, random_state=seed)"
   ]
  },
  {
   "cell_type": "code",
   "execution_count": 4,
   "metadata": {},
   "outputs": [],
   "source": [
    "num_labels = 8\n",
    "id2label = dict(zip(train_df[\"PseudoEmoNum\"], train_df[\"PseudoEmo\"]))\n",
    "label2id = dict(zip(train_df[\"PseudoEmo\"], train_df[\"PseudoEmoNum\"]))"
   ]
  },
  {
   "cell_type": "code",
   "execution_count": 5,
   "metadata": {},
   "outputs": [
    {
     "name": "stderr",
     "output_type": "stream",
     "text": [
      "/var/folders/dh/_ks73kfn57l67vxm7b5y16qw0000gn/T/ipykernel_65662/1053012838.py:2: SettingWithCopyWarning: \n",
      "A value is trying to be set on a copy of a slice from a DataFrame.\n",
      "Try using .loc[row_indexer,col_indexer] = value instead\n",
      "\n",
      "See the caveats in the documentation: https://pandas.pydata.org/pandas-docs/stable/user_guide/indexing.html#returning-a-view-versus-a-copy\n",
      "  train_df['PseudoEmoNum'] = train_df['PseudoEmoNum'].astype(int)\n",
      "/var/folders/dh/_ks73kfn57l67vxm7b5y16qw0000gn/T/ipykernel_65662/1053012838.py:3: SettingWithCopyWarning: \n",
      "A value is trying to be set on a copy of a slice from a DataFrame.\n",
      "Try using .loc[row_indexer,col_indexer] = value instead\n",
      "\n",
      "See the caveats in the documentation: https://pandas.pydata.org/pandas-docs/stable/user_guide/indexing.html#returning-a-view-versus-a-copy\n",
      "  dev_df['PseudoEmoNum'] = dev_df['PseudoEmoNum'].astype(int)\n"
     ]
    }
   ],
   "source": [
    "# Convertir EmoClass a valores numéricos si es necesario\n",
    "train_df['PseudoEmoNum'] = train_df['PseudoEmoNum'].astype(int)\n",
    "dev_df['PseudoEmoNum'] = dev_df['PseudoEmoNum'].astype(int)"
   ]
  },
  {
   "cell_type": "code",
   "execution_count": 6,
   "metadata": {},
   "outputs": [
    {
     "name": "stderr",
     "output_type": "stream",
     "text": [
      "/Users/jorgegarcelan/Desktop/UNI/6-LAB TSC/interspeech-nlp/.venv/lib/python3.9/site-packages/urllib3/__init__.py:35: NotOpenSSLWarning: urllib3 v2 only supports OpenSSL 1.1.1+, currently the 'ssl' module is compiled with 'LibreSSL 2.8.3'. See: https://github.com/urllib3/urllib3/issues/3020\n",
      "  warnings.warn(\n",
      "/Users/jorgegarcelan/Desktop/UNI/6-LAB TSC/interspeech-nlp/.venv/lib/python3.9/site-packages/tqdm/auto.py:21: TqdmWarning: IProgress not found. Please update jupyter and ipywidgets. See https://ipywidgets.readthedocs.io/en/stable/user_install.html\n",
      "  from .autonotebook import tqdm as notebook_tqdm\n",
      "Map: 100%|██████████| 9996/9996 [00:00<00:00, 15557.30 examples/s]\n",
      "Map: 100%|██████████| 3321/3321 [00:00<00:00, 16719.86 examples/s]\n"
     ]
    }
   ],
   "source": [
    "from datasets import Dataset\n",
    "from transformers import AutoTokenizer\n",
    "\n",
    "# Modelo\n",
    "model_ckpt = \"distilbert-base-uncased\"\n",
    "\n",
    "# Cargar el tokenizer\n",
    "tokenizer = AutoTokenizer.from_pretrained(model_ckpt)\n",
    "\n",
    "# Función para tokenizar los datos\n",
    "def tokenize_function(examples):\n",
    "    # Verificar que estamos pasando una lista de textos\n",
    "    texts = examples['text']\n",
    "    return tokenizer(texts, padding=\"max_length\", truncation=True)\n",
    "\n",
    "# Asegurarse de que 'train_df' y 'dev_df' son objetos Dataset de Hugging Face\n",
    "train_dataset = Dataset.from_pandas(train_df)\n",
    "dev_dataset = Dataset.from_pandas(dev_df)\n",
    "\n",
    "# Tokenizamos ambos conjuntos de datos\n",
    "train_dataset = train_dataset.map(tokenize_function, batched=True)\n",
    "dev_dataset = dev_dataset.map(tokenize_function, batched=True)\n",
    "\n",
    "# Renombrar columna de labels\n",
    "train_dataset = train_dataset.rename_column(\"PseudoEmoNum\", \"labels\")\n",
    "dev_dataset = dev_dataset.rename_column(\"PseudoEmoNum\", \"labels\")\n"
   ]
  },
  {
   "cell_type": "markdown",
   "metadata": {},
   "source": [
    "## Code"
   ]
  },
  {
   "cell_type": "code",
   "execution_count": 7,
   "metadata": {},
   "outputs": [
    {
     "name": "stdout",
     "output_type": "stream",
     "text": [
      "2.5.1\n"
     ]
    }
   ],
   "source": [
    "from transformers import AutoTokenizer\n",
    "import torch\n",
    "print(torch.__version__)  # Esto debería mostrarte la versión de PyTorch instalada"
   ]
  },
  {
   "cell_type": "code",
   "execution_count": 8,
   "metadata": {},
   "outputs": [
    {
     "name": "stderr",
     "output_type": "stream",
     "text": [
      "Some weights of DistilBertForSequenceClassification were not initialized from the model checkpoint at distilbert-base-uncased and are newly initialized: ['classifier.bias', 'classifier.weight', 'pre_classifier.bias', 'pre_classifier.weight']\n",
      "You should probably TRAIN this model on a down-stream task to be able to use it for predictions and inference.\n"
     ]
    }
   ],
   "source": [
    "from transformers import AutoModelForSequenceClassification\n",
    "import torch\n",
    "\n",
    "device = torch.device(\"cuda\" if torch.cuda.is_available() else \"cpu\")\n",
    "\n",
    "model = AutoModelForSequenceClassification.from_pretrained(model_ckpt).to(device)"
   ]
  },
  {
   "cell_type": "code",
   "execution_count": 9,
   "metadata": {},
   "outputs": [],
   "source": [
    "from sklearn.metrics import classification_report, confusion_matrix\n",
    "import numpy as np\n",
    "\n",
    "\n",
    "def compute_metrics(eval_pred):\n",
    "    logits, labels = eval_pred\n",
    "    predictions = np.argmax(logits, axis=-1)\n",
    "    \n",
    "    # Obtener reporte completo\n",
    "    report = classification_report(labels, predictions, output_dict=True)\n",
    "    \n",
    "    # Obtener la matriz de confusión\n",
    "    conf_matrix = confusion_matrix(labels, predictions)\n",
    "    \n",
    "    # Extraer métricas para cada clase y globales\n",
    "    metrics = {\n",
    "        'accuracy': report['accuracy'],\n",
    "        'macro_f1': report['macro avg']['f1-score'],\n",
    "        'weighted_f1': report['weighted avg']['f1-score'],\n",
    "        'weighted_precision': report['weighted avg']['precision'],\n",
    "        'weighted_recall': report['weighted avg']['recall'],\n",
    "        'confusion_matrix': conf_matrix.tolist()  # Convertir a lista para asegurarse de que es serializable si es necesario\n",
    "    }\n",
    "    \n",
    "    # # Añadir métricas específicas por clase si se requiere\n",
    "    # for label, scores in report.items():\n",
    "    #     if label not in [\"accuracy\", \"macro avg\", \"weighted avg\"]:\n",
    "    #         metrics[f'{label}_precision'] = scores['precision']\n",
    "    #         metrics[f'{label}_recall'] = scores['recall']\n",
    "    #         metrics[f'{label}_f1'] = scores['f1-score']\n",
    "    #         metrics[f'{label}_support'] = scores['support']\n",
    "    \n",
    "    return metrics"
   ]
  },
  {
   "cell_type": "code",
   "execution_count": 10,
   "metadata": {},
   "outputs": [
    {
     "name": "stderr",
     "output_type": "stream",
     "text": [
      "/Users/jorgegarcelan/Desktop/UNI/6-LAB TSC/interspeech-nlp/.venv/lib/python3.9/site-packages/transformers/training_args.py:1575: FutureWarning: `evaluation_strategy` is deprecated and will be removed in version 4.46 of 🤗 Transformers. Use `eval_strategy` instead\n",
      "  warnings.warn(\n",
      "/var/folders/dh/_ks73kfn57l67vxm7b5y16qw0000gn/T/ipykernel_65662/2523129008.py:20: FutureWarning: `tokenizer` is deprecated and will be removed in version 5.0.0 for `Trainer.__init__`. Use `processing_class` instead.\n",
      "  trainer = Trainer(\n"
     ]
    }
   ],
   "source": [
    "from transformers import Trainer, TrainingArguments\n",
    "\n",
    "batch_size = 8\n",
    "logging_steps = len(train_dataset) // batch_size\n",
    "model_name = f\"{model_ckpt}-finetuned-emotion\"\n",
    "training_args = TrainingArguments(\n",
    "    output_dir=model_name,\n",
    "    num_train_epochs=10,\n",
    "    learning_rate=2e-5,\n",
    "    per_device_train_batch_size=batch_size,\n",
    "    per_device_eval_batch_size=batch_size,\n",
    "    weight_decay=0.01,\n",
    "    evaluation_strategy=\"epoch\",\n",
    "    disable_tqdm=False,\n",
    "    logging_steps=logging_steps,\n",
    "    #push_to_hub=True,\n",
    "    log_level=\"error\"\n",
    ")\n",
    "\n",
    "trainer = Trainer(\n",
    "    model=model,\n",
    "    args=training_args,\n",
    "    compute_metrics=compute_metrics,\n",
    "    train_dataset=train_dataset,\n",
    "    eval_dataset=dev_dataset,\n",
    "    tokenizer=tokenizer\n",
    ")"
   ]
  },
  {
   "cell_type": "code",
   "execution_count": null,
   "metadata": {},
   "outputs": [
    {
     "data": {
      "text/html": [
       "\n",
       "    <div>\n",
       "      \n",
       "      <progress value='45' max='12500' style='width:300px; height:20px; vertical-align: middle;'></progress>\n",
       "      [   45/12500 00:31 < 2:32:11, 1.36 it/s, Epoch 0.04/10]\n",
       "    </div>\n",
       "    <table border=\"1\" class=\"dataframe\">\n",
       "  <thead>\n",
       " <tr style=\"text-align: left;\">\n",
       "      <th>Epoch</th>\n",
       "      <th>Training Loss</th>\n",
       "      <th>Validation Loss</th>\n",
       "    </tr>\n",
       "  </thead>\n",
       "  <tbody>\n",
       "  </tbody>\n",
       "</table><p>"
      ],
      "text/plain": [
       "<IPython.core.display.HTML object>"
      ]
     },
     "metadata": {},
     "output_type": "display_data"
    }
   ],
   "source": [
    "trainer.train()"
   ]
  },
  {
   "cell_type": "code",
   "execution_count": null,
   "metadata": {},
   "outputs": [],
   "source": [
    "preds_output = trainer.predict(dev_dataset)\n",
    "preds_metrics = preds_output.metrics\n",
    "preds_metrics"
   ]
  },
  {
   "cell_type": "code",
   "execution_count": null,
   "metadata": {},
   "outputs": [],
   "source": [
    "import matplotlib.pyplot as plt\n",
    "import numpy as np\n",
    "\n",
    "labels = label2id.keys()\n",
    "conf_matrix = preds_metrics['test_confusion_matrix']\n",
    "\n",
    "# Crear el gráfico de la matriz de confusión\n",
    "plt.figure(figsize=(10, 8))\n",
    "plt.imshow(conf_matrix, interpolation='nearest', cmap=plt.cm.Blues)\n",
    "plt.title(\"Confusion Matrix\")\n",
    "plt.colorbar()\n",
    "\n",
    "# Agregar etiquetas\n",
    "tick_marks = np.arange(len(labels))\n",
    "plt.xticks(tick_marks, labels)\n",
    "plt.yticks(tick_marks, labels)\n",
    "\n",
    "# Rótulos de valores dentro de cada celda\n",
    "conf_matrix = np.array(conf_matrix)\n",
    "\n",
    "# Calcular el umbral\n",
    "thresh = conf_matrix.max() / 2\n",
    "for i, j in np.ndindex(conf_matrix.shape):\n",
    "    plt.text(\n",
    "        j, i, format(conf_matrix[i, j], 'd'),\n",
    "        horizontalalignment=\"center\",\n",
    "        color=\"white\" if conf_matrix[i, j] > thresh else \"black\"\n",
    "    )\n",
    "\n",
    "# Etiquetas de los ejes\n",
    "plt.ylabel('True Label')\n",
    "plt.xlabel('Predicted Label')\n",
    "plt.tight_layout()\n",
    "plt.show()"
   ]
  }
 ],
 "metadata": {
  "kernelspec": {
   "display_name": ".venv",
   "language": "python",
   "name": "python3"
  },
  "language_info": {
   "codemirror_mode": {
    "name": "ipython",
    "version": 3
   },
   "file_extension": ".py",
   "mimetype": "text/x-python",
   "name": "python",
   "nbconvert_exporter": "python",
   "pygments_lexer": "ipython3",
   "version": "3.9.6"
  }
 },
 "nbformat": 4,
 "nbformat_minor": 2
}
