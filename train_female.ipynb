{
 "cells": [
  {
   "cell_type": "markdown",
   "metadata": {},
   "source": [
    "# Train Interspeech"
   ]
  },
  {
   "cell_type": "markdown",
   "metadata": {},
   "source": [
    "## Data"
   ]
  },
  {
   "cell_type": "code",
   "execution_count": 1,
   "metadata": {},
   "outputs": [],
   "source": [
    "import pandas as pd"
   ]
  },
  {
   "cell_type": "code",
   "execution_count": 2,
   "metadata": {},
   "outputs": [],
   "source": [
    "balanced = False"
   ]
  },
  {
   "cell_type": "code",
   "execution_count": 3,
   "metadata": {},
   "outputs": [],
   "source": [
    "preprocessed = False"
   ]
  },
  {
   "cell_type": "code",
   "execution_count": 4,
   "metadata": {},
   "outputs": [
    {
     "name": "stdout",
     "output_type": "stream",
     "text": [
      "Filas antes de eliminar nulos: 27076\n",
      "Filas después de eliminar nulos: 27076\n"
     ]
    }
   ],
   "source": [
    "# Cargar los CSV\n",
    "df1 = pd.read_csv(\"data/balanced_pseudo_female_todas_emociones_reducido.csv\")  # Primer CSV\n",
    "df2 = pd.read_csv(\"data/transcripts.csv\")  # Segundo CSV ahora es transcript.csv\n",
    "\n",
    "# Eliminar \".txt\" de la columna \"FileName\" en df2\n",
    "df2[\"FileName\"] = df2[\"FileName\"].str.replace(\".txt\", \"\", regex=False)\n",
    "\n",
    "# Unir los DataFrames por la columna \"FileName\", seleccionando solo \"FileName\" y \"text\" del segundo CSV\n",
    "data = df1.merge(df2[['FileName', 'text']], on=\"FileName\", how=\"left\")\n",
    "\n",
    "# Mostrar la cantidad de filas antes de eliminar nulos\n",
    "print(f\"Filas antes de eliminar nulos: {len(data)}\")\n",
    "\n",
    "# Eliminar filas con valores nulos en la columna 'text'\n",
    "data = data.dropna(subset=['text'])\n",
    "\n",
    "# Mostrar la cantidad de filas después de eliminar nulos\n",
    "print(f\"Filas después de eliminar nulos: {len(data)}\")"
   ]
  },
  {
   "cell_type": "code",
   "execution_count": 5,
   "metadata": {},
   "outputs": [],
   "source": [
    "if balanced:\n",
    "    # Paso 1: Determinar el tamaño mínimo entre las clases\n",
    "    min_count = data['PseudoEmo'].value_counts().min()\n",
    "\n",
    "    # Paso 2: Submuestrear cada clase\n",
    "    data = data.groupby('PseudoEmo').apply(lambda x: x.sample(min_count)).reset_index(drop=True)\n",
    "\n",
    "    # Paso 3: Verificar el balance\n",
    "    print(data['PseudoEmo'].value_counts())\n",
    "    print(len(data))\n",
    "\n",
    "    data.to_csv('data/balanced_pseudo_female.csv', index=False)\n"
   ]
  },
  {
   "cell_type": "code",
   "execution_count": 6,
   "metadata": {},
   "outputs": [
    {
     "name": "stdout",
     "output_type": "stream",
     "text": [
      "Conjunto Train:\n",
      "                FileName          worker  primary_emotion EmoClass  EmoNum  \\\n",
      "0  MSP-PODCAST_0002_0061  WORKER00003259             Fear        F       7   \n",
      "1  MSP-PODCAST_0002_0061  WORKER00001171         Contempt        C       4   \n",
      "2  MSP-PODCAST_0002_0061  WORKER00003260             Fear        F       7   \n",
      "3  MSP-PODCAST_0002_0061  WORKER00003261         Surprise        U       5   \n",
      "4  MSP-PODCAST_0002_0061  WORKER00003262  Other-Concerned        O       8   \n",
      "\n",
      "   WorkerNum NewPartition                                               text  \n",
      "0       3259        Train  yeah. so, but molly, i mean, this was really o...  \n",
      "1       1171        Train  yeah. so, but molly, i mean, this was really o...  \n",
      "2       3260        Train  yeah. so, but molly, i mean, this was really o...  \n",
      "3       3261        Train  yeah. so, but molly, i mean, this was really o...  \n",
      "4       3262        Train  yeah. so, but molly, i mean, this was really o...  \n",
      "Conjunto Development:\n",
      "                 FileName          worker primary_emotion EmoClass  EmoNum  \\\n",
      "93  MSP-PODCAST_0015_0430  WORKER00003010         Disgust        D       6   \n",
      "94  MSP-PODCAST_0015_0430  WORKER00003013         Disgust        D       6   \n",
      "95  MSP-PODCAST_0015_0430  WORKER00003012        Contempt        C       4   \n",
      "96  MSP-PODCAST_0015_0430  WORKER00003014           Angry        A       2   \n",
      "97  MSP-PODCAST_0015_0430  WORKER00001171           Angry        A       2   \n",
      "\n",
      "    WorkerNum NewPartition                                  text  \n",
      "93       3010   Evaluation  to be run so abysmally, so horribly.  \n",
      "94       3013   Evaluation  to be run so abysmally, so horribly.  \n",
      "95       3012   Evaluation  to be run so abysmally, so horribly.  \n",
      "96       3014   Evaluation  to be run so abysmally, so horribly.  \n",
      "97       1171   Evaluation  to be run so abysmally, so horribly.  \n",
      "Conjunto Test:\n",
      "Empty DataFrame\n",
      "Columns: [FileName, worker, primary_emotion, EmoClass, EmoNum, WorkerNum, NewPartition, text]\n",
      "Index: []\n"
     ]
    }
   ],
   "source": [
    "# Filtrar los datos en tres conjuntos basados en la columna 'Split_Set'\n",
    "train_df = data.loc[data['NewPartition'] == 'Train']\n",
    "dev_df = data.loc[data['NewPartition'] == 'Evaluation']\n",
    "test_df = data.loc[data['NewPartition'] == 'Test']\n",
    "\n",
    "# Verifica las primeras filas de cada conjunto\n",
    "print(\"Conjunto Train:\")\n",
    "print(train_df.head())\n",
    "\n",
    "print(\"Conjunto Development:\")\n",
    "print(dev_df.head())\n",
    "\n",
    "print(\"Conjunto Test:\")\n",
    "print(test_df.head())"
   ]
  },
  {
   "cell_type": "code",
   "execution_count": 7,
   "metadata": {},
   "outputs": [],
   "source": [
    "# # Establecer la semilla para garantizar reproducibilidad\n",
    "# seed = 42\n",
    "\n",
    "# # Seleccionar aleatoriamente las primeras N filas del conjunto de entrenamiento\n",
    "# train_df = train_df.sample(n=1000, random_state=seed)\n",
    "\n",
    "# # Seleccionar aleatoriamente las primeras N filas del conjunto de desarrollo\n",
    "# dev_df = dev_df.sample(n=250, random_state=seed)"
   ]
  },
  {
   "cell_type": "code",
   "execution_count": 8,
   "metadata": {},
   "outputs": [
    {
     "name": "stdout",
     "output_type": "stream",
     "text": [
      "id2label={0: 'N', 1: 'H', 2: 'A', 3: 'S', 4: 'C', 5: 'U', 6: 'D', 7: 'F', 8: 'O'}\n",
      "label2id={'N': 0, 'H': 1, 'A': 2, 'S': 3, 'C': 4, 'U': 5, 'D': 6, 'F': 7, 'O': 8}\n",
      "num_labels=9\n"
     ]
    }
   ],
   "source": [
    "id2label = {\n",
    "        0: 'N',  # Neutral\n",
    "        1: 'H',  # Happy\n",
    "        2: 'A',  # Angry\n",
    "        3: 'S',  # Sad\n",
    "        4: 'C',  # Contempt\n",
    "        5: 'U',  # Surprise\n",
    "        6: 'D',  # Disgust\n",
    "        7: 'F',  # Fear\n",
    "        8: 'O'   # Other\n",
    "    }\n",
    "label2id = {\n",
    "        'N': 0,  # Neutral\n",
    "        'H': 1,  # Happy\n",
    "        'A': 2,  # Angry\n",
    "        'S': 3 , # Sad\n",
    "        'C': 4,  # Contempt\n",
    "        'U': 5,  # Surprise\n",
    "        'D': 6,  # Disgust\n",
    "        'F': 7,  # Fear\n",
    "        'O': 8   # Other\n",
    "    }\n",
    "\n",
    "num_labels = len(id2label.keys())\n",
    "col_emo = \"EmoNum\" # \"PseudoEmoNum\"\n",
    "\n",
    "print(f\"{id2label=}\")\n",
    "print(f\"{label2id=}\")\n",
    "print(f\"{num_labels=}\")"
   ]
  },
  {
   "cell_type": "code",
   "execution_count": 9,
   "metadata": {},
   "outputs": [
    {
     "name": "stderr",
     "output_type": "stream",
     "text": [
      "/var/folders/dh/_ks73kfn57l67vxm7b5y16qw0000gn/T/ipykernel_23119/2809703481.py:2: SettingWithCopyWarning: \n",
      "A value is trying to be set on a copy of a slice from a DataFrame.\n",
      "Try using .loc[row_indexer,col_indexer] = value instead\n",
      "\n",
      "See the caveats in the documentation: https://pandas.pydata.org/pandas-docs/stable/user_guide/indexing.html#returning-a-view-versus-a-copy\n",
      "  train_df[col_emo] = train_df[col_emo].astype(int)\n",
      "/var/folders/dh/_ks73kfn57l67vxm7b5y16qw0000gn/T/ipykernel_23119/2809703481.py:3: SettingWithCopyWarning: \n",
      "A value is trying to be set on a copy of a slice from a DataFrame.\n",
      "Try using .loc[row_indexer,col_indexer] = value instead\n",
      "\n",
      "See the caveats in the documentation: https://pandas.pydata.org/pandas-docs/stable/user_guide/indexing.html#returning-a-view-versus-a-copy\n",
      "  dev_df[col_emo] = dev_df[col_emo].astype(int)\n"
     ]
    }
   ],
   "source": [
    "# Convertir EmoClass a valores numéricos si es necesario\n",
    "train_df[col_emo] = train_df[col_emo].astype(int)\n",
    "dev_df[col_emo] = dev_df[col_emo].astype(int)\n",
    "test_df[col_emo] = test_df[col_emo].astype(int)"
   ]
  },
  {
   "cell_type": "code",
   "execution_count": 10,
   "metadata": {},
   "outputs": [
    {
     "name": "stderr",
     "output_type": "stream",
     "text": [
      "/Users/jorgegarcelan/Desktop/UNI/6-LAB TSC/interspeech-nlp/.venv/lib/python3.9/site-packages/urllib3/__init__.py:35: NotOpenSSLWarning: urllib3 v2 only supports OpenSSL 1.1.1+, currently the 'ssl' module is compiled with 'LibreSSL 2.8.3'. See: https://github.com/urllib3/urllib3/issues/3020\n",
      "  warnings.warn(\n",
      "/Users/jorgegarcelan/Desktop/UNI/6-LAB TSC/interspeech-nlp/.venv/lib/python3.9/site-packages/tqdm/auto.py:21: TqdmWarning: IProgress not found. Please update jupyter and ipywidgets. See https://ipywidgets.readthedocs.io/en/stable/user_install.html\n",
      "  from .autonotebook import tqdm as notebook_tqdm\n",
      "Map: 100%|██████████| 22683/22683 [00:01<00:00, 14438.63 examples/s]\n",
      "Map: 100%|██████████| 4393/4393 [00:00<00:00, 13928.62 examples/s]\n",
      "Map: 100%|██████████| 27076/27076 [00:01<00:00, 16080.86 examples/s]\n"
     ]
    }
   ],
   "source": [
    "from datasets import Dataset\n",
    "from transformers import AutoTokenizer\n",
    "\n",
    "\n",
    "if preprocessed == False:\n",
    "    # Modelo\n",
    "    model_ckpt = \"distilbert-base-uncased\"\n",
    "    # model_ckpt = \"distilroberta-base\"\n",
    "\n",
    "    # Cargar el tokenizer\n",
    "    tokenizer = AutoTokenizer.from_pretrained(model_ckpt)\n",
    "\n",
    "    # Función para tokenizar los datos\n",
    "    def tokenize_function(examples):\n",
    "        # Verificar que estamos pasando una lista de textos\n",
    "        texts = examples['text']\n",
    "        return tokenizer(texts, padding=\"max_length\", truncation=True)\n",
    "\n",
    "    # Asegurarse de que 'train_df' y 'dev_df' son objetos Dataset de Hugging Face\n",
    "    train_dataset = Dataset.from_pandas(train_df)\n",
    "    dev_dataset = Dataset.from_pandas(dev_df)\n",
    "    test_dataset = Dataset.from_pandas(test_df)\n",
    "    data_dataset = Dataset.from_pandas(data)\n",
    "\n",
    "\n",
    "    # Tokenizamos ambos conjuntos de datos\n",
    "    train_dataset = train_dataset.map(tokenize_function, batched=True)\n",
    "    dev_dataset = dev_dataset.map(tokenize_function, batched=True)\n",
    "    test_dataset = test_dataset.map(tokenize_function, batched=True)\n",
    "    data_dataset = data_dataset.map(tokenize_function, batched=True)\n",
    "\n",
    "\n",
    "    # Renombrar columna de labels\n",
    "    train_dataset = train_dataset.rename_column(col_emo, \"labels\")\n",
    "    dev_dataset = dev_dataset.rename_column(col_emo, \"labels\")\n",
    "    test_dataset = test_dataset.rename_column(col_emo, \"labels\")\n",
    "    data_dataset = data_dataset.rename_column(col_emo, \"labels\")\n"
   ]
  },
  {
   "cell_type": "code",
   "execution_count": 11,
   "metadata": {},
   "outputs": [],
   "source": [
    "import re\n",
    "from datasets import Dataset\n",
    "from transformers import AutoTokenizer\n",
    "from nltk.corpus import stopwords\n",
    "from nltk.stem import WordNetLemmatizer\n",
    "import nltk\n",
    "\n",
    "if preprocessed:\n",
    "    # Descargar recursos necesarios de NLTK\n",
    "    nltk.download('stopwords')\n",
    "    nltk.download('wordnet')\n",
    "\n",
    "    # Modelo\n",
    "    model_ckpt = \"distilbert-base-uncased\"\n",
    "    tokenizer = AutoTokenizer.from_pretrained(model_ckpt)\n",
    "\n",
    "    # Stopwords en inglés (puedes cambiar el idioma si es necesario)\n",
    "    stop_words = set(stopwords.words('english'))\n",
    "\n",
    "    # Inicializar el lematizador\n",
    "    lemmatizer = WordNetLemmatizer()\n",
    "\n",
    "    # Función para limpiar y tokenizar\n",
    "    def preprocess_and_tokenize(examples):\n",
    "        processed_texts = []\n",
    "        for text in examples['text']:\n",
    "            # Convertir a minúsculas\n",
    "            text = text.lower()\n",
    "            # # Eliminar URLs\n",
    "            # text = re.sub(r\"http\\S+|www\\S+|https\\S+\", \"\", text, flags=re.MULTILINE)\n",
    "            # # Eliminar menciones y hashtags\n",
    "            # text = re.sub(r\"@\\w+|#\\w+\", \"\", text)\n",
    "            # # Eliminar caracteres especiales y puntuación\n",
    "            # text = re.sub(r\"[^a-zA-Z\\s]\", \"\", text)\n",
    "            # # Eliminar números\n",
    "            # text = re.sub(r\"\\d+\", \"\", text)\n",
    "            # # Eliminar palabras de parada\n",
    "            # words = text.split()\n",
    "            # words = [word for word in words if word not in stop_words]\n",
    "            # # Aplicar lematización\n",
    "            # words = [lemmatizer.lemmatize(word) for word in words]\n",
    "            # # Unir palabras limpias\n",
    "            # text = \" \".join(words)\n",
    "            # Añadir texto procesado a la lista\n",
    "            processed_texts.append(text)\n",
    "        \n",
    "        # Tokenizar el texto limpio\n",
    "        return tokenizer(processed_texts, padding=\"max_length\", truncation=True)\n",
    "\n",
    "    # Verificar que no haya valores nulos\n",
    "    train_df = train_df.dropna(subset=[\"text\", \"PseudoEmoNum\"])\n",
    "    dev_df = dev_df.dropna(subset=[\"text\", \"PseudoEmoNum\"])\n",
    "    test_df = test_df.dropna(subset=[\"text\", \"PseudoEmoNum\"])\n",
    "\n",
    "    # Convertir DataFrame a Dataset\n",
    "    train_dataset = Dataset.from_pandas(train_df)\n",
    "    dev_dataset = Dataset.from_pandas(dev_df)\n",
    "    test_dataset = Dataset.from_pandas(test_df)\n",
    "\n",
    "    # Tokenizar los conjuntos de datos\n",
    "    train_dataset = train_dataset.map(preprocess_and_tokenize, batched=True, num_proc=4)\n",
    "    dev_dataset = dev_dataset.map(preprocess_and_tokenize, batched=True, num_proc=4)\n",
    "    test_dataset = test_dataset.map(preprocess_and_tokenize, batched=True, num_proc=4)\n",
    "\n",
    "    # Renombrar columna de labels\n",
    "    train_dataset = train_dataset.rename_column(\"PseudoEmoNum\", \"labels\")\n",
    "    dev_dataset = dev_dataset.rename_column(\"PseudoEmoNum\", \"labels\")\n",
    "    test_dataset = test_dataset.rename_column(\"PseudoEmoNum\", \"labels\")\n",
    "\n",
    "    # Inspeccionar un ejemplo procesado\n",
    "    print(train_dataset[0])\n"
   ]
  },
  {
   "cell_type": "markdown",
   "metadata": {},
   "source": [
    "## Code"
   ]
  },
  {
   "cell_type": "code",
   "execution_count": 12,
   "metadata": {},
   "outputs": [
    {
     "name": "stdout",
     "output_type": "stream",
     "text": [
      "2.5.1\n"
     ]
    }
   ],
   "source": [
    "from transformers import AutoTokenizer\n",
    "import torch\n",
    "print(torch.__version__)  # Esto debería mostrarte la versión de PyTorch instalada"
   ]
  },
  {
   "cell_type": "code",
   "execution_count": 13,
   "metadata": {},
   "outputs": [
    {
     "name": "stderr",
     "output_type": "stream",
     "text": [
      "Some weights of DistilBertForSequenceClassification were not initialized from the model checkpoint at distilbert-base-uncased and are newly initialized: ['classifier.bias', 'classifier.weight', 'pre_classifier.bias', 'pre_classifier.weight']\n",
      "You should probably TRAIN this model on a down-stream task to be able to use it for predictions and inference.\n"
     ]
    },
    {
     "name": "stdout",
     "output_type": "stream",
     "text": [
      "9\n"
     ]
    }
   ],
   "source": [
    "from transformers import AutoModelForSequenceClassification\n",
    "import torch\n",
    "\n",
    "device = torch.device(\"cuda\" if torch.cuda.is_available() else \"cpu\")\n",
    "\n",
    "model = AutoModelForSequenceClassification.from_pretrained(model_ckpt, num_labels=num_labels, label2id=label2id, id2label=id2label).to(device)\n",
    "print(model.num_labels)"
   ]
  },
  {
   "cell_type": "code",
   "execution_count": 14,
   "metadata": {},
   "outputs": [],
   "source": [
    "from sklearn.metrics import classification_report, confusion_matrix\n",
    "import numpy as np\n",
    "\n",
    "\n",
    "def compute_metrics(eval_pred):\n",
    "    logits, labels = eval_pred\n",
    "    predictions = np.argmax(logits, axis=-1)\n",
    "    \n",
    "    # Obtener reporte completo\n",
    "    report = classification_report(labels, predictions, output_dict=True)\n",
    "    \n",
    "    # Obtener la matriz de confusión\n",
    "    conf_matrix = confusion_matrix(labels, predictions)\n",
    "    \n",
    "    # Extraer métricas para cada clase y globales\n",
    "    metrics = {\n",
    "        'accuracy': report['accuracy'],\n",
    "        'macro_f1': report['macro avg']['f1-score'],\n",
    "        'weighted_f1': report['weighted avg']['f1-score'],\n",
    "        # 'weighted_precision': report['weighted avg']['precision'],\n",
    "        # 'weighted_recall': report['weighted avg']['recall'],\n",
    "        'confusion_matrix': conf_matrix.tolist()  # Convertir a lista para asegurarse de que es serializable si es necesario\n",
    "    }\n",
    "    \n",
    "    # # Añadir métricas específicas por clase si se requiere\n",
    "    # for label, scores in report.items():\n",
    "    #     if label not in [\"accuracy\", \"macro avg\", \"weighted avg\"]:\n",
    "    #         metrics[f'{label}_precision'] = scores['precision']\n",
    "    #         metrics[f'{label}_recall'] = scores['recall']\n",
    "    #         metrics[f'{label}_f1'] = scores['f1-score']\n",
    "    #         metrics[f'{label}_support'] = scores['support']\n",
    "    \n",
    "    return metrics"
   ]
  },
  {
   "cell_type": "code",
   "execution_count": 15,
   "metadata": {},
   "outputs": [
    {
     "name": "stderr",
     "output_type": "stream",
     "text": [
      "/Users/jorgegarcelan/Desktop/UNI/6-LAB TSC/interspeech-nlp/.venv/lib/python3.9/site-packages/transformers/training_args.py:1575: FutureWarning: `evaluation_strategy` is deprecated and will be removed in version 4.46 of 🤗 Transformers. Use `eval_strategy` instead\n",
      "  warnings.warn(\n",
      "/var/folders/dh/_ks73kfn57l67vxm7b5y16qw0000gn/T/ipykernel_23119/3782960661.py:20: FutureWarning: `tokenizer` is deprecated and will be removed in version 5.0.0 for `Trainer.__init__`. Use `processing_class` instead.\n",
      "  trainer = Trainer(\n"
     ]
    }
   ],
   "source": [
    "from transformers import Trainer, TrainingArguments\n",
    "\n",
    "batch_size = 32\n",
    "logging_steps = len(train_dataset) // batch_size\n",
    "model_name = f\"{model_ckpt}-finetuned-female\"\n",
    "training_args = TrainingArguments(\n",
    "    output_dir=model_name,\n",
    "    num_train_epochs=10,\n",
    "    learning_rate=2e-5,\n",
    "    per_device_train_batch_size=batch_size,\n",
    "    per_device_eval_batch_size=batch_size,\n",
    "    weight_decay=0.01,\n",
    "    evaluation_strategy=\"epoch\",\n",
    "    disable_tqdm=False,\n",
    "    logging_steps=logging_steps,\n",
    "    # push_to_hub=True,\n",
    "    log_level=\"error\"\n",
    ")\n",
    "\n",
    "trainer = Trainer(\n",
    "    model=model,\n",
    "    args=training_args,\n",
    "    compute_metrics=compute_metrics,\n",
    "    train_dataset=train_dataset,\n",
    "    eval_dataset=dev_dataset,\n",
    "    tokenizer=tokenizer\n",
    ")"
   ]
  },
  {
   "cell_type": "code",
   "execution_count": 16,
   "metadata": {},
   "outputs": [
    {
     "data": {
      "text/html": [
       "\n",
       "    <div>\n",
       "      \n",
       "      <progress value='7090' max='7090' style='width:300px; height:20px; vertical-align: middle;'></progress>\n",
       "      [7090/7090 10:53:57, Epoch 10/10]\n",
       "    </div>\n",
       "    <table border=\"1\" class=\"dataframe\">\n",
       "  <thead>\n",
       " <tr style=\"text-align: left;\">\n",
       "      <th>Epoch</th>\n",
       "      <th>Training Loss</th>\n",
       "      <th>Validation Loss</th>\n",
       "      <th>Accuracy</th>\n",
       "      <th>Macro F1</th>\n",
       "      <th>Weighted F1</th>\n",
       "      <th>Confusion Matrix</th>\n",
       "    </tr>\n",
       "  </thead>\n",
       "  <tbody>\n",
       "    <tr>\n",
       "      <td>1</td>\n",
       "      <td>2.014500</td>\n",
       "      <td>2.004389</td>\n",
       "      <td>0.280901</td>\n",
       "      <td>0.171912</td>\n",
       "      <td>0.240249</td>\n",
       "      <td>[[551, 152, 144, 93, 12, 27, 26, 0, 0], [277, 245, 126, 55, 4, 21, 24, 0, 0], [172, 59, 262, 67, 20, 28, 39, 0, 0], [223, 50, 74, 112, 10, 19, 15, 0, 0], [178, 53, 167, 28, 15, 9, 26, 0, 0], [142, 69, 44, 29, 6, 18, 15, 0, 0], [74, 28, 84, 26, 6, 8, 31, 0, 0], [106, 30, 34, 30, 12, 5, 7, 0, 0], [86, 31, 41, 22, 2, 12, 12, 0, 0]]</td>\n",
       "    </tr>\n",
       "    <tr>\n",
       "      <td>2</td>\n",
       "      <td>1.825600</td>\n",
       "      <td>2.041368</td>\n",
       "      <td>0.256317</td>\n",
       "      <td>0.173612</td>\n",
       "      <td>0.231450</td>\n",
       "      <td>[[465, 131, 113, 162, 34, 54, 32, 14, 0], [262, 196, 130, 63, 19, 41, 30, 11, 0], [150, 59, 206, 90, 38, 28, 61, 15, 0], [194, 43, 59, 160, 15, 12, 15, 5, 0], [140, 47, 129, 62, 28, 17, 45, 8, 0], [111, 58, 47, 33, 26, 23, 15, 10, 0], [67, 30, 59, 29, 14, 9, 46, 3, 0], [77, 29, 28, 51, 13, 12, 12, 2, 0], [65, 32, 37, 40, 8, 11, 10, 3, 0]]</td>\n",
       "    </tr>\n",
       "    <tr>\n",
       "      <td>3</td>\n",
       "      <td>1.681200</td>\n",
       "      <td>2.116823</td>\n",
       "      <td>0.238106</td>\n",
       "      <td>0.182194</td>\n",
       "      <td>0.232216</td>\n",
       "      <td>[[395, 81, 116, 127, 101, 99, 46, 40, 0], [212, 151, 111, 64, 55, 111, 34, 14, 0], [96, 42, 182, 61, 107, 57, 74, 28, 0], [156, 29, 47, 117, 51, 36, 30, 37, 0], [105, 36, 98, 47, 94, 32, 55, 9, 0], [92, 44, 38, 30, 38, 40, 25, 16, 0], [54, 10, 42, 32, 38, 21, 54, 6, 0], [54, 17, 20, 39, 42, 25, 14, 13, 0], [61, 13, 33, 26, 17, 31, 16, 9, 0]]</td>\n",
       "    </tr>\n",
       "    <tr>\n",
       "      <td>4</td>\n",
       "      <td>1.583900</td>\n",
       "      <td>2.151737</td>\n",
       "      <td>0.235374</td>\n",
       "      <td>0.163302</td>\n",
       "      <td>0.212651</td>\n",
       "      <td>[[530, 60, 35, 136, 82, 66, 65, 31, 0], [309, 122, 56, 62, 60, 72, 65, 6, 0], [187, 43, 80, 77, 114, 29, 93, 24, 0], [230, 22, 18, 119, 47, 19, 17, 31, 0], [162, 27, 53, 48, 98, 21, 64, 3, 0], [136, 41, 13, 23, 45, 19, 33, 13, 0], [88, 13, 16, 23, 46, 12, 55, 4, 0], [83, 15, 5, 39, 29, 19, 23, 11, 0], [87, 16, 12, 30, 21, 17, 17, 6, 0]]</td>\n",
       "    </tr>\n",
       "    <tr>\n",
       "      <td>5</td>\n",
       "      <td>1.513800</td>\n",
       "      <td>2.159032</td>\n",
       "      <td>0.246756</td>\n",
       "      <td>0.175936</td>\n",
       "      <td>0.227982</td>\n",
       "      <td>[[460, 87, 89, 188, 60, 60, 38, 23, 0], [269, 148, 116, 87, 46, 63, 19, 4, 0], [145, 61, 170, 108, 74, 21, 52, 16, 0], [189, 35, 36, 163, 32, 23, 10, 15, 0], [132, 42, 96, 76, 74, 13, 40, 3, 0], [120, 49, 36, 39, 29, 15, 23, 12, 0], [76, 18, 41, 33, 30, 12, 44, 3, 0], [72, 29, 12, 49, 26, 9, 17, 10, 0], [72, 22, 25, 47, 13, 13, 9, 5, 0]]</td>\n",
       "    </tr>\n",
       "    <tr>\n",
       "      <td>6</td>\n",
       "      <td>1.460600</td>\n",
       "      <td>2.155265</td>\n",
       "      <td>0.249033</td>\n",
       "      <td>0.180519</td>\n",
       "      <td>0.233588</td>\n",
       "      <td>[[434, 167, 79, 115, 91, 53, 37, 29, 0], [232, 236, 85, 59, 50, 60, 25, 5, 0], [140, 90, 132, 72, 107, 26, 63, 17, 0], [177, 56, 34, 130, 44, 17, 10, 35, 0], [138, 58, 79, 45, 91, 16, 46, 3, 0], [111, 81, 27, 24, 29, 12, 26, 13, 0], [77, 29, 33, 22, 40, 9, 43, 4, 0], [70, 38, 11, 30, 29, 14, 16, 16, 0], [66, 39, 24, 29, 16, 15, 11, 6, 0]]</td>\n",
       "    </tr>\n",
       "    <tr>\n",
       "      <td>7</td>\n",
       "      <td>1.420500</td>\n",
       "      <td>2.209028</td>\n",
       "      <td>0.224903</td>\n",
       "      <td>0.167616</td>\n",
       "      <td>0.212074</td>\n",
       "      <td>[[425, 88, 54, 134, 127, 60, 63, 47, 7], [270, 134, 63, 69, 73, 71, 51, 15, 6], [136, 65, 98, 69, 128, 22, 104, 25, 0], [177, 32, 26, 134, 55, 21, 20, 38, 0], [138, 32, 62, 51, 109, 15, 62, 7, 0], [110, 52, 16, 26, 52, 11, 34, 20, 2], [69, 19, 19, 26, 51, 11, 58, 4, 0], [72, 26, 5, 34, 35, 11, 24, 17, 0], [71, 23, 15, 35, 19, 15, 20, 6, 2]]</td>\n",
       "    </tr>\n",
       "    <tr>\n",
       "      <td>8</td>\n",
       "      <td>1.377300</td>\n",
       "      <td>2.225309</td>\n",
       "      <td>0.233098</td>\n",
       "      <td>0.170410</td>\n",
       "      <td>0.219985</td>\n",
       "      <td>[[408, 111, 92, 160, 109, 65, 37, 23, 0], [243, 172, 105, 78, 65, 71, 15, 3, 0], [140, 74, 142, 82, 121, 24, 44, 20, 0], [174, 42, 41, 137, 58, 14, 12, 25, 0], [129, 41, 77, 65, 101, 18, 41, 4, 0], [108, 64, 29, 37, 39, 11, 22, 13, 0], [68, 22, 42, 25, 48, 8, 40, 4, 0], [64, 28, 8, 41, 36, 15, 19, 13, 0], [63, 28, 30, 37, 18, 16, 8, 6, 0]]</td>\n",
       "    </tr>\n",
       "    <tr>\n",
       "      <td>9</td>\n",
       "      <td>1.352400</td>\n",
       "      <td>2.241526</td>\n",
       "      <td>0.230594</td>\n",
       "      <td>0.175264</td>\n",
       "      <td>0.224418</td>\n",
       "      <td>[[371, 136, 90, 120, 93, 92, 50, 43, 10], [214, 187, 109, 64, 50, 88, 28, 12, 0], [114, 88, 156, 66, 92, 43, 61, 22, 5], [147, 46, 32, 130, 52, 49, 14, 30, 3], [118, 49, 89, 45, 86, 28, 51, 4, 6], [89, 65, 36, 26, 30, 24, 31, 20, 2], [61, 28, 37, 21, 43, 16, 44, 4, 3], [52, 34, 11, 33, 34, 21, 23, 15, 1], [56, 32, 29, 32, 15, 23, 13, 6, 0]]</td>\n",
       "    </tr>\n",
       "    <tr>\n",
       "      <td>10</td>\n",
       "      <td>1.327200</td>\n",
       "      <td>2.255916</td>\n",
       "      <td>0.230594</td>\n",
       "      <td>0.175047</td>\n",
       "      <td>0.221809</td>\n",
       "      <td>[[383, 123, 87, 140, 102, 73, 46, 44, 7], [241, 168, 105, 68, 53, 74, 25, 17, 1], [128, 77, 153, 79, 92, 28, 66, 20, 4], [167, 38, 34, 134, 48, 33, 13, 30, 6], [117, 45, 87, 54, 92, 20, 48, 7, 6], [107, 56, 34, 30, 25, 21, 26, 21, 3], [64, 24, 41, 22, 44, 11, 45, 4, 2], [61, 28, 9, 37, 31, 16, 23, 17, 2], [63, 24, 31, 38, 15, 18, 11, 6, 0]]</td>\n",
       "    </tr>\n",
       "  </tbody>\n",
       "</table><p>"
      ],
      "text/plain": [
       "<IPython.core.display.HTML object>"
      ]
     },
     "metadata": {},
     "output_type": "display_data"
    },
    {
     "name": "stderr",
     "output_type": "stream",
     "text": [
      "/Users/jorgegarcelan/Desktop/UNI/6-LAB TSC/interspeech-nlp/.venv/lib/python3.9/site-packages/sklearn/metrics/_classification.py:1565: UndefinedMetricWarning: Precision is ill-defined and being set to 0.0 in labels with no predicted samples. Use `zero_division` parameter to control this behavior.\n",
      "  _warn_prf(average, modifier, f\"{metric.capitalize()} is\", len(result))\n",
      "/Users/jorgegarcelan/Desktop/UNI/6-LAB TSC/interspeech-nlp/.venv/lib/python3.9/site-packages/sklearn/metrics/_classification.py:1565: UndefinedMetricWarning: Precision is ill-defined and being set to 0.0 in labels with no predicted samples. Use `zero_division` parameter to control this behavior.\n",
      "  _warn_prf(average, modifier, f\"{metric.capitalize()} is\", len(result))\n",
      "/Users/jorgegarcelan/Desktop/UNI/6-LAB TSC/interspeech-nlp/.venv/lib/python3.9/site-packages/sklearn/metrics/_classification.py:1565: UndefinedMetricWarning: Precision is ill-defined and being set to 0.0 in labels with no predicted samples. Use `zero_division` parameter to control this behavior.\n",
      "  _warn_prf(average, modifier, f\"{metric.capitalize()} is\", len(result))\n",
      "/Users/jorgegarcelan/Desktop/UNI/6-LAB TSC/interspeech-nlp/.venv/lib/python3.9/site-packages/sklearn/metrics/_classification.py:1565: UndefinedMetricWarning: Precision is ill-defined and being set to 0.0 in labels with no predicted samples. Use `zero_division` parameter to control this behavior.\n",
      "  _warn_prf(average, modifier, f\"{metric.capitalize()} is\", len(result))\n",
      "/Users/jorgegarcelan/Desktop/UNI/6-LAB TSC/interspeech-nlp/.venv/lib/python3.9/site-packages/sklearn/metrics/_classification.py:1565: UndefinedMetricWarning: Precision is ill-defined and being set to 0.0 in labels with no predicted samples. Use `zero_division` parameter to control this behavior.\n",
      "  _warn_prf(average, modifier, f\"{metric.capitalize()} is\", len(result))\n",
      "/Users/jorgegarcelan/Desktop/UNI/6-LAB TSC/interspeech-nlp/.venv/lib/python3.9/site-packages/sklearn/metrics/_classification.py:1565: UndefinedMetricWarning: Precision is ill-defined and being set to 0.0 in labels with no predicted samples. Use `zero_division` parameter to control this behavior.\n",
      "  _warn_prf(average, modifier, f\"{metric.capitalize()} is\", len(result))\n",
      "/Users/jorgegarcelan/Desktop/UNI/6-LAB TSC/interspeech-nlp/.venv/lib/python3.9/site-packages/sklearn/metrics/_classification.py:1565: UndefinedMetricWarning: Precision is ill-defined and being set to 0.0 in labels with no predicted samples. Use `zero_division` parameter to control this behavior.\n",
      "  _warn_prf(average, modifier, f\"{metric.capitalize()} is\", len(result))\n",
      "/Users/jorgegarcelan/Desktop/UNI/6-LAB TSC/interspeech-nlp/.venv/lib/python3.9/site-packages/sklearn/metrics/_classification.py:1565: UndefinedMetricWarning: Precision is ill-defined and being set to 0.0 in labels with no predicted samples. Use `zero_division` parameter to control this behavior.\n",
      "  _warn_prf(average, modifier, f\"{metric.capitalize()} is\", len(result))\n",
      "/Users/jorgegarcelan/Desktop/UNI/6-LAB TSC/interspeech-nlp/.venv/lib/python3.9/site-packages/sklearn/metrics/_classification.py:1565: UndefinedMetricWarning: Precision is ill-defined and being set to 0.0 in labels with no predicted samples. Use `zero_division` parameter to control this behavior.\n",
      "  _warn_prf(average, modifier, f\"{metric.capitalize()} is\", len(result))\n",
      "/Users/jorgegarcelan/Desktop/UNI/6-LAB TSC/interspeech-nlp/.venv/lib/python3.9/site-packages/sklearn/metrics/_classification.py:1565: UndefinedMetricWarning: Precision is ill-defined and being set to 0.0 in labels with no predicted samples. Use `zero_division` parameter to control this behavior.\n",
      "  _warn_prf(average, modifier, f\"{metric.capitalize()} is\", len(result))\n",
      "/Users/jorgegarcelan/Desktop/UNI/6-LAB TSC/interspeech-nlp/.venv/lib/python3.9/site-packages/sklearn/metrics/_classification.py:1565: UndefinedMetricWarning: Precision is ill-defined and being set to 0.0 in labels with no predicted samples. Use `zero_division` parameter to control this behavior.\n",
      "  _warn_prf(average, modifier, f\"{metric.capitalize()} is\", len(result))\n",
      "/Users/jorgegarcelan/Desktop/UNI/6-LAB TSC/interspeech-nlp/.venv/lib/python3.9/site-packages/sklearn/metrics/_classification.py:1565: UndefinedMetricWarning: Precision is ill-defined and being set to 0.0 in labels with no predicted samples. Use `zero_division` parameter to control this behavior.\n",
      "  _warn_prf(average, modifier, f\"{metric.capitalize()} is\", len(result))\n",
      "/Users/jorgegarcelan/Desktop/UNI/6-LAB TSC/interspeech-nlp/.venv/lib/python3.9/site-packages/sklearn/metrics/_classification.py:1565: UndefinedMetricWarning: Precision is ill-defined and being set to 0.0 in labels with no predicted samples. Use `zero_division` parameter to control this behavior.\n",
      "  _warn_prf(average, modifier, f\"{metric.capitalize()} is\", len(result))\n",
      "/Users/jorgegarcelan/Desktop/UNI/6-LAB TSC/interspeech-nlp/.venv/lib/python3.9/site-packages/sklearn/metrics/_classification.py:1565: UndefinedMetricWarning: Precision is ill-defined and being set to 0.0 in labels with no predicted samples. Use `zero_division` parameter to control this behavior.\n",
      "  _warn_prf(average, modifier, f\"{metric.capitalize()} is\", len(result))\n",
      "/Users/jorgegarcelan/Desktop/UNI/6-LAB TSC/interspeech-nlp/.venv/lib/python3.9/site-packages/sklearn/metrics/_classification.py:1565: UndefinedMetricWarning: Precision is ill-defined and being set to 0.0 in labels with no predicted samples. Use `zero_division` parameter to control this behavior.\n",
      "  _warn_prf(average, modifier, f\"{metric.capitalize()} is\", len(result))\n",
      "/Users/jorgegarcelan/Desktop/UNI/6-LAB TSC/interspeech-nlp/.venv/lib/python3.9/site-packages/sklearn/metrics/_classification.py:1565: UndefinedMetricWarning: Precision is ill-defined and being set to 0.0 in labels with no predicted samples. Use `zero_division` parameter to control this behavior.\n",
      "  _warn_prf(average, modifier, f\"{metric.capitalize()} is\", len(result))\n",
      "/Users/jorgegarcelan/Desktop/UNI/6-LAB TSC/interspeech-nlp/.venv/lib/python3.9/site-packages/sklearn/metrics/_classification.py:1565: UndefinedMetricWarning: Precision is ill-defined and being set to 0.0 in labels with no predicted samples. Use `zero_division` parameter to control this behavior.\n",
      "  _warn_prf(average, modifier, f\"{metric.capitalize()} is\", len(result))\n",
      "/Users/jorgegarcelan/Desktop/UNI/6-LAB TSC/interspeech-nlp/.venv/lib/python3.9/site-packages/sklearn/metrics/_classification.py:1565: UndefinedMetricWarning: Precision is ill-defined and being set to 0.0 in labels with no predicted samples. Use `zero_division` parameter to control this behavior.\n",
      "  _warn_prf(average, modifier, f\"{metric.capitalize()} is\", len(result))\n",
      "/Users/jorgegarcelan/Desktop/UNI/6-LAB TSC/interspeech-nlp/.venv/lib/python3.9/site-packages/sklearn/metrics/_classification.py:1565: UndefinedMetricWarning: Precision is ill-defined and being set to 0.0 in labels with no predicted samples. Use `zero_division` parameter to control this behavior.\n",
      "  _warn_prf(average, modifier, f\"{metric.capitalize()} is\", len(result))\n",
      "/Users/jorgegarcelan/Desktop/UNI/6-LAB TSC/interspeech-nlp/.venv/lib/python3.9/site-packages/sklearn/metrics/_classification.py:1565: UndefinedMetricWarning: Precision is ill-defined and being set to 0.0 in labels with no predicted samples. Use `zero_division` parameter to control this behavior.\n",
      "  _warn_prf(average, modifier, f\"{metric.capitalize()} is\", len(result))\n",
      "/Users/jorgegarcelan/Desktop/UNI/6-LAB TSC/interspeech-nlp/.venv/lib/python3.9/site-packages/sklearn/metrics/_classification.py:1565: UndefinedMetricWarning: Precision is ill-defined and being set to 0.0 in labels with no predicted samples. Use `zero_division` parameter to control this behavior.\n",
      "  _warn_prf(average, modifier, f\"{metric.capitalize()} is\", len(result))\n"
     ]
    },
    {
     "data": {
      "text/plain": [
       "TrainOutput(global_step=7090, training_loss=1.5554145071839411, metrics={'train_runtime': 39243.9768, 'train_samples_per_second': 5.78, 'train_steps_per_second': 0.181, 'total_flos': 3.005133102867456e+16, 'train_loss': 1.5554145071839411, 'epoch': 10.0})"
      ]
     },
     "execution_count": 16,
     "metadata": {},
     "output_type": "execute_result"
    }
   ],
   "source": [
    "trainer.train()"
   ]
  },
  {
   "cell_type": "code",
   "execution_count": 17,
   "metadata": {},
   "outputs": [],
   "source": [
    "# preds_output = trainer.predict(test_dataset)\n",
    "# preds_metrics = preds_output.metrics\n",
    "# preds_metrics"
   ]
  },
  {
   "cell_type": "code",
   "execution_count": 18,
   "metadata": {},
   "outputs": [
    {
     "data": {
      "text/plain": [
       "Dataset({\n",
       "    features: ['FileName', 'worker', 'primary_emotion', 'EmoClass', 'labels', 'WorkerNum', 'NewPartition', 'text', 'input_ids', 'attention_mask'],\n",
       "    num_rows: 27076\n",
       "})"
      ]
     },
     "execution_count": 18,
     "metadata": {},
     "output_type": "execute_result"
    }
   ],
   "source": [
    "data_dataset"
   ]
  },
  {
   "cell_type": "code",
   "execution_count": 19,
   "metadata": {},
   "outputs": [
    {
     "data": {
      "text/html": [],
      "text/plain": [
       "<IPython.core.display.HTML object>"
      ]
     },
     "metadata": {},
     "output_type": "display_data"
    },
    {
     "data": {
      "text/plain": [
       "'predicciones_female.npy'"
      ]
     },
     "execution_count": 19,
     "metadata": {},
     "output_type": "execute_result"
    }
   ],
   "source": [
    "# Realizar la predicción con el trainer\n",
    "preds_output = trainer.predict(data_dataset)\n",
    "preds_metrics = preds_output.metrics\n",
    "\n",
    "# Extraer los logits de la predicción\n",
    "logits = preds_output.predictions\n",
    "\n",
    "# Aplicar softmax para obtener probabilidades\n",
    "probs = np.exp(logits) / np.exp(logits).sum(axis=1, keepdims=True)  # Softmax\n",
    "\n",
    "# Guardar en archivo .npy\n",
    "output_path = \"predicciones_female.npy\"\n",
    "np.save(output_path, probs)\n",
    "\n",
    "# Confirmar guardado\n",
    "output_path"
   ]
  },
  {
   "cell_type": "code",
   "execution_count": 20,
   "metadata": {},
   "outputs": [
    {
     "name": "stdout",
     "output_type": "stream",
     "text": [
      "(27076, 9)\n"
     ]
    }
   ],
   "source": [
    "probs_cargadas = np.load(\"predicciones_female.npy\")\n",
    "print(probs_cargadas.shape)  # Debe ser (num_filas, 9)"
   ]
  },
  {
   "cell_type": "code",
   "execution_count": 21,
   "metadata": {},
   "outputs": [
    {
     "data": {
      "image/png": "[encoded data removed]",
      "text/plain": [
       "<Figure size 1000x800 with 2 Axes>"
      ]
     },
     "metadata": {},
     "output_type": "display_data"
    }
   ],
   "source": [
    "import matplotlib.pyplot as plt\n",
    "import numpy as np\n",
    "\n",
    "labels = label2id.keys()\n",
    "conf_matrix = preds_metrics['test_confusion_matrix']\n",
    "\n",
    "# Crear el gráfico de la matriz de confusión\n",
    "plt.figure(figsize=(10, 8))\n",
    "plt.imshow(conf_matrix, cmap=plt.cm.Blues)\n",
    "plt.title(\"Confusion Matrix\")\n",
    "plt.colorbar()\n",
    "\n",
    "# Agregar etiquetas\n",
    "tick_marks = np.arange(len(labels))\n",
    "plt.xticks(tick_marks, labels)\n",
    "plt.yticks(tick_marks, labels)\n",
    "\n",
    "# Rótulos de valores dentro de cada celda\n",
    "conf_matrix = np.array(conf_matrix)\n",
    "\n",
    "# Calcular el umbral\n",
    "thresh = conf_matrix.max() / 2\n",
    "for i, j in np.ndindex(conf_matrix.shape):\n",
    "    plt.text(\n",
    "        j, i, format(conf_matrix[i, j], 'd'),\n",
    "        horizontalalignment=\"center\",\n",
    "        color=\"white\" if conf_matrix[i, j] > thresh else \"black\"\n",
    "    )\n",
    "\n",
    "# Etiquetas de los ejes\n",
    "plt.ylabel('True Label')\n",
    "plt.xlabel('Predicted Label')\n",
    "plt.tight_layout()\n",
    "plt.show()"
   ]
  }
 ],
 "metadata": {
  "kernelspec": {
   "display_name": ".venv",
   "language": "python",
   "name": "python3"
  },
  "language_info": {
   "codemirror_mode": {
    "name": "ipython",
    "version": 3
   },
   "file_extension": ".py",
   "mimetype": "text/x-python",
   "name": "python",
   "nbconvert_exporter": "python",
   "pygments_lexer": "ipython3",
   "version": "3.9.6"
  }
 },
 "nbformat": 4,
 "nbformat_minor": 2
}
