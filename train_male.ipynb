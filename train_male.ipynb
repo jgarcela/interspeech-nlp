{
 "cells": [
  {
   "cell_type": "markdown",
   "metadata": {},
   "source": [
    "# Train Interspeech"
   ]
  },
  {
   "cell_type": "markdown",
   "metadata": {},
   "source": [
    "## Data"
   ]
  },
  {
   "cell_type": "code",
   "execution_count": 10,
   "metadata": {},
   "outputs": [],
   "source": [
    "balanced = False"
   ]
  },
  {
   "cell_type": "code",
   "execution_count": 11,
   "metadata": {},
   "outputs": [],
   "source": [
    "preprocessed = False"
   ]
  },
  {
   "cell_type": "code",
   "execution_count": 12,
   "metadata": {},
   "outputs": [
    {
     "name": "stdout",
     "output_type": "stream",
     "text": [
      "6384\n",
      "6384\n"
     ]
    },
    {
     "data": {
      "text/html": [
       "<div>\n",
       "<style scoped>\n",
       "    .dataframe tbody tr th:only-of-type {\n",
       "        vertical-align: middle;\n",
       "    }\n",
       "\n",
       "    .dataframe tbody tr th {\n",
       "        vertical-align: top;\n",
       "    }\n",
       "\n",
       "    .dataframe thead th {\n",
       "        text-align: right;\n",
       "    }\n",
       "</style>\n",
       "<table border=\"1\" class=\"dataframe\">\n",
       "  <thead>\n",
       "    <tr style=\"text-align: right;\">\n",
       "      <th></th>\n",
       "      <th>FileName</th>\n",
       "      <th>text</th>\n",
       "      <th>EmoClass</th>\n",
       "      <th>EmoAct</th>\n",
       "      <th>EmoVal</th>\n",
       "      <th>EmoDom</th>\n",
       "      <th>SpkrID</th>\n",
       "      <th>Gender</th>\n",
       "      <th>Split_Set</th>\n",
       "      <th>PodcastID</th>\n",
       "      <th>StratifyCol</th>\n",
       "      <th>NewPartition</th>\n",
       "      <th>PseudoEmo</th>\n",
       "      <th>InvEntropyNorm</th>\n",
       "      <th>PseudoEmoNum</th>\n",
       "    </tr>\n",
       "  </thead>\n",
       "  <tbody>\n",
       "    <tr>\n",
       "      <th>0</th>\n",
       "      <td>MSP-PODCAST_4583_0017_0001</td>\n",
       "      <td>from what it looks like, heidi was okay with j...</td>\n",
       "      <td>A</td>\n",
       "      <td>4.8</td>\n",
       "      <td>2.8</td>\n",
       "      <td>5.2</td>\n",
       "      <td>2357</td>\n",
       "      <td>Male</td>\n",
       "      <td>Train</td>\n",
       "      <td>4583</td>\n",
       "      <td>4583_2357_A</td>\n",
       "      <td>Train</td>\n",
       "      <td>A</td>\n",
       "      <td>1.0</td>\n",
       "      <td>2</td>\n",
       "    </tr>\n",
       "    <tr>\n",
       "      <th>1</th>\n",
       "      <td>MSP-PODCAST_3162_0475</td>\n",
       "      <td>gave them extra money and then they decided th...</td>\n",
       "      <td>A</td>\n",
       "      <td>6.2</td>\n",
       "      <td>2.6</td>\n",
       "      <td>6.2</td>\n",
       "      <td>2124</td>\n",
       "      <td>Male</td>\n",
       "      <td>Development</td>\n",
       "      <td>3162</td>\n",
       "      <td>3162_2124_A</td>\n",
       "      <td>Train</td>\n",
       "      <td>A</td>\n",
       "      <td>1.0</td>\n",
       "      <td>2</td>\n",
       "    </tr>\n",
       "    <tr>\n",
       "      <th>2</th>\n",
       "      <td>MSP-PODCAST_2355_0349</td>\n",
       "      <td>yes, you're going to fucking die.</td>\n",
       "      <td>A</td>\n",
       "      <td>4.2</td>\n",
       "      <td>2.6</td>\n",
       "      <td>4.8</td>\n",
       "      <td>1601</td>\n",
       "      <td>Male</td>\n",
       "      <td>Train</td>\n",
       "      <td>2355</td>\n",
       "      <td>2355_1601_A</td>\n",
       "      <td>Test</td>\n",
       "      <td>A</td>\n",
       "      <td>1.0</td>\n",
       "      <td>2</td>\n",
       "    </tr>\n",
       "    <tr>\n",
       "      <th>3</th>\n",
       "      <td>MSP-PODCAST_5201_1197</td>\n",
       "      <td>and i already kind of had it in my mind</td>\n",
       "      <td>A</td>\n",
       "      <td>5.2</td>\n",
       "      <td>3.6</td>\n",
       "      <td>5.4</td>\n",
       "      <td>2789</td>\n",
       "      <td>Male</td>\n",
       "      <td>Development</td>\n",
       "      <td>5201</td>\n",
       "      <td>5201_2789_A</td>\n",
       "      <td>Train</td>\n",
       "      <td>A</td>\n",
       "      <td>1.0</td>\n",
       "      <td>2</td>\n",
       "    </tr>\n",
       "    <tr>\n",
       "      <th>4</th>\n",
       "      <td>MSP-PODCAST_5583_1543</td>\n",
       "      <td>i'm talking about a lot of you guys got to sta...</td>\n",
       "      <td>A</td>\n",
       "      <td>4.8</td>\n",
       "      <td>3.4</td>\n",
       "      <td>4.8</td>\n",
       "      <td>2953</td>\n",
       "      <td>Male</td>\n",
       "      <td>Train</td>\n",
       "      <td>5583</td>\n",
       "      <td>5583_2953_A</td>\n",
       "      <td>Train</td>\n",
       "      <td>A</td>\n",
       "      <td>1.0</td>\n",
       "      <td>2</td>\n",
       "    </tr>\n",
       "  </tbody>\n",
       "</table>\n",
       "</div>"
      ],
      "text/plain": [
       "                     FileName  \\\n",
       "0  MSP-PODCAST_4583_0017_0001   \n",
       "1       MSP-PODCAST_3162_0475   \n",
       "2       MSP-PODCAST_2355_0349   \n",
       "3       MSP-PODCAST_5201_1197   \n",
       "4       MSP-PODCAST_5583_1543   \n",
       "\n",
       "                                                text EmoClass  EmoAct  EmoVal  \\\n",
       "0  from what it looks like, heidi was okay with j...        A     4.8     2.8   \n",
       "1  gave them extra money and then they decided th...        A     6.2     2.6   \n",
       "2                  yes, you're going to fucking die.        A     4.2     2.6   \n",
       "3            and i already kind of had it in my mind        A     5.2     3.6   \n",
       "4  i'm talking about a lot of you guys got to sta...        A     4.8     3.4   \n",
       "\n",
       "   EmoDom  SpkrID Gender    Split_Set  PodcastID  StratifyCol NewPartition  \\\n",
       "0     5.2    2357   Male        Train       4583  4583_2357_A        Train   \n",
       "1     6.2    2124   Male  Development       3162  3162_2124_A        Train   \n",
       "2     4.8    1601   Male        Train       2355  2355_1601_A         Test   \n",
       "3     5.4    2789   Male  Development       5201  5201_2789_A        Train   \n",
       "4     4.8    2953   Male        Train       5583  5583_2953_A        Train   \n",
       "\n",
       "  PseudoEmo  InvEntropyNorm  PseudoEmoNum  \n",
       "0         A             1.0             2  \n",
       "1         A             1.0             2  \n",
       "2         A             1.0             2  \n",
       "3         A             1.0             2  \n",
       "4         A             1.0             2  "
      ]
     },
     "execution_count": 12,
     "metadata": {},
     "output_type": "execute_result"
    }
   ],
   "source": [
    "import pandas as pd\n",
    "\n",
    "# Cargar el CSV para male\n",
    "# data = pd.read_csv('data/data_male.csv')\n",
    "data = pd.read_csv('data/balanced_pseudo_male.csv')\n",
    "\n",
    "print(len(data))\n",
    "# Eliminar filas con valores nulos solo en la columna 'text'\n",
    "data = data.dropna(subset=['text'])\n",
    "#data.to_csv('data/data_male.csv', index=False)\n",
    "print(len(data))\n",
    "data.head()"
   ]
  },
  {
   "cell_type": "code",
   "execution_count": 13,
   "metadata": {},
   "outputs": [],
   "source": [
    "if balanced:\n",
    "    # Paso 1: Determinar el tamaño mínimo entre las clases\n",
    "    min_count = data['PseudoEmo'].value_counts().min()\n",
    "\n",
    "    # Paso 2: Submuestrear cada clase\n",
    "    data = data.groupby('PseudoEmo').apply(lambda x: x.sample(min_count)).reset_index(drop=True)\n",
    "\n",
    "    # Paso 3: Verificar el balance\n",
    "    print(data['PseudoEmo'].value_counts())\n",
    "    print(len(data))\n",
    "\n",
    "    #data.to_csv('data/balanced_pseudo_male.csv', index=False)\n"
   ]
  },
  {
   "cell_type": "code",
   "execution_count": 14,
   "metadata": {},
   "outputs": [
    {
     "name": "stdout",
     "output_type": "stream",
     "text": [
      "Conjunto Train:\n",
      "                     FileName  \\\n",
      "0  MSP-PODCAST_4583_0017_0001   \n",
      "1       MSP-PODCAST_3162_0475   \n",
      "3       MSP-PODCAST_5201_1197   \n",
      "4       MSP-PODCAST_5583_1543   \n",
      "6       MSP-PODCAST_2736_0392   \n",
      "\n",
      "                                                text EmoClass  EmoAct  EmoVal  \\\n",
      "0  from what it looks like, heidi was okay with j...        A     4.8     2.8   \n",
      "1  gave them extra money and then they decided th...        A     6.2     2.6   \n",
      "3            and i already kind of had it in my mind        A     5.2     3.6   \n",
      "4  i'm talking about a lot of you guys got to sta...        A     4.8     3.4   \n",
      "6  like you have an outside porch, like a screen ...        X     5.0     2.6   \n",
      "\n",
      "   EmoDom  SpkrID Gender    Split_Set  PodcastID  StratifyCol NewPartition  \\\n",
      "0     5.2    2357   Male        Train       4583  4583_2357_A        Train   \n",
      "1     6.2    2124   Male  Development       3162  3162_2124_A        Train   \n",
      "3     5.4    2789   Male  Development       5201  5201_2789_A        Train   \n",
      "4     4.8    2953   Male        Train       5583  5583_2953_A        Train   \n",
      "6     4.0    1506   Male        Train       2736  2736_1506_X        Train   \n",
      "\n",
      "  PseudoEmo  InvEntropyNorm  PseudoEmoNum  \n",
      "0         A        1.000000             2  \n",
      "1         A        1.000000             2  \n",
      "3         A        1.000000             2  \n",
      "4         A        1.000000             2  \n",
      "6         A        0.394447             2  \n",
      "Conjunto Development:\n",
      "                      FileName  \\\n",
      "5   MSP-PODCAST_4265_0648_0000   \n",
      "12       MSP-PODCAST_0567_0164   \n",
      "16       MSP-PODCAST_5471_0052   \n",
      "18       MSP-PODCAST_5445_0156   \n",
      "22       MSP-PODCAST_5486_0878   \n",
      "\n",
      "                                                 text EmoClass    EmoAct  \\\n",
      "5   because you have to go out and get hurt. you h...        A  4.800000   \n",
      "12  that is what people are going through in venez...        A  6.083333   \n",
      "16  ... drive and drove off. ripped the damn hose ...        A  4.800000   \n",
      "18  and that's just sad. think about your fucking ...        A  3.400000   \n",
      "22  ... and look at yourself, you'd probably-yes.....        A  4.800000   \n",
      "\n",
      "      EmoVal  EmoDom  SpkrID Gender    Split_Set  PodcastID  StratifyCol  \\\n",
      "5   2.800000     4.8    2027   Male  Development       4265  4265_2027_A   \n",
      "12  2.166667     6.0     139   Male        Train        567   0567_139_A   \n",
      "16  2.200000     5.0    2864   Male        Train       5471  5471_2864_A   \n",
      "18  2.200000     5.0    2861   Male        Train       5445  5445_2861_A   \n",
      "22  2.800000     4.6    2865   Male        Train       5486  5486_2865_A   \n",
      "\n",
      "   NewPartition PseudoEmo  InvEntropyNorm  PseudoEmoNum  \n",
      "5    Evaluation         A             1.0             2  \n",
      "12   Evaluation         A             1.0             2  \n",
      "16   Evaluation         A             1.0             2  \n",
      "18   Evaluation         A             1.0             2  \n",
      "22   Evaluation         A             1.0             2  \n",
      "Conjunto Test:\n",
      "                      FileName  \\\n",
      "2        MSP-PODCAST_2355_0349   \n",
      "7   MSP-PODCAST_0551_0081_0001   \n",
      "8   MSP-PODCAST_1355_0048_0015   \n",
      "11       MSP-PODCAST_0266_0371   \n",
      "13       MSP-PODCAST_5468_0144   \n",
      "\n",
      "                                                 text EmoClass    EmoAct  \\\n",
      "2                   yes, you're going to fucking die.        A  4.200000   \n",
      "7    blow it up or kill your neighbor because they...        A  3.600000   \n",
      "8    that's something that happens at the end of e...        A  4.800000   \n",
      "11  absolutely. and it's their policies that are f...        A  5.277778   \n",
      "13  okay. but in your mind, you know that she's ge...        A  4.800000   \n",
      "\n",
      "      EmoVal    EmoDom  SpkrID Gender Split_Set  PodcastID  StratifyCol  \\\n",
      "2   2.600000  4.800000    1601   Male     Train       2355  2355_1601_A   \n",
      "7   2.600000  3.800000     217   Male     Train        551   0551_217_A   \n",
      "8   4.000000  5.000000     756   Male     Train       1355   1355_756_A   \n",
      "11  2.111111  5.666667     115   Male     Train        266   0266_115_A   \n",
      "13  3.200000  5.000000    3166   Male     Train       5468  5468_3166_A   \n",
      "\n",
      "   NewPartition PseudoEmo  InvEntropyNorm  PseudoEmoNum  \n",
      "2          Test         A             1.0             2  \n",
      "7          Test         A             1.0             2  \n",
      "8          Test         A             1.0             2  \n",
      "11         Test         A             1.0             2  \n",
      "13         Test         A             1.0             2  \n"
     ]
    }
   ],
   "source": [
    "# Filtrar los datos en tres conjuntos basados en la columna 'Split_Set'\n",
    "train_df = data.loc[data['NewPartition'] == 'Train']\n",
    "dev_df = data.loc[data['NewPartition'] == 'Evaluation']\n",
    "test_df = data.loc[data['NewPartition'] == 'Test']\n",
    "\n",
    "# Verifica las primeras filas de cada conjunto\n",
    "print(\"Conjunto Train:\")\n",
    "print(train_df.head())\n",
    "\n",
    "print(\"Conjunto Development:\")\n",
    "print(dev_df.head())\n",
    "\n",
    "print(\"Conjunto Test:\")\n",
    "print(test_df.head())"
   ]
  },
  {
   "cell_type": "code",
   "execution_count": 15,
   "metadata": {},
   "outputs": [],
   "source": [
    "# # Establecer la semilla para garantizar reproducibilidad\n",
    "# seed = 42\n",
    "\n",
    "# # Seleccionar aleatoriamente las primeras N filas del conjunto de entrenamiento\n",
    "# train_df = train_df.sample(n=1000, random_state=seed)\n",
    "\n",
    "# # Seleccionar aleatoriamente las primeras N filas del conjunto de desarrollo\n",
    "# dev_df = dev_df.sample(n=250, random_state=seed)"
   ]
  },
  {
   "cell_type": "code",
   "execution_count": 16,
   "metadata": {},
   "outputs": [
    {
     "name": "stdout",
     "output_type": "stream",
     "text": [
      "id2label={2: 'A', 4: 'C', 6: 'D', 7: 'F', 1: 'H', 0: 'N', 3: 'S', 5: 'U'}\n",
      "label2id={'A': 2, 'C': 4, 'D': 6, 'F': 7, 'H': 1, 'N': 0, 'S': 3, 'U': 5}\n"
     ]
    }
   ],
   "source": [
    "num_labels = 8\n",
    "id2label = dict(zip(train_df[\"PseudoEmoNum\"], train_df[\"PseudoEmo\"]))\n",
    "label2id = dict(zip(train_df[\"PseudoEmo\"], train_df[\"PseudoEmoNum\"]))\n",
    "print(f\"{id2label=}\")\n",
    "print(f\"{label2id=}\")"
   ]
  },
  {
   "cell_type": "code",
   "execution_count": 17,
   "metadata": {},
   "outputs": [
    {
     "name": "stderr",
     "output_type": "stream",
     "text": [
      "/var/folders/dh/_ks73kfn57l67vxm7b5y16qw0000gn/T/ipykernel_37904/2335822977.py:2: SettingWithCopyWarning: \n",
      "A value is trying to be set on a copy of a slice from a DataFrame.\n",
      "Try using .loc[row_indexer,col_indexer] = value instead\n",
      "\n",
      "See the caveats in the documentation: https://pandas.pydata.org/pandas-docs/stable/user_guide/indexing.html#returning-a-view-versus-a-copy\n",
      "  train_df['PseudoEmoNum'] = train_df['PseudoEmoNum'].astype(int)\n",
      "/var/folders/dh/_ks73kfn57l67vxm7b5y16qw0000gn/T/ipykernel_37904/2335822977.py:3: SettingWithCopyWarning: \n",
      "A value is trying to be set on a copy of a slice from a DataFrame.\n",
      "Try using .loc[row_indexer,col_indexer] = value instead\n",
      "\n",
      "See the caveats in the documentation: https://pandas.pydata.org/pandas-docs/stable/user_guide/indexing.html#returning-a-view-versus-a-copy\n",
      "  dev_df['PseudoEmoNum'] = dev_df['PseudoEmoNum'].astype(int)\n",
      "/var/folders/dh/_ks73kfn57l67vxm7b5y16qw0000gn/T/ipykernel_37904/2335822977.py:4: SettingWithCopyWarning: \n",
      "A value is trying to be set on a copy of a slice from a DataFrame.\n",
      "Try using .loc[row_indexer,col_indexer] = value instead\n",
      "\n",
      "See the caveats in the documentation: https://pandas.pydata.org/pandas-docs/stable/user_guide/indexing.html#returning-a-view-versus-a-copy\n",
      "  test_df['PseudoEmoNum'] = test_df['PseudoEmoNum'].astype(int)\n"
     ]
    }
   ],
   "source": [
    "# Convertir EmoClass a valores numéricos si es necesario\n",
    "train_df['PseudoEmoNum'] = train_df['PseudoEmoNum'].astype(int)\n",
    "dev_df['PseudoEmoNum'] = dev_df['PseudoEmoNum'].astype(int)\n",
    "test_df['PseudoEmoNum'] = test_df['PseudoEmoNum'].astype(int)"
   ]
  },
  {
   "cell_type": "code",
   "execution_count": 18,
   "metadata": {},
   "outputs": [],
   "source": [
    "from datasets import Dataset\n",
    "from transformers import AutoTokenizer\n",
    "\n",
    "\n",
    "if preprocessed == False:\n",
    "    # Modelo\n",
    "    # model_ckpt = \"distilbert-base-uncased\"\n",
    "    model_ckpt = \"distilroberta-base\"\n",
    "\n",
    "    # Cargar el tokenizer\n",
    "    tokenizer = AutoTokenizer.from_pretrained(model_ckpt)\n",
    "\n",
    "    # Función para tokenizar los datos\n",
    "    def tokenize_function(examples):\n",
    "        # Verificar que estamos pasando una lista de textos\n",
    "        texts = examples['text']\n",
    "        return tokenizer(texts, padding=\"max_length\", truncation=True)\n",
    "\n",
    "    # Asegurarse de que 'train_df' y 'dev_df' son objetos Dataset de Hugging Face\n",
    "    train_dataset = Dataset.from_pandas(train_df)\n",
    "    dev_dataset = Dataset.from_pandas(dev_df)\n",
    "    test_dataset = Dataset.from_pandas(test_df)\n",
    "\n",
    "\n",
    "    # Tokenizamos ambos conjuntos de datos\n",
    "    train_dataset = train_dataset.map(tokenize_function, batched=True)\n",
    "    dev_dataset = dev_dataset.map(tokenize_function, batched=True)\n",
    "    test_dataset = test_dataset.map(tokenize_function, batched=True)\n",
    "\n",
    "\n",
    "    # Renombrar columna de labels\n",
    "    train_dataset = train_dataset.rename_column(\"PseudoEmoNum\", \"labels\")\n",
    "    dev_dataset = dev_dataset.rename_column(\"PseudoEmoNum\", \"labels\")\n",
    "    test_dataset = test_dataset.rename_column(\"PseudoEmoNum\", \"labels\")\n"
   ]
  },
  {
   "cell_type": "code",
   "execution_count": 19,
   "metadata": {},
   "outputs": [
    {
     "name": "stderr",
     "output_type": "stream",
     "text": [
      "[nltk_data] Downloading package stopwords to\n",
      "[nltk_data]     /Users/jorgegarcelan/nltk_data...\n",
      "[nltk_data]   Package stopwords is already up-to-date!\n",
      "[nltk_data] Downloading package wordnet to\n",
      "[nltk_data]     /Users/jorgegarcelan/nltk_data...\n",
      "[nltk_data]   Package wordnet is already up-to-date!\n",
      "Map (num_proc=4): 100%|██████████| 2782/2782 [00:00<00:00, 10114.38 examples/s]\n",
      "Map (num_proc=4): 100%|██████████| 1261/1261 [00:00<00:00, 6740.62 examples/s]\n",
      "Map (num_proc=4): 100%|██████████| 2341/2341 [00:00<00:00, 8893.03 examples/s]"
     ]
    },
    {
     "name": "stdout",
     "output_type": "stream",
     "text": [
      "{'FileName': 'MSP-PODCAST_4583_0017_0001', 'text': \"from what it looks like, heidi was okay with jared exploring his feelings with holly and that's when things got messy.\", 'EmoClass': 'A', 'EmoAct': 4.8, 'EmoVal': 2.8, 'EmoDom': 5.2, 'SpkrID': 2357, 'Gender': 'Male', 'Split_Set': 'Train', 'PodcastID': 4583, 'StratifyCol': '4583_2357_A', 'NewPartition': 'Train', 'PseudoEmo': 'A', 'InvEntropyNorm': 1.0, 'labels': 2, '__index_level_0__': 0, 'input_ids': [101, 2013, 2054, 2009, 3504, 2066, 1010, 21372, 2001, 3100, 2007, 8334, 11131, 2010, 5346, 2007, 9079, 1998, 2008, 1005, 1055, 2043, 2477, 2288, 18307, 1012, 102, 0, 0, 0, 0, 0, 0, 0, 0, 0, 0, 0, 0, 0, 0, 0, 0, 0, 0, 0, 0, 0, 0, 0, 0, 0, 0, 0, 0, 0, 0, 0, 0, 0, 0, 0, 0, 0, 0, 0, 0, 0, 0, 0, 0, 0, 0, 0, 0, 0, 0, 0, 0, 0, 0, 0, 0, 0, 0, 0, 0, 0, 0, 0, 0, 0, 0, 0, 0, 0, 0, 0, 0, 0, 0, 0, 0, 0, 0, 0, 0, 0, 0, 0, 0, 0, 0, 0, 0, 0, 0, 0, 0, 0, 0, 0, 0, 0, 0, 0, 0, 0, 0, 0, 0, 0, 0, 0, 0, 0, 0, 0, 0, 0, 0, 0, 0, 0, 0, 0, 0, 0, 0, 0, 0, 0, 0, 0, 0, 0, 0, 0, 0, 0, 0, 0, 0, 0, 0, 0, 0, 0, 0, 0, 0, 0, 0, 0, 0, 0, 0, 0, 0, 0, 0, 0, 0, 0, 0, 0, 0, 0, 0, 0, 0, 0, 0, 0, 0, 0, 0, 0, 0, 0, 0, 0, 0, 0, 0, 0, 0, 0, 0, 0, 0, 0, 0, 0, 0, 0, 0, 0, 0, 0, 0, 0, 0, 0, 0, 0, 0, 0, 0, 0, 0, 0, 0, 0, 0, 0, 0, 0, 0, 0, 0, 0, 0, 0, 0, 0, 0, 0, 0, 0, 0, 0, 0, 0, 0, 0, 0, 0, 0, 0, 0, 0, 0, 0, 0, 0, 0, 0, 0, 0, 0, 0, 0, 0, 0, 0, 0, 0, 0, 0, 0, 0, 0, 0, 0, 0, 0, 0, 0, 0, 0, 0, 0, 0, 0, 0, 0, 0, 0, 0, 0, 0, 0, 0, 0, 0, 0, 0, 0, 0, 0, 0, 0, 0, 0, 0, 0, 0, 0, 0, 0, 0, 0, 0, 0, 0, 0, 0, 0, 0, 0, 0, 0, 0, 0, 0, 0, 0, 0, 0, 0, 0, 0, 0, 0, 0, 0, 0, 0, 0, 0, 0, 0, 0, 0, 0, 0, 0, 0, 0, 0, 0, 0, 0, 0, 0, 0, 0, 0, 0, 0, 0, 0, 0, 0, 0, 0, 0, 0, 0, 0, 0, 0, 0, 0, 0, 0, 0, 0, 0, 0, 0, 0, 0, 0, 0, 0, 0, 0, 0, 0, 0, 0, 0, 0, 0, 0, 0, 0, 0, 0, 0, 0, 0, 0, 0, 0, 0, 0, 0, 0, 0, 0, 0, 0, 0, 0, 0, 0, 0, 0, 0, 0, 0, 0, 0, 0, 0, 0, 0, 0, 0, 0, 0, 0, 0, 0, 0, 0, 0, 0, 0, 0, 0, 0, 0, 0, 0, 0, 0, 0, 0, 0, 0, 0, 0, 0, 0, 0, 0, 0, 0, 0, 0, 0, 0, 0, 0, 0, 0, 0, 0, 0, 0, 0, 0, 0, 0, 0, 0, 0, 0, 0, 0, 0, 0, 0, 0, 0, 0, 0, 0, 0, 0, 0, 0, 0, 0, 0, 0, 0, 0], 'attention_mask': [1, 1, 1, 1, 1, 1, 1, 1, 1, 1, 1, 1, 1, 1, 1, 1, 1, 1, 1, 1, 1, 1, 1, 1, 1, 1, 1, 0, 0, 0, 0, 0, 0, 0, 0, 0, 0, 0, 0, 0, 0, 0, 0, 0, 0, 0, 0, 0, 0, 0, 0, 0, 0, 0, 0, 0, 0, 0, 0, 0, 0, 0, 0, 0, 0, 0, 0, 0, 0, 0, 0, 0, 0, 0, 0, 0, 0, 0, 0, 0, 0, 0, 0, 0, 0, 0, 0, 0, 0, 0, 0, 0, 0, 0, 0, 0, 0, 0, 0, 0, 0, 0, 0, 0, 0, 0, 0, 0, 0, 0, 0, 0, 0, 0, 0, 0, 0, 0, 0, 0, 0, 0, 0, 0, 0, 0, 0, 0, 0, 0, 0, 0, 0, 0, 0, 0, 0, 0, 0, 0, 0, 0, 0, 0, 0, 0, 0, 0, 0, 0, 0, 0, 0, 0, 0, 0, 0, 0, 0, 0, 0, 0, 0, 0, 0, 0, 0, 0, 0, 0, 0, 0, 0, 0, 0, 0, 0, 0, 0, 0, 0, 0, 0, 0, 0, 0, 0, 0, 0, 0, 0, 0, 0, 0, 0, 0, 0, 0, 0, 0, 0, 0, 0, 0, 0, 0, 0, 0, 0, 0, 0, 0, 0, 0, 0, 0, 0, 0, 0, 0, 0, 0, 0, 0, 0, 0, 0, 0, 0, 0, 0, 0, 0, 0, 0, 0, 0, 0, 0, 0, 0, 0, 0, 0, 0, 0, 0, 0, 0, 0, 0, 0, 0, 0, 0, 0, 0, 0, 0, 0, 0, 0, 0, 0, 0, 0, 0, 0, 0, 0, 0, 0, 0, 0, 0, 0, 0, 0, 0, 0, 0, 0, 0, 0, 0, 0, 0, 0, 0, 0, 0, 0, 0, 0, 0, 0, 0, 0, 0, 0, 0, 0, 0, 0, 0, 0, 0, 0, 0, 0, 0, 0, 0, 0, 0, 0, 0, 0, 0, 0, 0, 0, 0, 0, 0, 0, 0, 0, 0, 0, 0, 0, 0, 0, 0, 0, 0, 0, 0, 0, 0, 0, 0, 0, 0, 0, 0, 0, 0, 0, 0, 0, 0, 0, 0, 0, 0, 0, 0, 0, 0, 0, 0, 0, 0, 0, 0, 0, 0, 0, 0, 0, 0, 0, 0, 0, 0, 0, 0, 0, 0, 0, 0, 0, 0, 0, 0, 0, 0, 0, 0, 0, 0, 0, 0, 0, 0, 0, 0, 0, 0, 0, 0, 0, 0, 0, 0, 0, 0, 0, 0, 0, 0, 0, 0, 0, 0, 0, 0, 0, 0, 0, 0, 0, 0, 0, 0, 0, 0, 0, 0, 0, 0, 0, 0, 0, 0, 0, 0, 0, 0, 0, 0, 0, 0, 0, 0, 0, 0, 0, 0, 0, 0, 0, 0, 0, 0, 0, 0, 0, 0, 0, 0, 0, 0, 0, 0, 0, 0, 0, 0, 0, 0, 0, 0, 0, 0, 0, 0, 0, 0, 0, 0, 0, 0, 0, 0, 0, 0, 0, 0, 0, 0, 0, 0, 0, 0, 0, 0, 0, 0, 0, 0, 0, 0, 0, 0, 0, 0, 0, 0, 0]}\n"
     ]
    },
    {
     "name": "stderr",
     "output_type": "stream",
     "text": [
      "\n"
     ]
    }
   ],
   "source": [
    "import re\n",
    "from datasets import Dataset\n",
    "from transformers import AutoTokenizer\n",
    "from nltk.corpus import stopwords\n",
    "from nltk.stem import WordNetLemmatizer\n",
    "import nltk\n",
    "\n",
    "if preprocessed:\n",
    "    # Descargar recursos necesarios de NLTK\n",
    "    nltk.download('stopwords')\n",
    "    nltk.download('wordnet')\n",
    "\n",
    "    # Modelo\n",
    "    model_ckpt = \"distilbert-base-uncased\"\n",
    "    tokenizer = AutoTokenizer.from_pretrained(model_ckpt)\n",
    "\n",
    "    # Stopwords en inglés (puedes cambiar el idioma si es necesario)\n",
    "    stop_words = set(stopwords.words('english'))\n",
    "\n",
    "    # Inicializar el lematizador\n",
    "    lemmatizer = WordNetLemmatizer()\n",
    "\n",
    "    # Función para limpiar y tokenizar\n",
    "    def preprocess_and_tokenize(examples):\n",
    "        processed_texts = []\n",
    "        for text in examples['text']:\n",
    "            # Convertir a minúsculas\n",
    "            text = text.lower()\n",
    "            # # Eliminar URLs\n",
    "            # text = re.sub(r\"http\\S+|www\\S+|https\\S+\", \"\", text, flags=re.MULTILINE)\n",
    "            # # Eliminar menciones y hashtags\n",
    "            # text = re.sub(r\"@\\w+|#\\w+\", \"\", text)\n",
    "            # # Eliminar caracteres especiales y puntuación\n",
    "            # text = re.sub(r\"[^a-zA-Z\\s]\", \"\", text)\n",
    "            # # Eliminar números\n",
    "            # text = re.sub(r\"\\d+\", \"\", text)\n",
    "            # # Eliminar palabras de parada\n",
    "            # words = text.split()\n",
    "            # words = [word for word in words if word not in stop_words]\n",
    "            # # Aplicar lematización\n",
    "            # words = [lemmatizer.lemmatize(word) for word in words]\n",
    "            # # Unir palabras limpias\n",
    "            # text = \" \".join(words)\n",
    "            # Añadir texto procesado a la lista\n",
    "            processed_texts.append(text)\n",
    "        \n",
    "        # Tokenizar el texto limpio\n",
    "        return tokenizer(processed_texts, padding=\"max_length\", truncation=True)\n",
    "\n",
    "    # Verificar que no haya valores nulos\n",
    "    train_df = train_df.dropna(subset=[\"text\", \"PseudoEmoNum\"])\n",
    "    dev_df = dev_df.dropna(subset=[\"text\", \"PseudoEmoNum\"])\n",
    "    test_df = test_df.dropna(subset=[\"text\", \"PseudoEmoNum\"])\n",
    "\n",
    "    # Convertir DataFrame a Dataset\n",
    "    train_dataset = Dataset.from_pandas(train_df)\n",
    "    dev_dataset = Dataset.from_pandas(dev_df)\n",
    "    test_dataset = Dataset.from_pandas(test_df)\n",
    "\n",
    "    # Tokenizar los conjuntos de datos\n",
    "    train_dataset = train_dataset.map(preprocess_and_tokenize, batched=True, num_proc=4)\n",
    "    dev_dataset = dev_dataset.map(preprocess_and_tokenize, batched=True, num_proc=4)\n",
    "    test_dataset = test_dataset.map(preprocess_and_tokenize, batched=True, num_proc=4)\n",
    "\n",
    "    # Renombrar columna de labels\n",
    "    train_dataset = train_dataset.rename_column(\"PseudoEmoNum\", \"labels\")\n",
    "    dev_dataset = dev_dataset.rename_column(\"PseudoEmoNum\", \"labels\")\n",
    "    test_dataset = test_dataset.rename_column(\"PseudoEmoNum\", \"labels\")\n",
    "\n",
    "    # Inspeccionar un ejemplo procesado\n",
    "    print(train_dataset[0])\n"
   ]
  },
  {
   "cell_type": "markdown",
   "metadata": {},
   "source": [
    "## Code"
   ]
  },
  {
   "cell_type": "code",
   "execution_count": 20,
   "metadata": {},
   "outputs": [
    {
     "name": "stdout",
     "output_type": "stream",
     "text": [
      "2.5.1\n"
     ]
    }
   ],
   "source": [
    "from transformers import AutoTokenizer\n",
    "import torch\n",
    "print(torch.__version__)  # Esto debería mostrarte la versión de PyTorch instalada"
   ]
  },
  {
   "cell_type": "code",
   "execution_count": 21,
   "metadata": {},
   "outputs": [
    {
     "name": "stderr",
     "output_type": "stream",
     "text": [
      "Some weights of DistilBertForSequenceClassification were not initialized from the model checkpoint at distilbert-base-uncased and are newly initialized: ['classifier.bias', 'classifier.weight', 'pre_classifier.bias', 'pre_classifier.weight']\n",
      "You should probably TRAIN this model on a down-stream task to be able to use it for predictions and inference.\n"
     ]
    },
    {
     "name": "stdout",
     "output_type": "stream",
     "text": [
      "8\n"
     ]
    }
   ],
   "source": [
    "from transformers import AutoModelForSequenceClassification\n",
    "import torch\n",
    "\n",
    "device = torch.device(\"cuda\" if torch.cuda.is_available() else \"cpu\")\n",
    "\n",
    "model = AutoModelForSequenceClassification.from_pretrained(model_ckpt, num_labels=num_labels).to(device)\n",
    "print(model.num_labels)"
   ]
  },
  {
   "cell_type": "code",
   "execution_count": 22,
   "metadata": {},
   "outputs": [],
   "source": [
    "from sklearn.metrics import classification_report, confusion_matrix\n",
    "import numpy as np\n",
    "\n",
    "\n",
    "def compute_metrics(eval_pred):\n",
    "    logits, labels = eval_pred\n",
    "    predictions = np.argmax(logits, axis=-1)\n",
    "    \n",
    "    # Obtener reporte completo\n",
    "    report = classification_report(labels, predictions, output_dict=True)\n",
    "    \n",
    "    # Obtener la matriz de confusión\n",
    "    conf_matrix = confusion_matrix(labels, predictions)\n",
    "    \n",
    "    # Extraer métricas para cada clase y globales\n",
    "    metrics = {\n",
    "        'accuracy': report['accuracy'],\n",
    "        'macro_f1': report['macro avg']['f1-score'],\n",
    "        'weighted_f1': report['weighted avg']['f1-score'],\n",
    "        # 'weighted_precision': report['weighted avg']['precision'],\n",
    "        # 'weighted_recall': report['weighted avg']['recall'],\n",
    "        'confusion_matrix': conf_matrix.tolist()  # Convertir a lista para asegurarse de que es serializable si es necesario\n",
    "    }\n",
    "    \n",
    "    # # Añadir métricas específicas por clase si se requiere\n",
    "    # for label, scores in report.items():\n",
    "    #     if label not in [\"accuracy\", \"macro avg\", \"weighted avg\"]:\n",
    "    #         metrics[f'{label}_precision'] = scores['precision']\n",
    "    #         metrics[f'{label}_recall'] = scores['recall']\n",
    "    #         metrics[f'{label}_f1'] = scores['f1-score']\n",
    "    #         metrics[f'{label}_support'] = scores['support']\n",
    "    \n",
    "    return metrics"
   ]
  },
  {
   "cell_type": "code",
   "execution_count": 23,
   "metadata": {},
   "outputs": [
    {
     "name": "stderr",
     "output_type": "stream",
     "text": [
      "/Users/jorgegarcelan/Desktop/UNI/6-LAB TSC/interspeech-nlp/.venv/lib/python3.9/site-packages/transformers/training_args.py:1575: FutureWarning: `evaluation_strategy` is deprecated and will be removed in version 4.46 of 🤗 Transformers. Use `eval_strategy` instead\n",
      "  warnings.warn(\n",
      "/var/folders/dh/_ks73kfn57l67vxm7b5y16qw0000gn/T/ipykernel_37904/672696009.py:20: FutureWarning: `tokenizer` is deprecated and will be removed in version 5.0.0 for `Trainer.__init__`. Use `processing_class` instead.\n",
      "  trainer = Trainer(\n"
     ]
    }
   ],
   "source": [
    "from transformers import Trainer, TrainingArguments\n",
    "\n",
    "batch_size = 32\n",
    "logging_steps = len(train_dataset) // batch_size\n",
    "model_name = f\"{model_ckpt}-finetuned-male\"\n",
    "training_args = TrainingArguments(\n",
    "    output_dir=model_name,\n",
    "    num_train_epochs=10,\n",
    "    learning_rate=2e-5,\n",
    "    per_device_train_batch_size=batch_size,\n",
    "    per_device_eval_batch_size=batch_size,\n",
    "    weight_decay=0.01,\n",
    "    evaluation_strategy=\"epoch\",\n",
    "    disable_tqdm=False,\n",
    "    logging_steps=logging_steps,\n",
    "    #push_to_hub=True,\n",
    "    log_level=\"error\"\n",
    ")\n",
    "\n",
    "trainer = Trainer(\n",
    "    model=model,\n",
    "    args=training_args,\n",
    "    compute_metrics=compute_metrics,\n",
    "    train_dataset=train_dataset,\n",
    "    eval_dataset=dev_dataset,\n",
    "    tokenizer=tokenizer\n",
    ")"
   ]
  },
  {
   "cell_type": "code",
   "execution_count": 24,
   "metadata": {},
   "outputs": [
    {
     "data": {
      "text/html": [
       "\n",
       "    <div>\n",
       "      \n",
       "      <progress value='870' max='870' style='width:300px; height:20px; vertical-align: middle;'></progress>\n",
       "      [870/870 1:21:53, Epoch 10/10]\n",
       "    </div>\n",
       "    <table border=\"1\" class=\"dataframe\">\n",
       "  <thead>\n",
       " <tr style=\"text-align: left;\">\n",
       "      <th>Epoch</th>\n",
       "      <th>Training Loss</th>\n",
       "      <th>Validation Loss</th>\n",
       "      <th>Accuracy</th>\n",
       "      <th>Macro F1</th>\n",
       "      <th>Weighted F1</th>\n",
       "      <th>Confusion Matrix</th>\n",
       "    </tr>\n",
       "  </thead>\n",
       "  <tbody>\n",
       "    <tr>\n",
       "      <td>1</td>\n",
       "      <td>2.046200</td>\n",
       "      <td>1.971582</td>\n",
       "      <td>0.280730</td>\n",
       "      <td>0.149043</td>\n",
       "      <td>0.193912</td>\n",
       "      <td>[[111, 40, 71, 1, 0, 0, 0, 0], [72, 99, 44, 0, 0, 0, 0, 0], [34, 11, 140, 1, 0, 0, 0, 0], [68, 18, 57, 4, 0, 0, 0, 0], [27, 14, 72, 0, 0, 0, 0, 0], [53, 26, 48, 2, 0, 0, 0, 0], [31, 13, 68, 3, 0, 0, 0, 0], [62, 18, 51, 1, 0, 1, 0, 0]]</td>\n",
       "    </tr>\n",
       "    <tr>\n",
       "      <td>2</td>\n",
       "      <td>1.907600</td>\n",
       "      <td>1.887296</td>\n",
       "      <td>0.306899</td>\n",
       "      <td>0.207738</td>\n",
       "      <td>0.249570</td>\n",
       "      <td>[[145, 17, 30, 25, 4, 2, 0, 0], [93, 81, 23, 11, 3, 3, 0, 1], [40, 8, 113, 19, 2, 2, 2, 0], [74, 7, 27, 36, 0, 0, 1, 2], [42, 4, 39, 13, 4, 7, 2, 2], [66, 22, 23, 12, 3, 3, 0, 0], [42, 9, 38, 20, 1, 3, 2, 0], [71, 6, 31, 17, 2, 3, 0, 3]]</td>\n",
       "    </tr>\n",
       "    <tr>\n",
       "      <td>3</td>\n",
       "      <td>1.751800</td>\n",
       "      <td>1.881566</td>\n",
       "      <td>0.314830</td>\n",
       "      <td>0.226253</td>\n",
       "      <td>0.265749</td>\n",
       "      <td>[[87, 38, 22, 59, 4, 3, 8, 2], [48, 110, 23, 25, 4, 0, 3, 2], [15, 13, 106, 35, 2, 1, 11, 3], [35, 12, 18, 76, 0, 0, 4, 2], [18, 15, 38, 25, 3, 3, 6, 5], [29, 40, 19, 32, 1, 2, 5, 1], [18, 11, 39, 35, 1, 2, 7, 2], [35, 18, 29, 38, 4, 1, 2, 6]]</td>\n",
       "    </tr>\n",
       "    <tr>\n",
       "      <td>4</td>\n",
       "      <td>1.592600</td>\n",
       "      <td>1.883587</td>\n",
       "      <td>0.294211</td>\n",
       "      <td>0.228545</td>\n",
       "      <td>0.265454</td>\n",
       "      <td>[[99, 29, 26, 27, 25, 7, 4, 6], [65, 90, 21, 10, 13, 9, 1, 6], [20, 7, 109, 18, 18, 8, 5, 1], [49, 8, 24, 42, 7, 2, 9, 6], [25, 5, 38, 10, 15, 9, 5, 6], [37, 27, 19, 11, 18, 8, 4, 5], [16, 7, 38, 19, 15, 9, 4, 7], [48, 9, 28, 16, 16, 5, 7, 4]]</td>\n",
       "    </tr>\n",
       "    <tr>\n",
       "      <td>5</td>\n",
       "      <td>1.430000</td>\n",
       "      <td>1.927891</td>\n",
       "      <td>0.291039</td>\n",
       "      <td>0.223783</td>\n",
       "      <td>0.261937</td>\n",
       "      <td>[[98, 36, 22, 30, 14, 6, 6, 11], [57, 102, 13, 13, 12, 9, 2, 7], [21, 11, 95, 23, 16, 7, 10, 3], [46, 14, 18, 47, 7, 1, 10, 4], [25, 9, 28, 14, 8, 12, 5, 12], [38, 35, 15, 12, 14, 5, 5, 5], [18, 14, 34, 19, 12, 5, 5, 8], [48, 15, 24, 17, 12, 4, 6, 7]]</td>\n",
       "    </tr>\n",
       "    <tr>\n",
       "      <td>6</td>\n",
       "      <td>1.278300</td>\n",
       "      <td>1.989727</td>\n",
       "      <td>0.291832</td>\n",
       "      <td>0.242944</td>\n",
       "      <td>0.275945</td>\n",
       "      <td>[[90, 34, 18, 34, 15, 11, 11, 10], [51, 95, 14, 14, 15, 15, 3, 8], [16, 10, 81, 29, 12, 14, 21, 3], [43, 10, 11, 60, 7, 2, 9, 5], [17, 9, 23, 15, 11, 17, 10, 11], [30, 31, 15, 18, 11, 10, 9, 5], [13, 8, 24, 29, 7, 14, 13, 7], [39, 13, 15, 30, 12, 7, 9, 8]]</td>\n",
       "    </tr>\n",
       "    <tr>\n",
       "      <td>7</td>\n",
       "      <td>1.156400</td>\n",
       "      <td>2.048149</td>\n",
       "      <td>0.283109</td>\n",
       "      <td>0.243874</td>\n",
       "      <td>0.275090</td>\n",
       "      <td>[[86, 24, 20, 28, 21, 17, 12, 15], [59, 85, 15, 13, 15, 15, 4, 9], [17, 4, 88, 22, 14, 15, 22, 4], [38, 8, 18, 48, 8, 4, 11, 12], [16, 7, 23, 12, 16, 18, 10, 11], [32, 26, 15, 16, 16, 10, 6, 8], [13, 5, 27, 21, 11, 16, 13, 9], [37, 9, 20, 21, 17, 10, 8, 11]]</td>\n",
       "    </tr>\n",
       "    <tr>\n",
       "      <td>8</td>\n",
       "      <td>1.040200</td>\n",
       "      <td>2.082558</td>\n",
       "      <td>0.279937</td>\n",
       "      <td>0.241579</td>\n",
       "      <td>0.272109</td>\n",
       "      <td>[[91, 23, 19, 27, 19, 18, 13, 13], [61, 82, 14, 11, 13, 20, 4, 10], [19, 4, 84, 24, 13, 15, 20, 7], [43, 8, 15, 46, 6, 5, 10, 14], [19, 7, 23, 12, 15, 16, 8, 13], [33, 26, 15, 15, 15, 12, 4, 9], [16, 4, 26, 21, 7, 18, 13, 10], [43, 9, 18, 22, 11, 10, 10, 10]]</td>\n",
       "    </tr>\n",
       "    <tr>\n",
       "      <td>9</td>\n",
       "      <td>0.974700</td>\n",
       "      <td>2.119732</td>\n",
       "      <td>0.272006</td>\n",
       "      <td>0.241684</td>\n",
       "      <td>0.270259</td>\n",
       "      <td>[[83, 23, 19, 23, 19, 20, 13, 23], [57, 76, 14, 11, 15, 27, 4, 11], [15, 4, 82, 22, 15, 18, 21, 9], [41, 8, 17, 43, 7, 6, 10, 15], [15, 6, 24, 10, 14, 19, 9, 16], [27, 24, 15, 13, 16, 17, 4, 13], [12, 4, 25, 19, 10, 21, 13, 11], [33, 8, 18, 21, 16, 15, 7, 15]]</td>\n",
       "    </tr>\n",
       "    <tr>\n",
       "      <td>10</td>\n",
       "      <td>0.906300</td>\n",
       "      <td>2.134712</td>\n",
       "      <td>0.272006</td>\n",
       "      <td>0.239571</td>\n",
       "      <td>0.269200</td>\n",
       "      <td>[[79, 27, 19, 24, 20, 20, 13, 21], [53, 83, 15, 11, 16, 22, 4, 11], [15, 5, 82, 24, 12, 18, 24, 6], [36, 10, 18, 43, 8, 6, 10, 16], [13, 7, 23, 10, 14, 18, 11, 17], [25, 28, 14, 15, 16, 14, 5, 12], [10, 4, 26, 20, 10, 20, 13, 12], [29, 12, 17, 23, 15, 13, 9, 15]]</td>\n",
       "    </tr>\n",
       "  </tbody>\n",
       "</table><p>"
      ],
      "text/plain": [
       "<IPython.core.display.HTML object>"
      ]
     },
     "metadata": {},
     "output_type": "display_data"
    },
    {
     "name": "stderr",
     "output_type": "stream",
     "text": [
      "/Users/jorgegarcelan/Desktop/UNI/6-LAB TSC/interspeech-nlp/.venv/lib/python3.9/site-packages/sklearn/metrics/_classification.py:1565: UndefinedMetricWarning: Precision is ill-defined and being set to 0.0 in labels with no predicted samples. Use `zero_division` parameter to control this behavior.\n",
      "  _warn_prf(average, modifier, f\"{metric.capitalize()} is\", len(result))\n",
      "/Users/jorgegarcelan/Desktop/UNI/6-LAB TSC/interspeech-nlp/.venv/lib/python3.9/site-packages/sklearn/metrics/_classification.py:1565: UndefinedMetricWarning: Precision is ill-defined and being set to 0.0 in labels with no predicted samples. Use `zero_division` parameter to control this behavior.\n",
      "  _warn_prf(average, modifier, f\"{metric.capitalize()} is\", len(result))\n",
      "/Users/jorgegarcelan/Desktop/UNI/6-LAB TSC/interspeech-nlp/.venv/lib/python3.9/site-packages/sklearn/metrics/_classification.py:1565: UndefinedMetricWarning: Precision is ill-defined and being set to 0.0 in labels with no predicted samples. Use `zero_division` parameter to control this behavior.\n",
      "  _warn_prf(average, modifier, f\"{metric.capitalize()} is\", len(result))\n"
     ]
    },
    {
     "data": {
      "text/plain": [
       "TrainOutput(global_step=870, training_loss=1.4031805378267135, metrics={'train_runtime': 4917.8154, 'train_samples_per_second': 5.657, 'train_steps_per_second': 0.177, 'total_flos': 3685637357076480.0, 'train_loss': 1.4031805378267135, 'epoch': 10.0})"
      ]
     },
     "execution_count": 24,
     "metadata": {},
     "output_type": "execute_result"
    }
   ],
   "source": [
    "trainer.train()"
   ]
  },
  {
   "cell_type": "code",
   "execution_count": 25,
   "metadata": {},
   "outputs": [
    {
     "data": {
      "text/html": [],
      "text/plain": [
       "<IPython.core.display.HTML object>"
      ]
     },
     "metadata": {},
     "output_type": "display_data"
    },
    {
     "data": {
      "text/plain": [
       "{'test_loss': 2.2716307640075684,\n",
       " 'test_accuracy': 0.1952157197778727,\n",
       " 'test_macro_f1': 0.19635097722920003,\n",
       " 'test_weighted_f1': 0.191514446586325,\n",
       " 'test_confusion_matrix': [[31, 24, 6, 18, 10, 12, 4, 16],\n",
       "  [44, 81, 7, 13, 5, 19, 1, 13],\n",
       "  [19, 11, 62, 24, 21, 13, 22, 17],\n",
       "  [69, 30, 35, 90, 16, 17, 31, 34],\n",
       "  [78, 34, 85, 47, 50, 47, 39, 29],\n",
       "  [85, 85, 32, 35, 28, 37, 18, 23],\n",
       "  [50, 16, 85, 60, 49, 53, 59, 40],\n",
       "  [71, 32, 38, 81, 34, 31, 28, 47]],\n",
       " 'test_runtime': 73.0062,\n",
       " 'test_samples_per_second': 32.066,\n",
       " 'test_steps_per_second': 1.014}"
      ]
     },
     "execution_count": 25,
     "metadata": {},
     "output_type": "execute_result"
    }
   ],
   "source": [
    "preds_output = trainer.predict(test_dataset)\n",
    "preds_metrics = preds_output.metrics\n",
    "preds_metrics"
   ]
  },
  {
   "cell_type": "code",
   "execution_count": 26,
   "metadata": {},
   "outputs": [
    {
     "data": {
      "image/png": "[encoded data removed]",
      "text/plain": [
       "<Figure size 1000x800 with 2 Axes>"
      ]
     },
     "metadata": {},
     "output_type": "display_data"
    }
   ],
   "source": [
    "import matplotlib.pyplot as plt\n",
    "import numpy as np\n",
    "\n",
    "labels = label2id.keys()\n",
    "conf_matrix = preds_metrics['test_confusion_matrix']\n",
    "\n",
    "# Crear el gráfico de la matriz de confusión\n",
    "plt.figure(figsize=(10, 8))\n",
    "plt.imshow(conf_matrix, interpolation='nearest', cmap=plt.cm.Blues)\n",
    "plt.title(\"Confusion Matrix\")\n",
    "plt.colorbar()\n",
    "\n",
    "# Agregar etiquetas\n",
    "tick_marks = np.arange(len(labels))\n",
    "plt.xticks(tick_marks, labels)\n",
    "plt.yticks(tick_marks, labels)\n",
    "\n",
    "# Rótulos de valores dentro de cada celda\n",
    "conf_matrix = np.array(conf_matrix)\n",
    "\n",
    "# Calcular el umbral\n",
    "thresh = conf_matrix.max() / 2\n",
    "for i, j in np.ndindex(conf_matrix.shape):\n",
    "    plt.text(\n",
    "        j, i, format(conf_matrix[i, j], 'd'),\n",
    "        horizontalalignment=\"center\",\n",
    "        color=\"white\" if conf_matrix[i, j] > thresh else \"black\"\n",
    "    )\n",
    "\n",
    "# Etiquetas de los ejes\n",
    "plt.ylabel('True Label')\n",
    "plt.xlabel('Predicted Label')\n",
    "plt.tight_layout()\n",
    "plt.show()"
   ]
  }
 ],
 "metadata": {
  "kernelspec": {
   "display_name": ".venv",
   "language": "python",
   "name": "python3"
  },
  "language_info": {
   "codemirror_mode": {
    "name": "ipython",
    "version": 3
   },
   "file_extension": ".py",
   "mimetype": "text/x-python",
   "name": "python",
   "nbconvert_exporter": "python",
   "pygments_lexer": "ipython3",
   "version": "3.9.6"
  }
 },
 "nbformat": 4,
 "nbformat_minor": 2
}
