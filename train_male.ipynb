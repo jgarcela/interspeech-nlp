{
 "cells": [
  {
   "cell_type": "markdown",
   "metadata": {},
   "source": [
    "# Train Interspeech"
   ]
  },
  {
   "cell_type": "markdown",
   "metadata": {},
   "source": [
    "## Data"
   ]
  },
  {
   "cell_type": "code",
   "execution_count": 1,
   "metadata": {},
   "outputs": [],
   "source": [
    "import pandas as pd"
   ]
  },
  {
   "cell_type": "code",
   "execution_count": 2,
   "metadata": {},
   "outputs": [],
   "source": [
    "balanced = False"
   ]
  },
  {
   "cell_type": "code",
   "execution_count": 3,
   "metadata": {},
   "outputs": [],
   "source": [
    "preprocessed = False"
   ]
  },
  {
   "cell_type": "code",
   "execution_count": 4,
   "metadata": {},
   "outputs": [],
   "source": [
    "# import pandas as pd\n",
    "\n",
    "# # Cargar el CSV para male\n",
    "# # data = pd.read_csv('data/data_male.csv')\n",
    "# data = pd.read_csv('data/balanced_pseudo_male.csv')\n",
    "\n",
    "\n",
    "# print(len(data))\n",
    "# # Eliminar filas con valores nulos solo en la columna 'text'\n",
    "# data = data.dropna(subset=['text'])\n",
    "# #data.to_csv('data/data_male.csv', index=False)\n",
    "# print(len(data))\n",
    "# data.head()"
   ]
  },
  {
   "cell_type": "code",
   "execution_count": 4,
   "metadata": {},
   "outputs": [
    {
     "name": "stdout",
     "output_type": "stream",
     "text": [
      "37247\n",
      "37247\n"
     ]
    },
    {
     "data": {
      "text/html": [
       "<div>\n",
       "<style scoped>\n",
       "    .dataframe tbody tr th:only-of-type {\n",
       "        vertical-align: middle;\n",
       "    }\n",
       "\n",
       "    .dataframe tbody tr th {\n",
       "        vertical-align: top;\n",
       "    }\n",
       "\n",
       "    .dataframe thead th {\n",
       "        text-align: right;\n",
       "    }\n",
       "</style>\n",
       "<table border=\"1\" class=\"dataframe\">\n",
       "  <thead>\n",
       "    <tr style=\"text-align: right;\">\n",
       "      <th></th>\n",
       "      <th>FileName</th>\n",
       "      <th>worker</th>\n",
       "      <th>primary_emotion</th>\n",
       "      <th>EmoClass</th>\n",
       "      <th>EmoNum</th>\n",
       "      <th>WorkerNum</th>\n",
       "      <th>NewPartition</th>\n",
       "      <th>text</th>\n",
       "    </tr>\n",
       "  </thead>\n",
       "  <tbody>\n",
       "    <tr>\n",
       "      <th>0</th>\n",
       "      <td>MSP-PODCAST_0003_0085</td>\n",
       "      <td>WORKER00003059</td>\n",
       "      <td>Sad</td>\n",
       "      <td>S</td>\n",
       "      <td>3</td>\n",
       "      <td>3059</td>\n",
       "      <td>Evaluation</td>\n",
       "      <td>a lot of support from us liberty people and th...</td>\n",
       "    </tr>\n",
       "    <tr>\n",
       "      <th>1</th>\n",
       "      <td>MSP-PODCAST_0003_0085</td>\n",
       "      <td>WORKER00003061</td>\n",
       "      <td>Contempt</td>\n",
       "      <td>C</td>\n",
       "      <td>4</td>\n",
       "      <td>3061</td>\n",
       "      <td>Evaluation</td>\n",
       "      <td>a lot of support from us liberty people and th...</td>\n",
       "    </tr>\n",
       "    <tr>\n",
       "      <th>2</th>\n",
       "      <td>MSP-PODCAST_0003_0085</td>\n",
       "      <td>WORKER00001538</td>\n",
       "      <td>Neutral</td>\n",
       "      <td>N</td>\n",
       "      <td>0</td>\n",
       "      <td>1538</td>\n",
       "      <td>Evaluation</td>\n",
       "      <td>a lot of support from us liberty people and th...</td>\n",
       "    </tr>\n",
       "    <tr>\n",
       "      <th>3</th>\n",
       "      <td>MSP-PODCAST_0003_0085</td>\n",
       "      <td>WORKER00000525</td>\n",
       "      <td>Sad</td>\n",
       "      <td>S</td>\n",
       "      <td>3</td>\n",
       "      <td>525</td>\n",
       "      <td>Evaluation</td>\n",
       "      <td>a lot of support from us liberty people and th...</td>\n",
       "    </tr>\n",
       "    <tr>\n",
       "      <th>4</th>\n",
       "      <td>MSP-PODCAST_0003_0085</td>\n",
       "      <td>WORKER00002646</td>\n",
       "      <td>Neutral</td>\n",
       "      <td>N</td>\n",
       "      <td>0</td>\n",
       "      <td>2646</td>\n",
       "      <td>Evaluation</td>\n",
       "      <td>a lot of support from us liberty people and th...</td>\n",
       "    </tr>\n",
       "  </tbody>\n",
       "</table>\n",
       "</div>"
      ],
      "text/plain": [
       "                FileName          worker primary_emotion EmoClass  EmoNum  \\\n",
       "0  MSP-PODCAST_0003_0085  WORKER00003059             Sad        S       3   \n",
       "1  MSP-PODCAST_0003_0085  WORKER00003061        Contempt        C       4   \n",
       "2  MSP-PODCAST_0003_0085  WORKER00001538         Neutral        N       0   \n",
       "3  MSP-PODCAST_0003_0085  WORKER00000525             Sad        S       3   \n",
       "4  MSP-PODCAST_0003_0085  WORKER00002646         Neutral        N       0   \n",
       "\n",
       "   WorkerNum NewPartition                                               text  \n",
       "0       3059   Evaluation  a lot of support from us liberty people and th...  \n",
       "1       3061   Evaluation  a lot of support from us liberty people and th...  \n",
       "2       1538   Evaluation  a lot of support from us liberty people and th...  \n",
       "3        525   Evaluation  a lot of support from us liberty people and th...  \n",
       "4       2646   Evaluation  a lot of support from us liberty people and th...  "
      ]
     },
     "execution_count": 4,
     "metadata": {},
     "output_type": "execute_result"
    }
   ],
   "source": [
    "# Cargar los CSV\n",
    "df1 = pd.read_csv(\"data/balanced_pseudo_male_todas_emociones_reducido.csv\")  # Primer CSV\n",
    "df2 = pd.read_csv(\"data/balanced_pseudo_male.csv\")  # Segundo CSV\n",
    "\n",
    "# Unir los DataFrames por la columna \"FileName\", seleccionando solo \"FileName\" y \"text\" del segundo CSV\n",
    "data = df1.merge(df2[['FileName', 'text']], on=\"FileName\", how=\"left\")\n",
    "\n",
    "print(len(data))\n",
    "# Eliminar filas con valores nulos solo en la columna 'text'\n",
    "data = data.dropna(subset=['text'])\n",
    "#data.to_csv('data/data_male.csv', index=False)\n",
    "print(len(data))\n",
    "data.head()"
   ]
  },
  {
   "cell_type": "code",
   "execution_count": 5,
   "metadata": {},
   "outputs": [],
   "source": [
    "if balanced:\n",
    "    # Paso 1: Determinar el tamaño mínimo entre las clases\n",
    "    min_count = data['PseudoEmo'].value_counts().min()\n",
    "\n",
    "    # Paso 2: Submuestrear cada clase\n",
    "    data = data.groupby('PseudoEmo').apply(lambda x: x.sample(min_count)).reset_index(drop=True)\n",
    "\n",
    "    # Paso 3: Verificar el balance\n",
    "    print(data['PseudoEmo'].value_counts())\n",
    "    print(len(data))\n",
    "\n",
    "    #data.to_csv('data/balanced_pseudo_male.csv', index=False)\n"
   ]
  },
  {
   "cell_type": "code",
   "execution_count": 6,
   "metadata": {},
   "outputs": [
    {
     "name": "stdout",
     "output_type": "stream",
     "text": [
      "Conjunto Train:\n",
      "                FileName          worker primary_emotion EmoClass  EmoNum  \\\n",
      "5  MSP-PODCAST_0003_0106  WORKER00001494             Sad        S       3   \n",
      "6  MSP-PODCAST_0003_0106  WORKER00001970             Sad        S       3   \n",
      "7  MSP-PODCAST_0003_0106  WORKER00003023         Neutral        N       0   \n",
      "8  MSP-PODCAST_0003_0106  WORKER00003024             Sad        S       3   \n",
      "9  MSP-PODCAST_0003_0106  WORKER00002654         Neutral        N       0   \n",
      "\n",
      "   WorkerNum NewPartition                                               text  \n",
      "5       1494        Train  i know, and it's so difficult for people to le...  \n",
      "6       1970        Train  i know, and it's so difficult for people to le...  \n",
      "7       3023        Train  i know, and it's so difficult for people to le...  \n",
      "8       3024        Train  i know, and it's so difficult for people to le...  \n",
      "9       2654        Train  i know, and it's so difficult for people to le...  \n",
      "Conjunto Development:\n",
      "                FileName          worker primary_emotion EmoClass  EmoNum  \\\n",
      "0  MSP-PODCAST_0003_0085  WORKER00003059             Sad        S       3   \n",
      "1  MSP-PODCAST_0003_0085  WORKER00003061        Contempt        C       4   \n",
      "2  MSP-PODCAST_0003_0085  WORKER00001538         Neutral        N       0   \n",
      "3  MSP-PODCAST_0003_0085  WORKER00000525             Sad        S       3   \n",
      "4  MSP-PODCAST_0003_0085  WORKER00002646         Neutral        N       0   \n",
      "\n",
      "   WorkerNum NewPartition                                               text  \n",
      "0       3059   Evaluation  a lot of support from us liberty people and th...  \n",
      "1       3061   Evaluation  a lot of support from us liberty people and th...  \n",
      "2       1538   Evaluation  a lot of support from us liberty people and th...  \n",
      "3        525   Evaluation  a lot of support from us liberty people and th...  \n",
      "4       2646   Evaluation  a lot of support from us liberty people and th...  \n",
      "Conjunto Test:\n",
      "Empty DataFrame\n",
      "Columns: [FileName, worker, primary_emotion, EmoClass, EmoNum, WorkerNum, NewPartition, text]\n",
      "Index: []\n"
     ]
    }
   ],
   "source": [
    "# Filtrar los datos en tres conjuntos basados en la columna 'Split_Set'\n",
    "train_df = data.loc[data['NewPartition'] == 'Train']\n",
    "dev_df = data.loc[data['NewPartition'] == 'Evaluation']\n",
    "test_df = data.loc[data['NewPartition'] == 'Test']\n",
    "\n",
    "# Verifica las primeras filas de cada conjunto\n",
    "print(\"Conjunto Train:\")\n",
    "print(train_df.head())\n",
    "\n",
    "print(\"Conjunto Development:\")\n",
    "print(dev_df.head())\n",
    "\n",
    "print(\"Conjunto Test:\")\n",
    "print(test_df.head())"
   ]
  },
  {
   "cell_type": "code",
   "execution_count": 6,
   "metadata": {},
   "outputs": [],
   "source": [
    "# # Establecer la semilla para garantizar reproducibilidad\n",
    "# seed = 42\n",
    "\n",
    "# # Seleccionar aleatoriamente las primeras N filas del conjunto de entrenamiento\n",
    "# train_df = train_df.sample(n=1000, random_state=seed)\n",
    "\n",
    "# # Seleccionar aleatoriamente las primeras N filas del conjunto de desarrollo\n",
    "# dev_df = dev_df.sample(n=250, random_state=seed)"
   ]
  },
  {
   "cell_type": "code",
   "execution_count": 7,
   "metadata": {},
   "outputs": [
    {
     "name": "stdout",
     "output_type": "stream",
     "text": [
      "id2label={0: 'N', 1: 'H', 2: 'A', 3: 'S', 4: 'C', 5: 'U', 6: 'D', 7: 'F', 8: 'O'}\n",
      "label2id={'N': 0, 'H': 1, 'A': 2, 'S': 3, 'C': 4, 'U': 5, 'D': 6, 'F': 7, 'O': 8}\n",
      "num_labels=9\n"
     ]
    }
   ],
   "source": [
    "id2label = {\n",
    "        0: 'N',  # Neutral\n",
    "        1: 'H',  # Happy\n",
    "        2: 'A',  # Angry\n",
    "        3: 'S',  # Sad\n",
    "        4: 'C',  # Contempt\n",
    "        5: 'U',  # Surprise\n",
    "        6: 'D',  # Disgust\n",
    "        7: 'F',  # Fear\n",
    "        8: 'O'   # Other\n",
    "    }\n",
    "label2id = {\n",
    "        'N': 0,  # Neutral\n",
    "        'H': 1,  # Happy\n",
    "        'A': 2,  # Angry\n",
    "        'S': 3 , # Sad\n",
    "        'C': 4,  # Contempt\n",
    "        'U': 5,  # Surprise\n",
    "        'D': 6,  # Disgust\n",
    "        'F': 7,  # Fear\n",
    "        'O': 8   # Other\n",
    "    }\n",
    "\n",
    "num_labels = len(id2label.keys())\n",
    "col_emo = \"EmoNum\" # \"PseudoEmoNum\"\n",
    "\n",
    "print(f\"{id2label=}\")\n",
    "print(f\"{label2id=}\")\n",
    "print(f\"{num_labels=}\")"
   ]
  },
  {
   "cell_type": "code",
   "execution_count": 8,
   "metadata": {},
   "outputs": [
    {
     "name": "stderr",
     "output_type": "stream",
     "text": [
      "/var/folders/dh/_ks73kfn57l67vxm7b5y16qw0000gn/T/ipykernel_4658/2809703481.py:2: SettingWithCopyWarning: \n",
      "A value is trying to be set on a copy of a slice from a DataFrame.\n",
      "Try using .loc[row_indexer,col_indexer] = value instead\n",
      "\n",
      "See the caveats in the documentation: https://pandas.pydata.org/pandas-docs/stable/user_guide/indexing.html#returning-a-view-versus-a-copy\n",
      "  train_df[col_emo] = train_df[col_emo].astype(int)\n",
      "/var/folders/dh/_ks73kfn57l67vxm7b5y16qw0000gn/T/ipykernel_4658/2809703481.py:3: SettingWithCopyWarning: \n",
      "A value is trying to be set on a copy of a slice from a DataFrame.\n",
      "Try using .loc[row_indexer,col_indexer] = value instead\n",
      "\n",
      "See the caveats in the documentation: https://pandas.pydata.org/pandas-docs/stable/user_guide/indexing.html#returning-a-view-versus-a-copy\n",
      "  dev_df[col_emo] = dev_df[col_emo].astype(int)\n"
     ]
    }
   ],
   "source": [
    "# Convertir EmoClass a valores numéricos si es necesario\n",
    "train_df[col_emo] = train_df[col_emo].astype(int)\n",
    "dev_df[col_emo] = dev_df[col_emo].astype(int)\n",
    "test_df[col_emo] = test_df[col_emo].astype(int)"
   ]
  },
  {
   "cell_type": "code",
   "execution_count": 19,
   "metadata": {},
   "outputs": [
    {
     "name": "stderr",
     "output_type": "stream",
     "text": [
      "Map: 100%|██████████| 29869/29869 [00:01<00:00, 16293.60 examples/s]\n",
      "Map: 100%|██████████| 7378/7378 [00:00<00:00, 14032.94 examples/s]\n",
      "Map: 100%|██████████| 37247/37247 [00:02<00:00, 16693.05 examples/s]\n"
     ]
    }
   ],
   "source": [
    "from datasets import Dataset\n",
    "from transformers import AutoTokenizer\n",
    "\n",
    "\n",
    "if preprocessed == False:\n",
    "    # Modelo\n",
    "    model_ckpt = \"distilbert-base-uncased\"\n",
    "    # model_ckpt = \"distilroberta-base\"\n",
    "\n",
    "    # Cargar el tokenizer\n",
    "    tokenizer = AutoTokenizer.from_pretrained(model_ckpt)\n",
    "\n",
    "    # Función para tokenizar los datos\n",
    "    def tokenize_function(examples):\n",
    "        # Verificar que estamos pasando una lista de textos\n",
    "        texts = examples['text']\n",
    "        return tokenizer(texts, padding=\"max_length\", truncation=True)\n",
    "\n",
    "    # Asegurarse de que 'train_df' y 'dev_df' son objetos Dataset de Hugging Face\n",
    "    train_dataset = Dataset.from_pandas(train_df)\n",
    "    dev_dataset = Dataset.from_pandas(dev_df)\n",
    "    test_dataset = Dataset.from_pandas(test_df)\n",
    "    data_dataset = Dataset.from_pandas(data)\n",
    "\n",
    "\n",
    "    # Tokenizamos ambos conjuntos de datos\n",
    "    train_dataset = train_dataset.map(tokenize_function, batched=True)\n",
    "    dev_dataset = dev_dataset.map(tokenize_function, batched=True)\n",
    "    test_dataset = test_dataset.map(tokenize_function, batched=True)\n",
    "    data_dataset = data_dataset.map(tokenize_function, batched=True)\n",
    "\n",
    "\n",
    "    # Renombrar columna de labels\n",
    "    train_dataset = train_dataset.rename_column(col_emo, \"labels\")\n",
    "    dev_dataset = dev_dataset.rename_column(col_emo, \"labels\")\n",
    "    test_dataset = test_dataset.rename_column(col_emo, \"labels\")\n",
    "    data_dataset = data_dataset.rename_column(col_emo, \"labels\")\n"
   ]
  },
  {
   "cell_type": "code",
   "execution_count": 10,
   "metadata": {},
   "outputs": [],
   "source": [
    "import re\n",
    "from datasets import Dataset\n",
    "from transformers import AutoTokenizer\n",
    "from nltk.corpus import stopwords\n",
    "from nltk.stem import WordNetLemmatizer\n",
    "import nltk\n",
    "\n",
    "if preprocessed:\n",
    "    # Descargar recursos necesarios de NLTK\n",
    "    nltk.download('stopwords')\n",
    "    nltk.download('wordnet')\n",
    "\n",
    "    # Modelo\n",
    "    model_ckpt = \"distilbert-base-uncased\"\n",
    "    tokenizer = AutoTokenizer.from_pretrained(model_ckpt)\n",
    "\n",
    "    # Stopwords en inglés (puedes cambiar el idioma si es necesario)\n",
    "    stop_words = set(stopwords.words('english'))\n",
    "\n",
    "    # Inicializar el lematizador\n",
    "    lemmatizer = WordNetLemmatizer()\n",
    "\n",
    "    # Función para limpiar y tokenizar\n",
    "    def preprocess_and_tokenize(examples):\n",
    "        processed_texts = []\n",
    "        for text in examples['text']:\n",
    "            # Convertir a minúsculas\n",
    "            text = text.lower()\n",
    "            # # Eliminar URLs\n",
    "            # text = re.sub(r\"http\\S+|www\\S+|https\\S+\", \"\", text, flags=re.MULTILINE)\n",
    "            # # Eliminar menciones y hashtags\n",
    "            # text = re.sub(r\"@\\w+|#\\w+\", \"\", text)\n",
    "            # # Eliminar caracteres especiales y puntuación\n",
    "            # text = re.sub(r\"[^a-zA-Z\\s]\", \"\", text)\n",
    "            # # Eliminar números\n",
    "            # text = re.sub(r\"\\d+\", \"\", text)\n",
    "            # # Eliminar palabras de parada\n",
    "            # words = text.split()\n",
    "            # words = [word for word in words if word not in stop_words]\n",
    "            # # Aplicar lematización\n",
    "            # words = [lemmatizer.lemmatize(word) for word in words]\n",
    "            # # Unir palabras limpias\n",
    "            # text = \" \".join(words)\n",
    "            # Añadir texto procesado a la lista\n",
    "            processed_texts.append(text)\n",
    "        \n",
    "        # Tokenizar el texto limpio\n",
    "        return tokenizer(processed_texts, padding=\"max_length\", truncation=True)\n",
    "\n",
    "    # Verificar que no haya valores nulos\n",
    "    train_df = train_df.dropna(subset=[\"text\", col_emo])\n",
    "    dev_df = dev_df.dropna(subset=[\"text\", col_emo])\n",
    "    test_df = test_df.dropna(subset=[\"text\", col_emo])\n",
    "\n",
    "    # Convertir DataFrame a Dataset\n",
    "    train_dataset = Dataset.from_pandas(train_df)\n",
    "    dev_dataset = Dataset.from_pandas(dev_df)\n",
    "    test_dataset = Dataset.from_pandas(test_df)\n",
    "\n",
    "    # Tokenizar los conjuntos de datos\n",
    "    train_dataset = train_dataset.map(preprocess_and_tokenize, batched=True, num_proc=4)\n",
    "    dev_dataset = dev_dataset.map(preprocess_and_tokenize, batched=True, num_proc=4)\n",
    "    test_dataset = test_dataset.map(preprocess_and_tokenize, batched=True, num_proc=4)\n",
    "\n",
    "    # Renombrar columna de labels\n",
    "    train_dataset = train_dataset.rename_column(col_emo, \"labels\")\n",
    "    dev_dataset = dev_dataset.rename_column(col_emo, \"labels\")\n",
    "    test_dataset = test_dataset.rename_column(col_emo, \"labels\")\n",
    "\n",
    "    # Inspeccionar un ejemplo procesado\n",
    "    print(train_dataset[0])\n"
   ]
  },
  {
   "cell_type": "markdown",
   "metadata": {},
   "source": [
    "## Code"
   ]
  },
  {
   "cell_type": "code",
   "execution_count": 11,
   "metadata": {},
   "outputs": [
    {
     "name": "stdout",
     "output_type": "stream",
     "text": [
      "2.5.1\n"
     ]
    }
   ],
   "source": [
    "from transformers import AutoTokenizer\n",
    "import torch\n",
    "print(torch.__version__)  # Esto debería mostrarte la versión de PyTorch instalada"
   ]
  },
  {
   "cell_type": "code",
   "execution_count": 12,
   "metadata": {},
   "outputs": [
    {
     "name": "stderr",
     "output_type": "stream",
     "text": [
      "Some weights of DistilBertForSequenceClassification were not initialized from the model checkpoint at distilbert-base-uncased and are newly initialized: ['classifier.bias', 'classifier.weight', 'pre_classifier.bias', 'pre_classifier.weight']\n",
      "You should probably TRAIN this model on a down-stream task to be able to use it for predictions and inference.\n"
     ]
    },
    {
     "name": "stdout",
     "output_type": "stream",
     "text": [
      "9\n"
     ]
    }
   ],
   "source": [
    "from transformers import AutoModelForSequenceClassification\n",
    "import torch\n",
    "\n",
    "device = torch.device(\"cuda\" if torch.cuda.is_available() else \"cpu\")\n",
    "\n",
    "model = AutoModelForSequenceClassification.from_pretrained(model_ckpt, num_labels=num_labels, label2id=label2id, id2label=id2label).to(device)\n",
    "print(model.num_labels)"
   ]
  },
  {
   "cell_type": "code",
   "execution_count": 13,
   "metadata": {},
   "outputs": [],
   "source": [
    "from sklearn.metrics import classification_report, confusion_matrix\n",
    "import numpy as np\n",
    "\n",
    "\n",
    "def compute_metrics(eval_pred):\n",
    "    logits, labels = eval_pred\n",
    "    predictions = np.argmax(logits, axis=-1)\n",
    "    \n",
    "    # Obtener reporte completo\n",
    "    report = classification_report(labels, predictions, output_dict=True)\n",
    "    \n",
    "    # Obtener la matriz de confusión\n",
    "    conf_matrix = confusion_matrix(labels, predictions)\n",
    "    \n",
    "    # Extraer métricas para cada clase y globales\n",
    "    metrics = {\n",
    "        'accuracy': report['accuracy'],\n",
    "        'macro_f1': report['macro avg']['f1-score'],\n",
    "        'weighted_f1': report['weighted avg']['f1-score'],\n",
    "        # 'weighted_precision': report['weighted avg']['precision'],\n",
    "        # 'weighted_recall': report['weighted avg']['recall'],\n",
    "        'confusion_matrix': conf_matrix.tolist()  # Convertir a lista para asegurarse de que es serializable si es necesario\n",
    "    }\n",
    "    \n",
    "    # # Añadir métricas específicas por clase si se requiere\n",
    "    # for label, scores in report.items():\n",
    "    #     if label not in [\"accuracy\", \"macro avg\", \"weighted avg\"]:\n",
    "    #         metrics[f'{label}_precision'] = scores['precision']\n",
    "    #         metrics[f'{label}_recall'] = scores['recall']\n",
    "    #         metrics[f'{label}_f1'] = scores['f1-score']\n",
    "    #         metrics[f'{label}_support'] = scores['support']\n",
    "    \n",
    "    return metrics"
   ]
  },
  {
   "cell_type": "code",
   "execution_count": 14,
   "metadata": {},
   "outputs": [
    {
     "name": "stderr",
     "output_type": "stream",
     "text": [
      "/Users/jorgegarcelan/Desktop/UNI/6-LAB TSC/interspeech-nlp/.venv/lib/python3.9/site-packages/transformers/training_args.py:1575: FutureWarning: `evaluation_strategy` is deprecated and will be removed in version 4.46 of 🤗 Transformers. Use `eval_strategy` instead\n",
      "  warnings.warn(\n",
      "/var/folders/dh/_ks73kfn57l67vxm7b5y16qw0000gn/T/ipykernel_4658/672696009.py:20: FutureWarning: `tokenizer` is deprecated and will be removed in version 5.0.0 for `Trainer.__init__`. Use `processing_class` instead.\n",
      "  trainer = Trainer(\n"
     ]
    }
   ],
   "source": [
    "from transformers import Trainer, TrainingArguments\n",
    "\n",
    "batch_size = 32\n",
    "logging_steps = len(train_dataset) // batch_size\n",
    "model_name = f\"{model_ckpt}-finetuned-male\"\n",
    "training_args = TrainingArguments(\n",
    "    output_dir=model_name,\n",
    "    num_train_epochs=10,\n",
    "    learning_rate=2e-5,\n",
    "    per_device_train_batch_size=batch_size,\n",
    "    per_device_eval_batch_size=batch_size,\n",
    "    weight_decay=0.01,\n",
    "    evaluation_strategy=\"epoch\",\n",
    "    disable_tqdm=False,\n",
    "    logging_steps=logging_steps,\n",
    "    #push_to_hub=True,\n",
    "    log_level=\"error\"\n",
    ")\n",
    "\n",
    "trainer = Trainer(\n",
    "    model=model,\n",
    "    args=training_args,\n",
    "    compute_metrics=compute_metrics,\n",
    "    train_dataset=train_dataset,\n",
    "    eval_dataset=dev_dataset,\n",
    "    tokenizer=tokenizer\n",
    ")"
   ]
  },
  {
   "cell_type": "code",
   "execution_count": 15,
   "metadata": {},
   "outputs": [
    {
     "data": {
      "text/html": [
       "\n",
       "    <div>\n",
       "      \n",
       "      <progress value='9340' max='9340' style='width:300px; height:20px; vertical-align: middle;'></progress>\n",
       "      [9340/9340 10:32:11, Epoch 10/10]\n",
       "    </div>\n",
       "    <table border=\"1\" class=\"dataframe\">\n",
       "  <thead>\n",
       " <tr style=\"text-align: left;\">\n",
       "      <th>Epoch</th>\n",
       "      <th>Training Loss</th>\n",
       "      <th>Validation Loss</th>\n",
       "      <th>Accuracy</th>\n",
       "      <th>Macro F1</th>\n",
       "      <th>Weighted F1</th>\n",
       "      <th>Confusion Matrix</th>\n",
       "    </tr>\n",
       "  </thead>\n",
       "  <tbody>\n",
       "    <tr>\n",
       "      <td>1</td>\n",
       "      <td>1.983100</td>\n",
       "      <td>1.942977</td>\n",
       "      <td>0.285714</td>\n",
       "      <td>0.197832</td>\n",
       "      <td>0.269015</td>\n",
       "      <td>[[572, 288, 329, 266, 104, 119, 38, 6, 0], [321, 480, 206, 134, 80, 134, 37, 5, 0], [188, 106, 562, 156, 82, 48, 58, 6, 0], [220, 60, 120, 288, 26, 26, 22, 3, 0], [118, 85, 214, 102, 98, 41, 63, 4, 0], [141, 95, 96, 59, 40, 62, 18, 0, 0], [63, 47, 146, 61, 48, 37, 42, 11, 0], [51, 24, 36, 45, 24, 26, 8, 4, 0], [78, 46, 101, 61, 38, 33, 18, 4, 0]]</td>\n",
       "    </tr>\n",
       "    <tr>\n",
       "      <td>2</td>\n",
       "      <td>1.801000</td>\n",
       "      <td>1.952749</td>\n",
       "      <td>0.296557</td>\n",
       "      <td>0.203912</td>\n",
       "      <td>0.276667</td>\n",
       "      <td>[[745, 259, 223, 305, 98, 37, 42, 13, 0], [472, 462, 129, 122, 75, 72, 54, 11, 0], [271, 87, 478, 171, 89, 30, 70, 10, 0], [250, 57, 86, 311, 20, 9, 28, 4, 0], [192, 77, 152, 111, 90, 25, 70, 8, 0], [201, 96, 59, 61, 42, 30, 19, 3, 0], [102, 54, 87, 63, 58, 23, 65, 3, 0], [59, 33, 36, 45, 19, 10, 9, 7, 0], [121, 57, 60, 73, 29, 19, 14, 6, 0]]</td>\n",
       "    </tr>\n",
       "    <tr>\n",
       "      <td>3</td>\n",
       "      <td>1.671800</td>\n",
       "      <td>1.970165</td>\n",
       "      <td>0.286392</td>\n",
       "      <td>0.208036</td>\n",
       "      <td>0.274976</td>\n",
       "      <td>[[679, 251, 257, 205, 157, 111, 45, 17, 0], [427, 438, 152, 76, 108, 133, 51, 12, 0], [228, 92, 495, 120, 125, 50, 80, 16, 0], [253, 67, 102, 237, 38, 32, 27, 9, 0], [159, 77, 158, 76, 130, 44, 70, 11, 0], [180, 78, 64, 37, 73, 60, 15, 4, 0], [91, 43, 78, 49, 85, 41, 63, 5, 0], [59, 26, 40, 30, 19, 25, 8, 11, 0], [110, 52, 70, 45, 48, 29, 20, 5, 0]]</td>\n",
       "    </tr>\n",
       "    <tr>\n",
       "      <td>4</td>\n",
       "      <td>1.590000</td>\n",
       "      <td>2.027223</td>\n",
       "      <td>0.277853</td>\n",
       "      <td>0.207365</td>\n",
       "      <td>0.271698</td>\n",
       "      <td>[[693, 133, 182, 262, 237, 157, 37, 19, 2], [445, 324, 135, 109, 157, 150, 56, 19, 2], [229, 51, 429, 153, 189, 70, 68, 16, 1], [269, 29, 64, 268, 67, 35, 27, 6, 0], [156, 36, 125, 93, 188, 57, 57, 13, 0], [162, 43, 48, 57, 94, 77, 20, 10, 0], [76, 12, 68, 62, 116, 54, 61, 6, 0], [54, 10, 35, 39, 28, 34, 8, 10, 0], [113, 25, 50, 56, 76, 38, 14, 7, 0]]</td>\n",
       "    </tr>\n",
       "    <tr>\n",
       "      <td>5</td>\n",
       "      <td>1.528900</td>\n",
       "      <td>2.054128</td>\n",
       "      <td>0.275549</td>\n",
       "      <td>0.204402</td>\n",
       "      <td>0.268995</td>\n",
       "      <td>[[690, 286, 122, 209, 218, 98, 67, 25, 7], [415, 482, 72, 76, 149, 104, 73, 21, 5], [252, 131, 302, 126, 206, 46, 119, 20, 4], [261, 70, 42, 247, 62, 32, 39, 9, 3], [154, 95, 91, 77, 158, 38, 98, 14, 0], [158, 97, 27, 37, 89, 63, 27, 11, 2], [91, 56, 47, 37, 97, 35, 81, 8, 3], [58, 34, 21, 30, 33, 22, 11, 9, 0], [102, 69, 35, 47, 65, 25, 26, 9, 1]]</td>\n",
       "    </tr>\n",
       "    <tr>\n",
       "      <td>6</td>\n",
       "      <td>1.482500</td>\n",
       "      <td>2.072957</td>\n",
       "      <td>0.273787</td>\n",
       "      <td>0.204798</td>\n",
       "      <td>0.269702</td>\n",
       "      <td>[[715, 177, 172, 219, 174, 138, 69, 53, 5], [435, 394, 111, 78, 120, 156, 61, 39, 3], [252, 79, 378, 127, 161, 65, 103, 37, 4], [269, 47, 57, 233, 45, 45, 43, 21, 5], [153, 71, 127, 75, 123, 50, 101, 24, 1], [168, 65, 41, 37, 57, 79, 45, 19, 0], [93, 40, 69, 35, 75, 45, 84, 13, 1], [59, 20, 30, 34, 20, 27, 15, 13, 0], [111, 44, 49, 47, 48, 38, 25, 16, 1]]</td>\n",
       "    </tr>\n",
       "    <tr>\n",
       "      <td>7</td>\n",
       "      <td>1.441700</td>\n",
       "      <td>2.093854</td>\n",
       "      <td>0.278531</td>\n",
       "      <td>0.205775</td>\n",
       "      <td>0.272169</td>\n",
       "      <td>[[752, 238, 167, 116, 206, 135, 56, 39, 13], [455, 450, 95, 48, 128, 137, 53, 25, 6], [274, 101, 377, 83, 213, 56, 70, 26, 6], [292, 71, 69, 168, 58, 42, 40, 17, 8], [165, 80, 123, 49, 160, 49, 71, 22, 6], [177, 81, 48, 23, 78, 65, 24, 11, 4], [91, 51, 61, 24, 102, 41, 65, 12, 8], [65, 26, 33, 18, 22, 27, 11, 15, 1], [117, 61, 48, 28, 62, 27, 20, 13, 3]]</td>\n",
       "    </tr>\n",
       "    <tr>\n",
       "      <td>8</td>\n",
       "      <td>1.407700</td>\n",
       "      <td>2.120041</td>\n",
       "      <td>0.269179</td>\n",
       "      <td>0.201236</td>\n",
       "      <td>0.265072</td>\n",
       "      <td>[[675, 265, 141, 190, 242, 111, 46, 41, 11], [442, 457, 84, 67, 150, 112, 46, 34, 5], [272, 97, 341, 109, 213, 48, 84, 30, 12], [264, 70, 61, 209, 67, 38, 33, 17, 6], [167, 81, 108, 65, 158, 41, 79, 22, 4], [162, 84, 38, 32, 87, 66, 24, 12, 6], [90, 45, 61, 34, 103, 35, 66, 13, 8], [61, 27, 29, 31, 25, 22, 11, 11, 1], [104, 62, 45, 40, 66, 21, 21, 17, 3]]</td>\n",
       "    </tr>\n",
       "    <tr>\n",
       "      <td>9</td>\n",
       "      <td>1.373700</td>\n",
       "      <td>2.145255</td>\n",
       "      <td>0.270127</td>\n",
       "      <td>0.197895</td>\n",
       "      <td>0.263884</td>\n",
       "      <td>[[714, 211, 174, 206, 200, 115, 53, 34, 15], [476, 393, 104, 79, 138, 122, 48, 32, 5], [259, 81, 397, 120, 192, 47, 74, 27, 9], [264, 66, 72, 220, 53, 33, 35, 11, 11], [161, 72, 136, 70, 137, 41, 81, 21, 6], [172, 69, 58, 35, 78, 58, 26, 9, 6], [87, 43, 72, 41, 92, 40, 61, 11, 8], [63, 23, 32, 33, 25, 19, 11, 10, 2], [116, 53, 48, 46, 55, 24, 22, 12, 3]]</td>\n",
       "    </tr>\n",
       "    <tr>\n",
       "      <td>10</td>\n",
       "      <td>1.347500</td>\n",
       "      <td>2.155525</td>\n",
       "      <td>0.268365</td>\n",
       "      <td>0.197496</td>\n",
       "      <td>0.263104</td>\n",
       "      <td>[[708, 226, 164, 175, 231, 120, 53, 30, 15], [467, 414, 96, 67, 150, 120, 48, 29, 6], [258, 86, 380, 110, 219, 52, 74, 21, 6], [276, 65, 75, 191, 62, 36, 35, 14, 11], [168, 75, 123, 61, 150, 45, 81, 18, 4], [169, 72, 53, 32, 82, 63, 26, 8, 6], [92, 46, 67, 29, 101, 42, 61, 9, 8], [62, 25, 33, 30, 25, 21, 11, 10, 1], [116, 54, 46, 40, 63, 25, 22, 10, 3]]</td>\n",
       "    </tr>\n",
       "  </tbody>\n",
       "</table><p>"
      ],
      "text/plain": [
       "<IPython.core.display.HTML object>"
      ]
     },
     "metadata": {},
     "output_type": "display_data"
    },
    {
     "name": "stderr",
     "output_type": "stream",
     "text": [
      "/Users/jorgegarcelan/Desktop/UNI/6-LAB TSC/interspeech-nlp/.venv/lib/python3.9/site-packages/sklearn/metrics/_classification.py:1565: UndefinedMetricWarning: Precision is ill-defined and being set to 0.0 in labels with no predicted samples. Use `zero_division` parameter to control this behavior.\n",
      "  _warn_prf(average, modifier, f\"{metric.capitalize()} is\", len(result))\n",
      "/Users/jorgegarcelan/Desktop/UNI/6-LAB TSC/interspeech-nlp/.venv/lib/python3.9/site-packages/sklearn/metrics/_classification.py:1565: UndefinedMetricWarning: Precision is ill-defined and being set to 0.0 in labels with no predicted samples. Use `zero_division` parameter to control this behavior.\n",
      "  _warn_prf(average, modifier, f\"{metric.capitalize()} is\", len(result))\n",
      "/Users/jorgegarcelan/Desktop/UNI/6-LAB TSC/interspeech-nlp/.venv/lib/python3.9/site-packages/sklearn/metrics/_classification.py:1565: UndefinedMetricWarning: Precision is ill-defined and being set to 0.0 in labels with no predicted samples. Use `zero_division` parameter to control this behavior.\n",
      "  _warn_prf(average, modifier, f\"{metric.capitalize()} is\", len(result))\n",
      "/Users/jorgegarcelan/Desktop/UNI/6-LAB TSC/interspeech-nlp/.venv/lib/python3.9/site-packages/sklearn/metrics/_classification.py:1565: UndefinedMetricWarning: Precision is ill-defined and being set to 0.0 in labels with no predicted samples. Use `zero_division` parameter to control this behavior.\n",
      "  _warn_prf(average, modifier, f\"{metric.capitalize()} is\", len(result))\n",
      "/Users/jorgegarcelan/Desktop/UNI/6-LAB TSC/interspeech-nlp/.venv/lib/python3.9/site-packages/sklearn/metrics/_classification.py:1565: UndefinedMetricWarning: Precision is ill-defined and being set to 0.0 in labels with no predicted samples. Use `zero_division` parameter to control this behavior.\n",
      "  _warn_prf(average, modifier, f\"{metric.capitalize()} is\", len(result))\n",
      "/Users/jorgegarcelan/Desktop/UNI/6-LAB TSC/interspeech-nlp/.venv/lib/python3.9/site-packages/sklearn/metrics/_classification.py:1565: UndefinedMetricWarning: Precision is ill-defined and being set to 0.0 in labels with no predicted samples. Use `zero_division` parameter to control this behavior.\n",
      "  _warn_prf(average, modifier, f\"{metric.capitalize()} is\", len(result))\n",
      "/Users/jorgegarcelan/Desktop/UNI/6-LAB TSC/interspeech-nlp/.venv/lib/python3.9/site-packages/sklearn/metrics/_classification.py:1565: UndefinedMetricWarning: Precision is ill-defined and being set to 0.0 in labels with no predicted samples. Use `zero_division` parameter to control this behavior.\n",
      "  _warn_prf(average, modifier, f\"{metric.capitalize()} is\", len(result))\n",
      "/Users/jorgegarcelan/Desktop/UNI/6-LAB TSC/interspeech-nlp/.venv/lib/python3.9/site-packages/sklearn/metrics/_classification.py:1565: UndefinedMetricWarning: Precision is ill-defined and being set to 0.0 in labels with no predicted samples. Use `zero_division` parameter to control this behavior.\n",
      "  _warn_prf(average, modifier, f\"{metric.capitalize()} is\", len(result))\n",
      "/Users/jorgegarcelan/Desktop/UNI/6-LAB TSC/interspeech-nlp/.venv/lib/python3.9/site-packages/sklearn/metrics/_classification.py:1565: UndefinedMetricWarning: Precision is ill-defined and being set to 0.0 in labels with no predicted samples. Use `zero_division` parameter to control this behavior.\n",
      "  _warn_prf(average, modifier, f\"{metric.capitalize()} is\", len(result))\n"
     ]
    },
    {
     "data": {
      "text/plain": [
       "TrainOutput(global_step=9340, training_loss=1.5624662745432885, metrics={'train_runtime': 37938.327, 'train_samples_per_second': 7.873, 'train_steps_per_second': 0.246, 'total_flos': 3.957162661444608e+16, 'train_loss': 1.5624662745432885, 'epoch': 10.0})"
      ]
     },
     "execution_count": 15,
     "metadata": {},
     "output_type": "execute_result"
    }
   ],
   "source": [
    "trainer.train()"
   ]
  },
  {
   "cell_type": "code",
   "execution_count": null,
   "metadata": {},
   "outputs": [],
   "source": [
    "# preds_output = trainer.predict(data)\n",
    "# preds_metrics = preds_output.metrics\n",
    "# preds_metrics"
   ]
  },
  {
   "cell_type": "code",
   "execution_count": 21,
   "metadata": {},
   "outputs": [
    {
     "data": {
      "text/plain": [
       "Dataset({\n",
       "    features: ['FileName', 'worker', 'primary_emotion', 'EmoClass', 'labels', 'WorkerNum', 'NewPartition', 'text', 'input_ids', 'attention_mask'],\n",
       "    num_rows: 37247\n",
       "})"
      ]
     },
     "execution_count": 21,
     "metadata": {},
     "output_type": "execute_result"
    }
   ],
   "source": [
    "data_dataset"
   ]
  },
  {
   "cell_type": "code",
   "execution_count": 22,
   "metadata": {},
   "outputs": [
    {
     "data": {
      "text/plain": [
       "'predicciones_male.npy'"
      ]
     },
     "execution_count": 22,
     "metadata": {},
     "output_type": "execute_result"
    }
   ],
   "source": [
    "# Realizar la predicción con el trainer\n",
    "preds_output = trainer.predict(data_dataset)\n",
    "\n",
    "# Extraer los logits de la predicción\n",
    "logits = preds_output.predictions\n",
    "\n",
    "# Aplicar softmax para obtener probabilidades\n",
    "probs = np.exp(logits) / np.exp(logits).sum(axis=1, keepdims=True)  # Softmax\n",
    "\n",
    "# Guardar en archivo .npy\n",
    "output_path = \"predicciones_male.npy\"\n",
    "np.save(output_path, probs)\n",
    "\n",
    "# Confirmar guardado\n",
    "output_path"
   ]
  },
  {
   "cell_type": "code",
   "execution_count": 23,
   "metadata": {},
   "outputs": [],
   "source": [
    "preds_metrics = preds_output.metrics"
   ]
  },
  {
   "cell_type": "code",
   "execution_count": 26,
   "metadata": {},
   "outputs": [
    {
     "name": "stdout",
     "output_type": "stream",
     "text": [
      "(37247, 9)\n"
     ]
    }
   ],
   "source": [
    "probs_cargadas = np.load(\"predicciones_male.npy\")\n",
    "print(probs_cargadas.shape)  # Debe ser (num_filas, 9)\n"
   ]
  },
  {
   "cell_type": "code",
   "execution_count": 24,
   "metadata": {},
   "outputs": [
    {
     "data": {
      "image/png": "[encoded data removed]",
      "text/plain": [
       "<Figure size 1000x800 with 2 Axes>"
      ]
     },
     "metadata": {},
     "output_type": "display_data"
    }
   ],
   "source": [
    "import matplotlib.pyplot as plt\n",
    "import numpy as np\n",
    "\n",
    "labels = label2id.keys()\n",
    "conf_matrix = preds_metrics['test_confusion_matrix']\n",
    "\n",
    "\n",
    "# Crear el gráfico de la matriz de confusión\n",
    "plt.figure(figsize=(10, 8))\n",
    "plt.imshow(conf_matrix, cmap=plt.cm.Blues)\n",
    "plt.title(\"Male - No balanced\")\n",
    "plt.colorbar()\n",
    "\n",
    "# Agregar etiquetas\n",
    "tick_marks = np.arange(len(labels))\n",
    "plt.xticks(tick_marks, labels)\n",
    "plt.yticks(tick_marks, labels)\n",
    "\n",
    "# Rótulos de valores dentro de cada celda\n",
    "conf_matrix = np.array(conf_matrix)\n",
    "\n",
    "# Calcular el umbral\n",
    "thresh = conf_matrix.max() / 2\n",
    "for i, j in np.ndindex(conf_matrix.shape):\n",
    "    plt.text(\n",
    "        j, i, format(conf_matrix[i, j], 'd'),\n",
    "        horizontalalignment=\"center\",\n",
    "        color=\"white\" if conf_matrix[i, j] > thresh else \"black\"\n",
    "    )\n",
    "\n",
    "# Etiquetas de los ejes\n",
    "plt.ylabel('True Label')\n",
    "plt.xlabel('Predicted Label')\n",
    "plt.tight_layout()\n",
    "plt.show()"
   ]
  }
 ],
 "metadata": {
  "kernelspec": {
   "display_name": ".venv",
   "language": "python",
   "name": "python3"
  },
  "language_info": {
   "codemirror_mode": {
    "name": "ipython",
    "version": 3
   },
   "file_extension": ".py",
   "mimetype": "text/x-python",
   "name": "python",
   "nbconvert_exporter": "python",
   "pygments_lexer": "ipython3",
   "version": "3.9.6"
  }
 },
 "nbformat": 4,
 "nbformat_minor": 2
}
