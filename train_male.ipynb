{
 "cells": [
  {
   "cell_type": "markdown",
   "metadata": {},
   "source": [
    "# Train Interspeech"
   ]
  },
  {
   "cell_type": "markdown",
   "metadata": {},
   "source": [
    "## Data"
   ]
  },
  {
   "cell_type": "code",
   "execution_count": 4,
   "metadata": {},
   "outputs": [],
   "source": [
    "balanced = False"
   ]
  },
  {
   "cell_type": "code",
   "execution_count": 5,
   "metadata": {},
   "outputs": [
    {
     "name": "stdout",
     "output_type": "stream",
     "text": [
      "6384\n",
      "6384\n"
     ]
    },
    {
     "data": {
      "text/html": [
       "<div>\n",
       "<style scoped>\n",
       "    .dataframe tbody tr th:only-of-type {\n",
       "        vertical-align: middle;\n",
       "    }\n",
       "\n",
       "    .dataframe tbody tr th {\n",
       "        vertical-align: top;\n",
       "    }\n",
       "\n",
       "    .dataframe thead th {\n",
       "        text-align: right;\n",
       "    }\n",
       "</style>\n",
       "<table border=\"1\" class=\"dataframe\">\n",
       "  <thead>\n",
       "    <tr style=\"text-align: right;\">\n",
       "      <th></th>\n",
       "      <th>FileName</th>\n",
       "      <th>text</th>\n",
       "      <th>EmoClass</th>\n",
       "      <th>EmoAct</th>\n",
       "      <th>EmoVal</th>\n",
       "      <th>EmoDom</th>\n",
       "      <th>SpkrID</th>\n",
       "      <th>Gender</th>\n",
       "      <th>Split_Set</th>\n",
       "      <th>PodcastID</th>\n",
       "      <th>StratifyCol</th>\n",
       "      <th>NewPartition</th>\n",
       "      <th>PseudoEmo</th>\n",
       "      <th>InvEntropyNorm</th>\n",
       "      <th>PseudoEmoNum</th>\n",
       "    </tr>\n",
       "  </thead>\n",
       "  <tbody>\n",
       "    <tr>\n",
       "      <th>0</th>\n",
       "      <td>MSP-PODCAST_4583_0017_0001</td>\n",
       "      <td>from what it looks like, heidi was okay with j...</td>\n",
       "      <td>A</td>\n",
       "      <td>4.8</td>\n",
       "      <td>2.8</td>\n",
       "      <td>5.2</td>\n",
       "      <td>2357</td>\n",
       "      <td>Male</td>\n",
       "      <td>Train</td>\n",
       "      <td>4583</td>\n",
       "      <td>4583_2357_A</td>\n",
       "      <td>Train</td>\n",
       "      <td>A</td>\n",
       "      <td>1.0</td>\n",
       "      <td>2</td>\n",
       "    </tr>\n",
       "    <tr>\n",
       "      <th>1</th>\n",
       "      <td>MSP-PODCAST_3162_0475</td>\n",
       "      <td>gave them extra money and then they decided th...</td>\n",
       "      <td>A</td>\n",
       "      <td>6.2</td>\n",
       "      <td>2.6</td>\n",
       "      <td>6.2</td>\n",
       "      <td>2124</td>\n",
       "      <td>Male</td>\n",
       "      <td>Development</td>\n",
       "      <td>3162</td>\n",
       "      <td>3162_2124_A</td>\n",
       "      <td>Train</td>\n",
       "      <td>A</td>\n",
       "      <td>1.0</td>\n",
       "      <td>2</td>\n",
       "    </tr>\n",
       "    <tr>\n",
       "      <th>2</th>\n",
       "      <td>MSP-PODCAST_2355_0349</td>\n",
       "      <td>yes, you're going to fucking die.</td>\n",
       "      <td>A</td>\n",
       "      <td>4.2</td>\n",
       "      <td>2.6</td>\n",
       "      <td>4.8</td>\n",
       "      <td>1601</td>\n",
       "      <td>Male</td>\n",
       "      <td>Train</td>\n",
       "      <td>2355</td>\n",
       "      <td>2355_1601_A</td>\n",
       "      <td>Test</td>\n",
       "      <td>A</td>\n",
       "      <td>1.0</td>\n",
       "      <td>2</td>\n",
       "    </tr>\n",
       "    <tr>\n",
       "      <th>3</th>\n",
       "      <td>MSP-PODCAST_5201_1197</td>\n",
       "      <td>and i already kind of had it in my mind</td>\n",
       "      <td>A</td>\n",
       "      <td>5.2</td>\n",
       "      <td>3.6</td>\n",
       "      <td>5.4</td>\n",
       "      <td>2789</td>\n",
       "      <td>Male</td>\n",
       "      <td>Development</td>\n",
       "      <td>5201</td>\n",
       "      <td>5201_2789_A</td>\n",
       "      <td>Train</td>\n",
       "      <td>A</td>\n",
       "      <td>1.0</td>\n",
       "      <td>2</td>\n",
       "    </tr>\n",
       "    <tr>\n",
       "      <th>4</th>\n",
       "      <td>MSP-PODCAST_5583_1543</td>\n",
       "      <td>i'm talking about a lot of you guys got to sta...</td>\n",
       "      <td>A</td>\n",
       "      <td>4.8</td>\n",
       "      <td>3.4</td>\n",
       "      <td>4.8</td>\n",
       "      <td>2953</td>\n",
       "      <td>Male</td>\n",
       "      <td>Train</td>\n",
       "      <td>5583</td>\n",
       "      <td>5583_2953_A</td>\n",
       "      <td>Train</td>\n",
       "      <td>A</td>\n",
       "      <td>1.0</td>\n",
       "      <td>2</td>\n",
       "    </tr>\n",
       "  </tbody>\n",
       "</table>\n",
       "</div>"
      ],
      "text/plain": [
       "                     FileName  \\\n",
       "0  MSP-PODCAST_4583_0017_0001   \n",
       "1       MSP-PODCAST_3162_0475   \n",
       "2       MSP-PODCAST_2355_0349   \n",
       "3       MSP-PODCAST_5201_1197   \n",
       "4       MSP-PODCAST_5583_1543   \n",
       "\n",
       "                                                text EmoClass  EmoAct  EmoVal  \\\n",
       "0  from what it looks like, heidi was okay with j...        A     4.8     2.8   \n",
       "1  gave them extra money and then they decided th...        A     6.2     2.6   \n",
       "2                  yes, you're going to fucking die.        A     4.2     2.6   \n",
       "3            and i already kind of had it in my mind        A     5.2     3.6   \n",
       "4  i'm talking about a lot of you guys got to sta...        A     4.8     3.4   \n",
       "\n",
       "   EmoDom  SpkrID Gender    Split_Set  PodcastID  StratifyCol NewPartition  \\\n",
       "0     5.2    2357   Male        Train       4583  4583_2357_A        Train   \n",
       "1     6.2    2124   Male  Development       3162  3162_2124_A        Train   \n",
       "2     4.8    1601   Male        Train       2355  2355_1601_A         Test   \n",
       "3     5.4    2789   Male  Development       5201  5201_2789_A        Train   \n",
       "4     4.8    2953   Male        Train       5583  5583_2953_A        Train   \n",
       "\n",
       "  PseudoEmo  InvEntropyNorm  PseudoEmoNum  \n",
       "0         A             1.0             2  \n",
       "1         A             1.0             2  \n",
       "2         A             1.0             2  \n",
       "3         A             1.0             2  \n",
       "4         A             1.0             2  "
      ]
     },
     "execution_count": 5,
     "metadata": {},
     "output_type": "execute_result"
    }
   ],
   "source": [
    "import pandas as pd\n",
    "\n",
    "# Cargar el CSV para male\n",
    "# data = pd.read_csv('data/data_male.csv')\n",
    "data = pd.read_csv('data/balanced_pseudo_male.csv')\n",
    "\n",
    "print(len(data))\n",
    "# Eliminar filas con valores nulos solo en la columna 'text'\n",
    "data = data.dropna(subset=['text'])\n",
    "#data.to_csv('data/data_male.csv', index=False)\n",
    "print(len(data))\n",
    "data.head()"
   ]
  },
  {
   "cell_type": "code",
   "execution_count": 6,
   "metadata": {},
   "outputs": [],
   "source": [
    "if balanced:\n",
    "    # Paso 1: Determinar el tamaño mínimo entre las clases\n",
    "    min_count = data['PseudoEmo'].value_counts().min()\n",
    "\n",
    "    # Paso 2: Submuestrear cada clase\n",
    "    data = data.groupby('PseudoEmo').apply(lambda x: x.sample(min_count)).reset_index(drop=True)\n",
    "\n",
    "    # Paso 3: Verificar el balance\n",
    "    print(data['PseudoEmo'].value_counts())\n",
    "    print(len(data))\n",
    "\n",
    "    #data.to_csv('data/balanced_pseudo_male.csv', index=False)\n"
   ]
  },
  {
   "cell_type": "code",
   "execution_count": 7,
   "metadata": {},
   "outputs": [
    {
     "name": "stdout",
     "output_type": "stream",
     "text": [
      "Conjunto Train:\n",
      "                     FileName  \\\n",
      "0  MSP-PODCAST_4583_0017_0001   \n",
      "1       MSP-PODCAST_3162_0475   \n",
      "3       MSP-PODCAST_5201_1197   \n",
      "4       MSP-PODCAST_5583_1543   \n",
      "6       MSP-PODCAST_2736_0392   \n",
      "\n",
      "                                                text EmoClass  EmoAct  EmoVal  \\\n",
      "0  from what it looks like, heidi was okay with j...        A     4.8     2.8   \n",
      "1  gave them extra money and then they decided th...        A     6.2     2.6   \n",
      "3            and i already kind of had it in my mind        A     5.2     3.6   \n",
      "4  i'm talking about a lot of you guys got to sta...        A     4.8     3.4   \n",
      "6  like you have an outside porch, like a screen ...        X     5.0     2.6   \n",
      "\n",
      "   EmoDom  SpkrID Gender    Split_Set  PodcastID  StratifyCol NewPartition  \\\n",
      "0     5.2    2357   Male        Train       4583  4583_2357_A        Train   \n",
      "1     6.2    2124   Male  Development       3162  3162_2124_A        Train   \n",
      "3     5.4    2789   Male  Development       5201  5201_2789_A        Train   \n",
      "4     4.8    2953   Male        Train       5583  5583_2953_A        Train   \n",
      "6     4.0    1506   Male        Train       2736  2736_1506_X        Train   \n",
      "\n",
      "  PseudoEmo  InvEntropyNorm  PseudoEmoNum  \n",
      "0         A        1.000000             2  \n",
      "1         A        1.000000             2  \n",
      "3         A        1.000000             2  \n",
      "4         A        1.000000             2  \n",
      "6         A        0.394447             2  \n",
      "Conjunto Development:\n",
      "                      FileName  \\\n",
      "5   MSP-PODCAST_4265_0648_0000   \n",
      "12       MSP-PODCAST_0567_0164   \n",
      "16       MSP-PODCAST_5471_0052   \n",
      "18       MSP-PODCAST_5445_0156   \n",
      "22       MSP-PODCAST_5486_0878   \n",
      "\n",
      "                                                 text EmoClass    EmoAct  \\\n",
      "5   because you have to go out and get hurt. you h...        A  4.800000   \n",
      "12  that is what people are going through in venez...        A  6.083333   \n",
      "16  ... drive and drove off. ripped the damn hose ...        A  4.800000   \n",
      "18  and that's just sad. think about your fucking ...        A  3.400000   \n",
      "22  ... and look at yourself, you'd probably-yes.....        A  4.800000   \n",
      "\n",
      "      EmoVal  EmoDom  SpkrID Gender    Split_Set  PodcastID  StratifyCol  \\\n",
      "5   2.800000     4.8    2027   Male  Development       4265  4265_2027_A   \n",
      "12  2.166667     6.0     139   Male        Train        567   0567_139_A   \n",
      "16  2.200000     5.0    2864   Male        Train       5471  5471_2864_A   \n",
      "18  2.200000     5.0    2861   Male        Train       5445  5445_2861_A   \n",
      "22  2.800000     4.6    2865   Male        Train       5486  5486_2865_A   \n",
      "\n",
      "   NewPartition PseudoEmo  InvEntropyNorm  PseudoEmoNum  \n",
      "5    Evaluation         A             1.0             2  \n",
      "12   Evaluation         A             1.0             2  \n",
      "16   Evaluation         A             1.0             2  \n",
      "18   Evaluation         A             1.0             2  \n",
      "22   Evaluation         A             1.0             2  \n",
      "Conjunto Test:\n",
      "                      FileName  \\\n",
      "2        MSP-PODCAST_2355_0349   \n",
      "7   MSP-PODCAST_0551_0081_0001   \n",
      "8   MSP-PODCAST_1355_0048_0015   \n",
      "11       MSP-PODCAST_0266_0371   \n",
      "13       MSP-PODCAST_5468_0144   \n",
      "\n",
      "                                                 text EmoClass    EmoAct  \\\n",
      "2                   yes, you're going to fucking die.        A  4.200000   \n",
      "7    blow it up or kill your neighbor because they...        A  3.600000   \n",
      "8    that's something that happens at the end of e...        A  4.800000   \n",
      "11  absolutely. and it's their policies that are f...        A  5.277778   \n",
      "13  okay. but in your mind, you know that she's ge...        A  4.800000   \n",
      "\n",
      "      EmoVal    EmoDom  SpkrID Gender Split_Set  PodcastID  StratifyCol  \\\n",
      "2   2.600000  4.800000    1601   Male     Train       2355  2355_1601_A   \n",
      "7   2.600000  3.800000     217   Male     Train        551   0551_217_A   \n",
      "8   4.000000  5.000000     756   Male     Train       1355   1355_756_A   \n",
      "11  2.111111  5.666667     115   Male     Train        266   0266_115_A   \n",
      "13  3.200000  5.000000    3166   Male     Train       5468  5468_3166_A   \n",
      "\n",
      "   NewPartition PseudoEmo  InvEntropyNorm  PseudoEmoNum  \n",
      "2          Test         A             1.0             2  \n",
      "7          Test         A             1.0             2  \n",
      "8          Test         A             1.0             2  \n",
      "11         Test         A             1.0             2  \n",
      "13         Test         A             1.0             2  \n"
     ]
    }
   ],
   "source": [
    "# Filtrar los datos en tres conjuntos basados en la columna 'Split_Set'\n",
    "train_df = data.loc[data['NewPartition'] == 'Train']\n",
    "dev_df = data.loc[data['NewPartition'] == 'Evaluation']\n",
    "test_df = data.loc[data['NewPartition'] == 'Test']\n",
    "\n",
    "# Verifica las primeras filas de cada conjunto\n",
    "print(\"Conjunto Train:\")\n",
    "print(train_df.head())\n",
    "\n",
    "print(\"Conjunto Development:\")\n",
    "print(dev_df.head())\n",
    "\n",
    "print(\"Conjunto Test:\")\n",
    "print(test_df.head())"
   ]
  },
  {
   "cell_type": "code",
   "execution_count": 8,
   "metadata": {},
   "outputs": [],
   "source": [
    "# # Establecer la semilla para garantizar reproducibilidad\n",
    "# seed = 42\n",
    "\n",
    "# # Seleccionar aleatoriamente las primeras N filas del conjunto de entrenamiento\n",
    "# train_df = train_df.sample(n=1000, random_state=seed)\n",
    "\n",
    "# # Seleccionar aleatoriamente las primeras N filas del conjunto de desarrollo\n",
    "# dev_df = dev_df.sample(n=250, random_state=seed)"
   ]
  },
  {
   "cell_type": "code",
   "execution_count": 9,
   "metadata": {},
   "outputs": [
    {
     "name": "stdout",
     "output_type": "stream",
     "text": [
      "id2label={2: 'A', 4: 'C', 6: 'D', 7: 'F', 1: 'H', 0: 'N', 3: 'S', 5: 'U'}\n",
      "label2id={'A': 2, 'C': 4, 'D': 6, 'F': 7, 'H': 1, 'N': 0, 'S': 3, 'U': 5}\n"
     ]
    }
   ],
   "source": [
    "num_labels = 8\n",
    "id2label = dict(zip(train_df[\"PseudoEmoNum\"], train_df[\"PseudoEmo\"]))\n",
    "label2id = dict(zip(train_df[\"PseudoEmo\"], train_df[\"PseudoEmoNum\"]))\n",
    "print(f\"{id2label=}\")\n",
    "print(f\"{label2id=}\")"
   ]
  },
  {
   "cell_type": "code",
   "execution_count": 10,
   "metadata": {},
   "outputs": [
    {
     "name": "stderr",
     "output_type": "stream",
     "text": [
      "/var/folders/dh/_ks73kfn57l67vxm7b5y16qw0000gn/T/ipykernel_20221/2335822977.py:2: SettingWithCopyWarning: \n",
      "A value is trying to be set on a copy of a slice from a DataFrame.\n",
      "Try using .loc[row_indexer,col_indexer] = value instead\n",
      "\n",
      "See the caveats in the documentation: https://pandas.pydata.org/pandas-docs/stable/user_guide/indexing.html#returning-a-view-versus-a-copy\n",
      "  train_df['PseudoEmoNum'] = train_df['PseudoEmoNum'].astype(int)\n",
      "/var/folders/dh/_ks73kfn57l67vxm7b5y16qw0000gn/T/ipykernel_20221/2335822977.py:3: SettingWithCopyWarning: \n",
      "A value is trying to be set on a copy of a slice from a DataFrame.\n",
      "Try using .loc[row_indexer,col_indexer] = value instead\n",
      "\n",
      "See the caveats in the documentation: https://pandas.pydata.org/pandas-docs/stable/user_guide/indexing.html#returning-a-view-versus-a-copy\n",
      "  dev_df['PseudoEmoNum'] = dev_df['PseudoEmoNum'].astype(int)\n",
      "/var/folders/dh/_ks73kfn57l67vxm7b5y16qw0000gn/T/ipykernel_20221/2335822977.py:4: SettingWithCopyWarning: \n",
      "A value is trying to be set on a copy of a slice from a DataFrame.\n",
      "Try using .loc[row_indexer,col_indexer] = value instead\n",
      "\n",
      "See the caveats in the documentation: https://pandas.pydata.org/pandas-docs/stable/user_guide/indexing.html#returning-a-view-versus-a-copy\n",
      "  test_df['PseudoEmoNum'] = test_df['PseudoEmoNum'].astype(int)\n"
     ]
    }
   ],
   "source": [
    "# Convertir EmoClass a valores numéricos si es necesario\n",
    "train_df['PseudoEmoNum'] = train_df['PseudoEmoNum'].astype(int)\n",
    "dev_df['PseudoEmoNum'] = dev_df['PseudoEmoNum'].astype(int)\n",
    "test_df['PseudoEmoNum'] = test_df['PseudoEmoNum'].astype(int)"
   ]
  },
  {
   "cell_type": "code",
   "execution_count": 11,
   "metadata": {},
   "outputs": [
    {
     "name": "stderr",
     "output_type": "stream",
     "text": [
      "/Users/jorgegarcelan/Desktop/UNI/6-LAB TSC/interspeech-nlp/.venv/lib/python3.9/site-packages/urllib3/__init__.py:35: NotOpenSSLWarning: urllib3 v2 only supports OpenSSL 1.1.1+, currently the 'ssl' module is compiled with 'LibreSSL 2.8.3'. See: https://github.com/urllib3/urllib3/issues/3020\n",
      "  warnings.warn(\n",
      "/Users/jorgegarcelan/Desktop/UNI/6-LAB TSC/interspeech-nlp/.venv/lib/python3.9/site-packages/tqdm/auto.py:21: TqdmWarning: IProgress not found. Please update jupyter and ipywidgets. See https://ipywidgets.readthedocs.io/en/stable/user_install.html\n",
      "  from .autonotebook import tqdm as notebook_tqdm\n",
      "Map: 100%|██████████| 2782/2782 [00:00<00:00, 12249.41 examples/s]\n",
      "Map: 100%|██████████| 1261/1261 [00:00<00:00, 16822.73 examples/s]\n",
      "Map: 100%|██████████| 2341/2341 [00:00<00:00, 15681.51 examples/s]\n"
     ]
    }
   ],
   "source": [
    "from datasets import Dataset\n",
    "from transformers import AutoTokenizer\n",
    "\n",
    "# Modelo\n",
    "model_ckpt = \"distilbert-base-uncased\"\n",
    "\n",
    "# Cargar el tokenizer\n",
    "tokenizer = AutoTokenizer.from_pretrained(model_ckpt)\n",
    "\n",
    "# Función para tokenizar los datos\n",
    "def tokenize_function(examples):\n",
    "    # Verificar que estamos pasando una lista de textos\n",
    "    texts = examples['text']\n",
    "    return tokenizer(texts, padding=\"max_length\", truncation=True)\n",
    "\n",
    "# Asegurarse de que 'train_df' y 'dev_df' son objetos Dataset de Hugging Face\n",
    "train_dataset = Dataset.from_pandas(train_df)\n",
    "dev_dataset = Dataset.from_pandas(dev_df)\n",
    "test_dataset = Dataset.from_pandas(test_df)\n",
    "\n",
    "\n",
    "# Tokenizamos ambos conjuntos de datos\n",
    "train_dataset = train_dataset.map(tokenize_function, batched=True)\n",
    "dev_dataset = dev_dataset.map(tokenize_function, batched=True)\n",
    "test_dataset = test_dataset.map(tokenize_function, batched=True)\n",
    "\n",
    "\n",
    "# Renombrar columna de labels\n",
    "train_dataset = train_dataset.rename_column(\"PseudoEmoNum\", \"labels\")\n",
    "dev_dataset = dev_dataset.rename_column(\"PseudoEmoNum\", \"labels\")\n",
    "test_dataset = test_dataset.rename_column(\"PseudoEmoNum\", \"labels\")\n"
   ]
  },
  {
   "cell_type": "markdown",
   "metadata": {},
   "source": [
    "## Code"
   ]
  },
  {
   "cell_type": "code",
   "execution_count": 12,
   "metadata": {},
   "outputs": [
    {
     "name": "stdout",
     "output_type": "stream",
     "text": [
      "2.5.1\n"
     ]
    }
   ],
   "source": [
    "from transformers import AutoTokenizer\n",
    "import torch\n",
    "print(torch.__version__)  # Esto debería mostrarte la versión de PyTorch instalada"
   ]
  },
  {
   "cell_type": "code",
   "execution_count": 13,
   "metadata": {},
   "outputs": [
    {
     "name": "stderr",
     "output_type": "stream",
     "text": [
      "Some weights of DistilBertForSequenceClassification were not initialized from the model checkpoint at distilbert-base-uncased and are newly initialized: ['classifier.bias', 'classifier.weight', 'pre_classifier.bias', 'pre_classifier.weight']\n",
      "You should probably TRAIN this model on a down-stream task to be able to use it for predictions and inference.\n"
     ]
    },
    {
     "name": "stdout",
     "output_type": "stream",
     "text": [
      "8\n"
     ]
    }
   ],
   "source": [
    "from transformers import AutoModelForSequenceClassification\n",
    "import torch\n",
    "\n",
    "device = torch.device(\"cuda\" if torch.cuda.is_available() else \"cpu\")\n",
    "\n",
    "model = AutoModelForSequenceClassification.from_pretrained(model_ckpt, num_labels=num_labels).to(device)\n",
    "print(model.num_labels)"
   ]
  },
  {
   "cell_type": "code",
   "execution_count": 14,
   "metadata": {},
   "outputs": [],
   "source": [
    "from sklearn.metrics import classification_report, confusion_matrix\n",
    "import numpy as np\n",
    "\n",
    "\n",
    "def compute_metrics(eval_pred):\n",
    "    logits, labels = eval_pred\n",
    "    predictions = np.argmax(logits, axis=-1)\n",
    "    \n",
    "    # Obtener reporte completo\n",
    "    report = classification_report(labels, predictions, output_dict=True)\n",
    "    \n",
    "    # Obtener la matriz de confusión\n",
    "    conf_matrix = confusion_matrix(labels, predictions)\n",
    "    \n",
    "    # Extraer métricas para cada clase y globales\n",
    "    metrics = {\n",
    "        'accuracy': report['accuracy'],\n",
    "        'macro_f1': report['macro avg']['f1-score'],\n",
    "        'weighted_f1': report['weighted avg']['f1-score'],\n",
    "        # 'weighted_precision': report['weighted avg']['precision'],\n",
    "        # 'weighted_recall': report['weighted avg']['recall'],\n",
    "        'confusion_matrix': conf_matrix.tolist()  # Convertir a lista para asegurarse de que es serializable si es necesario\n",
    "    }\n",
    "    \n",
    "    # # Añadir métricas específicas por clase si se requiere\n",
    "    # for label, scores in report.items():\n",
    "    #     if label not in [\"accuracy\", \"macro avg\", \"weighted avg\"]:\n",
    "    #         metrics[f'{label}_precision'] = scores['precision']\n",
    "    #         metrics[f'{label}_recall'] = scores['recall']\n",
    "    #         metrics[f'{label}_f1'] = scores['f1-score']\n",
    "    #         metrics[f'{label}_support'] = scores['support']\n",
    "    \n",
    "    return metrics"
   ]
  },
  {
   "cell_type": "code",
   "execution_count": 15,
   "metadata": {},
   "outputs": [
    {
     "name": "stderr",
     "output_type": "stream",
     "text": [
      "/Users/jorgegarcelan/Desktop/UNI/6-LAB TSC/interspeech-nlp/.venv/lib/python3.9/site-packages/transformers/training_args.py:1575: FutureWarning: `evaluation_strategy` is deprecated and will be removed in version 4.46 of 🤗 Transformers. Use `eval_strategy` instead\n",
      "  warnings.warn(\n",
      "/var/folders/dh/_ks73kfn57l67vxm7b5y16qw0000gn/T/ipykernel_20221/401939393.py:20: FutureWarning: `tokenizer` is deprecated and will be removed in version 5.0.0 for `Trainer.__init__`. Use `processing_class` instead.\n",
      "  trainer = Trainer(\n"
     ]
    }
   ],
   "source": [
    "from transformers import Trainer, TrainingArguments\n",
    "\n",
    "batch_size = 32\n",
    "logging_steps = len(train_dataset) // batch_size\n",
    "model_name = f\"{model_ckpt}-finetuned-male\"\n",
    "training_args = TrainingArguments(\n",
    "    output_dir=model_name,\n",
    "    num_train_epochs=10,\n",
    "    learning_rate=2e-5,\n",
    "    per_device_train_batch_size=batch_size,\n",
    "    per_device_eval_batch_size=batch_size,\n",
    "    weight_decay=0.01,\n",
    "    evaluation_strategy=\"epoch\",\n",
    "    disable_tqdm=False,\n",
    "    logging_steps=logging_steps,\n",
    "    #push_to_hub=True,\n",
    "    log_level=\"error\"\n",
    ")\n",
    "\n",
    "trainer = Trainer(\n",
    "    model=model,\n",
    "    args=training_args,\n",
    "    compute_metrics=compute_metrics,\n",
    "    train_dataset=train_dataset,\n",
    "    eval_dataset=dev_dataset,\n",
    "    tokenizer=tokenizer\n",
    ")"
   ]
  },
  {
   "cell_type": "code",
   "execution_count": 16,
   "metadata": {},
   "outputs": [
    {
     "data": {
      "text/html": [
       "\n",
       "    <div>\n",
       "      \n",
       "      <progress value='870' max='870' style='width:300px; height:20px; vertical-align: middle;'></progress>\n",
       "      [870/870 51:25, Epoch 10/10]\n",
       "    </div>\n",
       "    <table border=\"1\" class=\"dataframe\">\n",
       "  <thead>\n",
       " <tr style=\"text-align: left;\">\n",
       "      <th>Epoch</th>\n",
       "      <th>Training Loss</th>\n",
       "      <th>Validation Loss</th>\n",
       "      <th>Accuracy</th>\n",
       "      <th>Macro F1</th>\n",
       "      <th>Weighted F1</th>\n",
       "      <th>Confusion Matrix</th>\n",
       "    </tr>\n",
       "  </thead>\n",
       "  <tbody>\n",
       "    <tr>\n",
       "      <td>1</td>\n",
       "      <td>2.039300</td>\n",
       "      <td>1.955937</td>\n",
       "      <td>0.280730</td>\n",
       "      <td>0.152808</td>\n",
       "      <td>0.194745</td>\n",
       "      <td>[[65, 69, 87, 1, 0, 1, 0, 0], [32, 129, 53, 0, 1, 0, 0, 0], [18, 17, 149, 1, 0, 1, 0, 0], [42, 21, 72, 11, 0, 1, 0, 0], [15, 24, 73, 1, 0, 0, 0, 0], [25, 49, 54, 1, 0, 0, 0, 0], [13, 20, 81, 1, 0, 0, 0, 0], [31, 33, 65, 4, 0, 0, 0, 0]]</td>\n",
       "    </tr>\n",
       "    <tr>\n",
       "      <td>2</td>\n",
       "      <td>1.884500</td>\n",
       "      <td>1.885899</td>\n",
       "      <td>0.298176</td>\n",
       "      <td>0.210458</td>\n",
       "      <td>0.248647</td>\n",
       "      <td>[[150, 14, 25, 17, 13, 2, 2, 0], [107, 71, 21, 4, 8, 3, 1, 0], [43, 7, 107, 13, 7, 4, 5, 0], [77, 6, 25, 30, 0, 2, 7, 0], [52, 3, 34, 10, 9, 3, 2, 0], [69, 15, 21, 10, 9, 3, 2, 0], [47, 3, 40, 8, 4, 8, 5, 0], [75, 4, 26, 15, 5, 3, 4, 1]]</td>\n",
       "    </tr>\n",
       "    <tr>\n",
       "      <td>3</td>\n",
       "      <td>1.719800</td>\n",
       "      <td>1.890555</td>\n",
       "      <td>0.296590</td>\n",
       "      <td>0.212874</td>\n",
       "      <td>0.251264</td>\n",
       "      <td>[[95, 29, 14, 60, 9, 2, 14, 0], [73, 89, 22, 21, 5, 2, 3, 0], [21, 8, 92, 46, 3, 0, 16, 0], [36, 9, 8, 83, 2, 0, 9, 0], [23, 11, 37, 29, 3, 1, 9, 0], [39, 28, 17, 32, 4, 2, 7, 0], [18, 4, 39, 38, 4, 1, 10, 1], [45, 10, 21, 39, 6, 1, 11, 0]]</td>\n",
       "    </tr>\n",
       "    <tr>\n",
       "      <td>4</td>\n",
       "      <td>1.564900</td>\n",
       "      <td>1.902008</td>\n",
       "      <td>0.279937</td>\n",
       "      <td>0.223741</td>\n",
       "      <td>0.257607</td>\n",
       "      <td>[[96, 23, 24, 27, 30, 11, 7, 5], [74, 82, 20, 8, 15, 14, 2, 0], [22, 9, 94, 15, 19, 9, 15, 3], [46, 5, 19, 48, 8, 5, 13, 3], [27, 5, 33, 13, 18, 9, 7, 1], [40, 24, 19, 12, 24, 5, 3, 2], [20, 4, 37, 19, 19, 8, 8, 0], [47, 7, 23, 17, 22, 7, 8, 2]]</td>\n",
       "    </tr>\n",
       "    <tr>\n",
       "      <td>5</td>\n",
       "      <td>1.411300</td>\n",
       "      <td>1.950539</td>\n",
       "      <td>0.287074</td>\n",
       "      <td>0.224452</td>\n",
       "      <td>0.259362</td>\n",
       "      <td>[[92, 40, 17, 33, 22, 9, 6, 4], [66, 103, 13, 11, 11, 8, 2, 1], [22, 18, 85, 23, 13, 10, 13, 2], [44, 12, 16, 53, 6, 5, 8, 3], [25, 12, 30, 16, 10, 13, 6, 1], [38, 32, 16, 16, 12, 10, 3, 2], [19, 10, 31, 21, 13, 12, 7, 2], [46, 14, 19, 20, 10, 14, 8, 2]]</td>\n",
       "    </tr>\n",
       "    <tr>\n",
       "      <td>6</td>\n",
       "      <td>1.264000</td>\n",
       "      <td>2.010786</td>\n",
       "      <td>0.283902</td>\n",
       "      <td>0.234721</td>\n",
       "      <td>0.267608</td>\n",
       "      <td>[[90, 28, 13, 38, 21, 14, 12, 7], [62, 89, 12, 15, 12, 20, 5, 0], [22, 11, 78, 31, 10, 12, 18, 4], [39, 6, 9, 63, 7, 7, 13, 3], [24, 6, 26, 17, 11, 12, 13, 4], [38, 26, 13, 18, 10, 11, 10, 3], [17, 5, 26, 25, 13, 14, 13, 2], [41, 10, 17, 24, 10, 15, 13, 3]]</td>\n",
       "    </tr>\n",
       "    <tr>\n",
       "      <td>7</td>\n",
       "      <td>1.150100</td>\n",
       "      <td>2.065200</td>\n",
       "      <td>0.278351</td>\n",
       "      <td>0.233786</td>\n",
       "      <td>0.265481</td>\n",
       "      <td>[[89, 27, 18, 30, 29, 14, 11, 5], [65, 87, 11, 8, 17, 19, 4, 4], [21, 9, 81, 21, 18, 17, 17, 2], [39, 9, 16, 50, 7, 9, 14, 3], [22, 7, 25, 13, 18, 14, 9, 5], [39, 25, 14, 14, 16, 13, 5, 3], [17, 5, 29, 19, 16, 16, 10, 3], [39, 9, 18, 19, 17, 18, 10, 3]]</td>\n",
       "    </tr>\n",
       "    <tr>\n",
       "      <td>8</td>\n",
       "      <td>1.033600</td>\n",
       "      <td>2.111439</td>\n",
       "      <td>0.267248</td>\n",
       "      <td>0.229264</td>\n",
       "      <td>0.258919</td>\n",
       "      <td>[[91, 24, 16, 33, 23, 15, 12, 9], [70, 73, 11, 8, 14, 28, 5, 6], [22, 5, 78, 27, 16, 18, 17, 3], [41, 8, 14, 50, 8, 7, 14, 5], [22, 7, 27, 14, 12, 11, 13, 7], [41, 19, 14, 15, 15, 13, 8, 4], [17, 4, 26, 18, 18, 14, 14, 4], [40, 6, 18, 21, 15, 18, 9, 6]]</td>\n",
       "    </tr>\n",
       "    <tr>\n",
       "      <td>9</td>\n",
       "      <td>0.955600</td>\n",
       "      <td>2.140264</td>\n",
       "      <td>0.270420</td>\n",
       "      <td>0.239198</td>\n",
       "      <td>0.267032</td>\n",
       "      <td>[[82, 23, 17, 31, 26, 17, 15, 12], [59, 75, 13, 9, 20, 28, 4, 7], [20, 5, 79, 24, 19, 19, 17, 3], [37, 7, 17, 48, 8, 12, 13, 5], [15, 7, 28, 14, 15, 14, 11, 9], [33, 18, 15, 13, 17, 19, 7, 7], [15, 4, 26, 18, 18, 17, 14, 3], [35, 7, 18, 21, 15, 20, 8, 9]]</td>\n",
       "    </tr>\n",
       "    <tr>\n",
       "      <td>10</td>\n",
       "      <td>0.907800</td>\n",
       "      <td>2.151096</td>\n",
       "      <td>0.272799</td>\n",
       "      <td>0.239095</td>\n",
       "      <td>0.268730</td>\n",
       "      <td>[[85, 23, 17, 30, 25, 18, 15, 10], [59, 78, 12, 10, 17, 27, 5, 7], [20, 5, 79, 24, 18, 19, 16, 5], [36, 9, 15, 49, 8, 10, 13, 7], [14, 7, 26, 14, 13, 16, 13, 10], [34, 19, 15, 15, 15, 17, 8, 6], [15, 4, 25, 18, 17, 17, 15, 4], [36, 7, 17, 21, 15, 20, 9, 8]]</td>\n",
       "    </tr>\n",
       "  </tbody>\n",
       "</table><p>"
      ],
      "text/plain": [
       "<IPython.core.display.HTML object>"
      ]
     },
     "metadata": {},
     "output_type": "display_data"
    },
    {
     "name": "stderr",
     "output_type": "stream",
     "text": [
      "/Users/jorgegarcelan/Desktop/UNI/6-LAB TSC/interspeech-nlp/.venv/lib/python3.9/site-packages/sklearn/metrics/_classification.py:1565: UndefinedMetricWarning: Precision is ill-defined and being set to 0.0 in labels with no predicted samples. Use `zero_division` parameter to control this behavior.\n",
      "  _warn_prf(average, modifier, f\"{metric.capitalize()} is\", len(result))\n",
      "/Users/jorgegarcelan/Desktop/UNI/6-LAB TSC/interspeech-nlp/.venv/lib/python3.9/site-packages/sklearn/metrics/_classification.py:1565: UndefinedMetricWarning: Precision is ill-defined and being set to 0.0 in labels with no predicted samples. Use `zero_division` parameter to control this behavior.\n",
      "  _warn_prf(average, modifier, f\"{metric.capitalize()} is\", len(result))\n",
      "/Users/jorgegarcelan/Desktop/UNI/6-LAB TSC/interspeech-nlp/.venv/lib/python3.9/site-packages/sklearn/metrics/_classification.py:1565: UndefinedMetricWarning: Precision is ill-defined and being set to 0.0 in labels with no predicted samples. Use `zero_division` parameter to control this behavior.\n",
      "  _warn_prf(average, modifier, f\"{metric.capitalize()} is\", len(result))\n"
     ]
    },
    {
     "data": {
      "text/plain": [
       "TrainOutput(global_step=870, training_loss=1.3878962330434514, metrics={'train_runtime': 3091.1809, 'train_samples_per_second': 9.0, 'train_steps_per_second': 0.281, 'total_flos': 3685637357076480.0, 'train_loss': 1.3878962330434514, 'epoch': 10.0})"
      ]
     },
     "execution_count": 16,
     "metadata": {},
     "output_type": "execute_result"
    }
   ],
   "source": [
    "trainer.train()"
   ]
  },
  {
   "cell_type": "code",
   "execution_count": 17,
   "metadata": {},
   "outputs": [
    {
     "data": {
      "text/html": [],
      "text/plain": [
       "<IPython.core.display.HTML object>"
      ]
     },
     "metadata": {},
     "output_type": "display_data"
    },
    {
     "data": {
      "text/plain": [
       "{'test_loss': 2.3018150329589844,\n",
       " 'test_accuracy': 0.20589491670226398,\n",
       " 'test_macro_f1': 0.20725929515121927,\n",
       " 'test_weighted_f1': 0.2041858302158275,\n",
       " 'test_confusion_matrix': [[35, 19, 8, 17, 14, 16, 3, 9],\n",
       "  [42, 81, 10, 12, 12, 20, 1, 5],\n",
       "  [17, 10, 56, 25, 21, 17, 25, 18],\n",
       "  [74, 23, 36, 98, 15, 23, 27, 26],\n",
       "  [75, 30, 82, 60, 60, 42, 37, 23],\n",
       "  [88, 68, 34, 44, 32, 49, 15, 13],\n",
       "  [54, 15, 92, 62, 49, 49, 67, 24],\n",
       "  [79, 28, 40, 83, 36, 27, 33, 36]],\n",
       " 'test_runtime': 68.6133,\n",
       " 'test_samples_per_second': 34.119,\n",
       " 'test_steps_per_second': 1.079}"
      ]
     },
     "execution_count": 17,
     "metadata": {},
     "output_type": "execute_result"
    }
   ],
   "source": [
    "preds_output = trainer.predict(test_dataset)\n",
    "preds_metrics = preds_output.metrics\n",
    "preds_metrics"
   ]
  },
  {
   "cell_type": "code",
   "execution_count": 18,
   "metadata": {},
   "outputs": [
    {
     "data": {
      "image/png": "[encoded data removed]",
      "text/plain": [
       "<Figure size 1000x800 with 2 Axes>"
      ]
     },
     "metadata": {},
     "output_type": "display_data"
    }
   ],
   "source": [
    "import matplotlib.pyplot as plt\n",
    "import numpy as np\n",
    "\n",
    "labels = label2id.keys()\n",
    "conf_matrix = preds_metrics['test_confusion_matrix']\n",
    "\n",
    "# Crear el gráfico de la matriz de confusión\n",
    "plt.figure(figsize=(10, 8))\n",
    "plt.imshow(conf_matrix, interpolation='nearest', cmap=plt.cm.Blues)\n",
    "plt.title(\"Confusion Matrix\")\n",
    "plt.colorbar()\n",
    "\n",
    "# Agregar etiquetas\n",
    "tick_marks = np.arange(len(labels))\n",
    "plt.xticks(tick_marks, labels)\n",
    "plt.yticks(tick_marks, labels)\n",
    "\n",
    "# Rótulos de valores dentro de cada celda\n",
    "conf_matrix = np.array(conf_matrix)\n",
    "\n",
    "# Calcular el umbral\n",
    "thresh = conf_matrix.max() / 2\n",
    "for i, j in np.ndindex(conf_matrix.shape):\n",
    "    plt.text(\n",
    "        j, i, format(conf_matrix[i, j], 'd'),\n",
    "        horizontalalignment=\"center\",\n",
    "        color=\"white\" if conf_matrix[i, j] > thresh else \"black\"\n",
    "    )\n",
    "\n",
    "# Etiquetas de los ejes\n",
    "plt.ylabel('True Label')\n",
    "plt.xlabel('Predicted Label')\n",
    "plt.tight_layout()\n",
    "plt.show()"
   ]
  }
 ],
 "metadata": {
  "kernelspec": {
   "display_name": ".venv",
   "language": "python",
   "name": "python3"
  },
  "language_info": {
   "codemirror_mode": {
    "name": "ipython",
    "version": 3
   },
   "file_extension": ".py",
   "mimetype": "text/x-python",
   "name": "python",
   "nbconvert_exporter": "python",
   "pygments_lexer": "ipython3",
   "version": "3.9.6"
  }
 },
 "nbformat": 4,
 "nbformat_minor": 2
}
