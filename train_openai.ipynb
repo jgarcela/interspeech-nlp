{
 "cells": [
  {
   "cell_type": "markdown",
   "metadata": {},
   "source": [
    "# Train Interspeech"
   ]
  },
  {
   "cell_type": "markdown",
   "metadata": {},
   "source": [
    "## Data"
   ]
  },
  {
   "cell_type": "code",
   "execution_count": 1,
   "metadata": {},
   "outputs": [
    {
     "name": "stdout",
     "output_type": "stream",
     "text": [
      "116221\n",
      "116193\n"
     ]
    },
    {
     "data": {
      "text/html": [
       "<div>\n",
       "<style scoped>\n",
       "    .dataframe tbody tr th:only-of-type {\n",
       "        vertical-align: middle;\n",
       "    }\n",
       "\n",
       "    .dataframe tbody tr th {\n",
       "        vertical-align: top;\n",
       "    }\n",
       "\n",
       "    .dataframe thead th {\n",
       "        text-align: right;\n",
       "    }\n",
       "</style>\n",
       "<table border=\"1\" class=\"dataframe\">\n",
       "  <thead>\n",
       "    <tr style=\"text-align: right;\">\n",
       "      <th></th>\n",
       "      <th>FileName</th>\n",
       "      <th>text</th>\n",
       "      <th>EmoClass</th>\n",
       "      <th>EmoAct</th>\n",
       "      <th>EmoVal</th>\n",
       "      <th>EmoDom</th>\n",
       "      <th>SpkrID</th>\n",
       "      <th>Gender</th>\n",
       "      <th>Split_Set</th>\n",
       "    </tr>\n",
       "  </thead>\n",
       "  <tbody>\n",
       "    <tr>\n",
       "      <th>0</th>\n",
       "      <td>MSP-PODCAST_2432_0200</td>\n",
       "      <td>... happening there as well. and you have the ...</td>\n",
       "      <td>S</td>\n",
       "      <td>2.800000</td>\n",
       "      <td>2.200000</td>\n",
       "      <td>3.40</td>\n",
       "      <td>1425</td>\n",
       "      <td>Male</td>\n",
       "      <td>Train</td>\n",
       "    </tr>\n",
       "    <tr>\n",
       "      <th>1</th>\n",
       "      <td>MSP-PODCAST_0133_0033</td>\n",
       "      <td>look they're - they're reporting on absolute ...</td>\n",
       "      <td>D</td>\n",
       "      <td>6.800000</td>\n",
       "      <td>2.800000</td>\n",
       "      <td>6.60</td>\n",
       "      <td>54</td>\n",
       "      <td>Male</td>\n",
       "      <td>Development</td>\n",
       "    </tr>\n",
       "    <tr>\n",
       "      <th>2</th>\n",
       "      <td>MSP-PODCAST_0288_0019</td>\n",
       "      <td>mr. [excess 00:01:24] also known as ike, bbc r...</td>\n",
       "      <td>H</td>\n",
       "      <td>5.333333</td>\n",
       "      <td>5.416667</td>\n",
       "      <td>4.75</td>\n",
       "      <td>123</td>\n",
       "      <td>Male</td>\n",
       "      <td>Train</td>\n",
       "    </tr>\n",
       "    <tr>\n",
       "      <th>3</th>\n",
       "      <td>MSP-PODCAST_2546_0333_0003</td>\n",
       "      <td>and instead of us just handing people masks...</td>\n",
       "      <td>H</td>\n",
       "      <td>4.600000</td>\n",
       "      <td>4.000000</td>\n",
       "      <td>4.80</td>\n",
       "      <td>1644</td>\n",
       "      <td>Male</td>\n",
       "      <td>Development</td>\n",
       "    </tr>\n",
       "    <tr>\n",
       "      <th>4</th>\n",
       "      <td>MSP-PODCAST_3820_0101_0000</td>\n",
       "      <td>or you're just done with all of the stuff that...</td>\n",
       "      <td>N</td>\n",
       "      <td>4.200000</td>\n",
       "      <td>3.400000</td>\n",
       "      <td>4.40</td>\n",
       "      <td>2289</td>\n",
       "      <td>Female</td>\n",
       "      <td>Train</td>\n",
       "    </tr>\n",
       "  </tbody>\n",
       "</table>\n",
       "</div>"
      ],
      "text/plain": [
       "                     FileName  \\\n",
       "0       MSP-PODCAST_2432_0200   \n",
       "1       MSP-PODCAST_0133_0033   \n",
       "2       MSP-PODCAST_0288_0019   \n",
       "3  MSP-PODCAST_2546_0333_0003   \n",
       "4  MSP-PODCAST_3820_0101_0000   \n",
       "\n",
       "                                                text EmoClass    EmoAct  \\\n",
       "0  ... happening there as well. and you have the ...        S  2.800000   \n",
       "1   look they're - they're reporting on absolute ...        D  6.800000   \n",
       "2  mr. [excess 00:01:24] also known as ike, bbc r...        H  5.333333   \n",
       "3     and instead of us just handing people masks...        H  4.600000   \n",
       "4  or you're just done with all of the stuff that...        N  4.200000   \n",
       "\n",
       "     EmoVal  EmoDom  SpkrID  Gender    Split_Set  \n",
       "0  2.200000    3.40    1425    Male        Train  \n",
       "1  2.800000    6.60      54    Male  Development  \n",
       "2  5.416667    4.75     123    Male        Train  \n",
       "3  4.000000    4.80    1644    Male  Development  \n",
       "4  3.400000    4.40    2289  Female        Train  "
      ]
     },
     "execution_count": 1,
     "metadata": {},
     "output_type": "execute_result"
    }
   ],
   "source": [
    "import pandas as pd\n",
    "\n",
    "# Cargar el CSV\n",
    "data = pd.read_csv('data.csv')\n",
    "print(len(data))\n",
    "# Eliminar filas con valores nulos solo en la columna 'text'\n",
    "data = data.dropna(subset=['text'])\n",
    "print(len(data))\n",
    "\n",
    "data = data[~data['EmoClass'].isin(['X', 'O'])]\n",
    "\n",
    "data.head()"
   ]
  },
  {
   "cell_type": "code",
   "execution_count": 2,
   "metadata": {},
   "outputs": [
    {
     "name": "stdout",
     "output_type": "stream",
     "text": [
      "Conjunto Train:\n",
      "                     FileName  \\\n",
      "0       MSP-PODCAST_2432_0200   \n",
      "2       MSP-PODCAST_0288_0019   \n",
      "4  MSP-PODCAST_3820_0101_0000   \n",
      "6       MSP-PODCAST_0545_0449   \n",
      "7       MSP-PODCAST_5492_2849   \n",
      "\n",
      "                                                text EmoClass    EmoAct  \\\n",
      "0  ... happening there as well. and you have the ...        S  2.800000   \n",
      "2  mr. [excess 00:01:24] also known as ike, bbc r...        H  5.333333   \n",
      "4  or you're just done with all of the stuff that...        N  4.200000   \n",
      "6  man, the power of contrast is so, i think, eas...        N  3.200000   \n",
      "7  ... we're older. so why not allow a little bit...        A  5.400000   \n",
      "\n",
      "     EmoVal  EmoDom  SpkrID  Gender Split_Set  \n",
      "0  2.200000    3.40    1425    Male     Train  \n",
      "2  5.416667    4.75     123    Male     Train  \n",
      "4  3.400000    4.40    2289  Female     Train  \n",
      "6  3.800000    3.80     227    Male     Train  \n",
      "7  2.400000    5.00    2889    Male     Train  \n",
      "Conjunto Development:\n",
      "                      FileName  \\\n",
      "1        MSP-PODCAST_0133_0033   \n",
      "3   MSP-PODCAST_2546_0333_0003   \n",
      "5   MSP-PODCAST_3371_0004_0001   \n",
      "14  MSP-PODCAST_1420_0011_0013   \n",
      "15       MSP-PODCAST_4707_0156   \n",
      "\n",
      "                                                 text EmoClass  EmoAct  \\\n",
      "1    look they're - they're reporting on absolute ...        D     6.8   \n",
      "3      and instead of us just handing people masks...        H     4.6   \n",
      "5   ... i decided to take a trip to canada with my...        N     3.4   \n",
      "14  and then she went on to found the coalition fo...        N     4.4   \n",
      "15  i really fucking want to do and it's been all ...        A     3.6   \n",
      "\n",
      "    EmoVal  EmoDom  SpkrID  Gender    Split_Set  \n",
      "1      2.8     6.6      54    Male  Development  \n",
      "3      4.0     4.8    1644    Male  Development  \n",
      "5      4.8     4.2    1769    Male  Development  \n",
      "14     4.2     5.0     772  Female  Development  \n",
      "15     3.4     3.6    2569  Female  Development  \n",
      "Conjunto Test:\n",
      "Empty DataFrame\n",
      "Columns: [FileName, text, EmoClass, EmoAct, EmoVal, EmoDom, SpkrID, Gender, Split_Set]\n",
      "Index: []\n"
     ]
    }
   ],
   "source": [
    "# Filtrar los datos en tres conjuntos basados en la columna 'Split_Set'\n",
    "train_df = data.loc[data['Split_Set'] == 'Train']\n",
    "dev_df = data.loc[data['Split_Set'] == 'Development']\n",
    "test_df = data.loc[data['Split_Set'] == 'Test']\n",
    "\n",
    "# Verifica las primeras filas de cada conjunto\n",
    "print(\"Conjunto Train:\")\n",
    "print(train_df.head())\n",
    "\n",
    "print(\"Conjunto Development:\")\n",
    "print(dev_df.head())\n",
    "\n",
    "print(\"Conjunto Test:\")\n",
    "print(test_df.head())"
   ]
  },
  {
   "cell_type": "code",
   "execution_count": 3,
   "metadata": {},
   "outputs": [],
   "source": [
    "# Establecer la semilla para garantizar reproducibilidad\n",
    "seed = 42\n",
    "\n",
    "# Seleccionar aleatoriamente las primeras N filas del conjunto de entrenamiento\n",
    "train_df = train_df.sample(n=100, random_state=seed)\n",
    "\n",
    "# Seleccionar aleatoriamente las primeras N filas del conjunto de desarrollo\n",
    "dev_df = dev_df.sample(n=250, random_state=seed)"
   ]
  },
  {
   "cell_type": "code",
   "execution_count": 4,
   "metadata": {},
   "outputs": [
    {
     "name": "stdout",
     "output_type": "stream",
     "text": [
      "Etiquetas únicas en 'EmoClass' antes del mapeo:\n",
      "['S' 'H' 'N' 'C' 'A' 'F' 'U' 'D']\n"
     ]
    }
   ],
   "source": [
    "# Verificar las etiquetas únicas en EmoClass antes de mapear\n",
    "print(\"Etiquetas únicas en 'EmoClass' antes del mapeo:\")\n",
    "print(train_df['EmoClass'].unique())\n"
   ]
  },
  {
   "cell_type": "code",
   "execution_count": 5,
   "metadata": {},
   "outputs": [],
   "source": [
    "num_labels = 10\n",
    "id2label = {\n",
    "    0: \"A\",\n",
    "    1: \"S\",\n",
    "    2: \"H\",\n",
    "    3: \"U\",\n",
    "    4: \"F\",\n",
    "    5: \"D\",\n",
    "    6: \"C\",\n",
    "    7: \"N\",\n",
    "}\n",
    "label2id = {\n",
    "    \"A\": 0,\n",
    "    \"S\": 1,\n",
    "    \"H\": 2,\n",
    "    \"U\": 3,\n",
    "    \"F\": 4,\n",
    "    \"D\": 5,\n",
    "    \"C\": 6,\n",
    "    \"N\": 7\n",
    "}\n",
    "\n",
    "# Convertir EmoClass a valores numéricos si es necesario\n",
    "train_df['EmoClass'] = train_df['EmoClass'].map(label2id).astype(int)\n",
    "dev_df['EmoClass'] = dev_df['EmoClass'].map(label2id).astype(int)"
   ]
  },
  {
   "cell_type": "code",
   "execution_count": 6,
   "metadata": {},
   "outputs": [
    {
     "name": "stderr",
     "output_type": "stream",
     "text": [
      "Processing predictions: 100%|██████████| 100/100 [00:55<00:00,  1.79it/s]\n"
     ]
    }
   ],
   "source": [
    "import configparser\n",
    "import openai\n",
    "from pydantic import BaseModel\n",
    "from sklearn.metrics import classification_report, confusion_matrix, accuracy_score\n",
    "from tqdm import tqdm\n",
    "\n",
    "class ResponseFormat(BaseModel):\n",
    "    emotion: str\n",
    "\n",
    "config = configparser.ConfigParser()\n",
    "config.read('config.ini')\n",
    "\n",
    "OPENAI_MODEL = config['DEFAULT']['OPENAI_MODEL']\n",
    "openai.api_key = config['DEFAULT']['OPENAI_API_KEY']\n",
    "\n",
    "# Lista para almacenar las predicciones\n",
    "predictions = []\n",
    "\n",
    "# Loop de predicción\n",
    "for idx, row in tqdm(train_df.iterrows(), total=len(train_df), desc=\"Processing predictions\"):\n",
    "    transcript = row['text']\n",
    "    try:\n",
    "        completion = openai.beta.chat.completions.parse(\n",
    "            model=OPENAI_MODEL,\n",
    "            messages=[\n",
    "                {\n",
    "                    \"role\": \"system\", \n",
    "                    \"content\": \"You are an assistant that classifies emotions based on transcripts.\"\n",
    "                },\n",
    "                {\n",
    "                    \"role\": \"user\", \n",
    "                    \"content\": f\"Classify this transcript into one of the following emotions: Angry (A), Sad (S), Happy (H), Surprise (U), Fear (F), Disgust (D), Contempt (C), Neutral (N). Transcript: {transcript}. Output only the letter that corresponds to the emotion.\"\n",
    "                }\n",
    "            ]\n",
    "        )\n",
    "        # Extraer la respuesta\n",
    "        response_message = completion.choices[0].message.content\n",
    "        emotion = response_message.strip()\n",
    "        predictions.append(emotion)\n",
    "        #print(f\"Predicción en el índice {idx}: {emotion}\")\n",
    "    except Exception as e:\n",
    "        print(f\"Error en el índice {idx}: {e}\")\n",
    "        predictions.append(None)  # Manejo de errores: insertar None en caso de fallo\n",
    "\n",
    "# Add predictions to the DataFrame\n",
    "train_df['predicted_emotion'] = predictions"
   ]
  },
  {
   "cell_type": "code",
   "execution_count": 7,
   "metadata": {},
   "outputs": [],
   "source": [
    "def compute_metrics(true_labels, predicted_labels):\n",
    "\n",
    "    # Obtener reporte completo\n",
    "    report = classification_report(true_labels, predicted_labels, output_dict=True)\n",
    "    \n",
    "    # Obtener la matriz de confusión\n",
    "    conf_matrix = confusion_matrix(true_labels, predicted_labels)\n",
    "    \n",
    "    # Extraer métricas para cada clase y globales\n",
    "    metrics = {\n",
    "        'accuracy': report['accuracy'],\n",
    "        'weighted_f1': report['weighted avg']['f1-score'],\n",
    "        'macro_f1': report['macro avg']['f1-score'],\n",
    "        # 'weighted_precision': report['weighted avg']['precision'],\n",
    "        # 'weighted_recall': report['weighted avg']['recall'],\n",
    "        # La matriz de confusión no se incluye normalmente como una métrica devuelta porque no es un escalar\n",
    "        'confusion_matrix': conf_matrix.tolist()  # Convertir a lista para asegurarse de que es serializable si es necesario\n",
    "    }\n",
    "    \n",
    "    # # Añadir métricas específicas por clase si se requiere\n",
    "    # for label, scores in report.items():\n",
    "    #     if label not in [\"accuracy\", \"macro avg\", \"weighted avg\"]:\n",
    "    #         metrics[f'{label}_precision'] = scores['precision']\n",
    "    #         metrics[f'{label}_recall'] = scores['recall']\n",
    "    #         metrics[f'{label}_f1'] = scores['f1-score']\n",
    "    #         metrics[f'{label}_support'] = scores['support']\n",
    "    \n",
    "    return metrics"
   ]
  },
  {
   "cell_type": "code",
   "execution_count": 11,
   "metadata": {},
   "outputs": [
    {
     "data": {
      "text/plain": [
       "{'accuracy': 0.59,\n",
       " 'weighted_f1': 0.5845481233742104,\n",
       " 'macro_f1': 0.2904171311780007,\n",
       " 'confusion_matrix': [[5, 0, 2, 0, 0, 1, 0, 0],\n",
       "  [0, 3, 2, 0, 1, 0, 0, 1],\n",
       "  [0, 2, 7, 2, 1, 0, 1, 10],\n",
       "  [0, 1, 0, 0, 0, 0, 0, 1],\n",
       "  [0, 0, 0, 0, 0, 0, 0, 1],\n",
       "  [0, 0, 0, 0, 0, 0, 0, 1],\n",
       "  [0, 0, 0, 0, 0, 1, 0, 4],\n",
       "  [0, 2, 2, 0, 0, 3, 2, 44]]}"
      ]
     },
     "execution_count": 11,
     "metadata": {},
     "output_type": "execute_result"
    }
   ],
   "source": [
    "true_labels = train_df['EmoClass'].dropna()\n",
    "predicted_labels = train_df['predicted_emotion'].map(label2id).dropna()\n",
    "\n",
    "\n",
    "metrics = compute_metrics(true_labels, predicted_labels)\n",
    "metrics"
   ]
  },
  {
   "cell_type": "code",
   "execution_count": 12,
   "metadata": {},
   "outputs": [
    {
     "data": {
      "image/png": "[encoded data removed]",
      "text/plain": [
       "<Figure size 1000x800 with 2 Axes>"
      ]
     },
     "metadata": {},
     "output_type": "display_data"
    }
   ],
   "source": [
    "import matplotlib.pyplot as plt\n",
    "import numpy as np\n",
    "\n",
    "labels = label2id.keys()\n",
    "conf_matrix = metrics['confusion_matrix']\n",
    "\n",
    "# Crear el gráfico de la matriz de confusión\n",
    "plt.figure(figsize=(10, 8))\n",
    "plt.imshow(conf_matrix, interpolation='nearest', cmap=plt.cm.Blues)\n",
    "plt.title(\"Confusion Matrix\")\n",
    "plt.colorbar()\n",
    "\n",
    "# Agregar etiquetas\n",
    "tick_marks = np.arange(len(labels))\n",
    "plt.xticks(tick_marks, labels)\n",
    "plt.yticks(tick_marks, labels)\n",
    "\n",
    "# Rótulos de valores dentro de cada celda\n",
    "conf_matrix = np.array(conf_matrix)\n",
    "\n",
    "# Calcular el umbral\n",
    "thresh = conf_matrix.max() / 2\n",
    "for i, j in np.ndindex(conf_matrix.shape):\n",
    "    plt.text(\n",
    "        j, i, format(conf_matrix[i, j], 'd'),\n",
    "        horizontalalignment=\"center\",\n",
    "        color=\"white\" if conf_matrix[i, j] > thresh else \"black\"\n",
    "    )\n",
    "\n",
    "# Etiquetas de los ejes\n",
    "plt.ylabel('True Label')\n",
    "plt.xlabel('Predicted Label')\n",
    "plt.tight_layout()\n",
    "plt.show()"
   ]
  }
 ],
 "metadata": {
  "kernelspec": {
   "display_name": ".venv",
   "language": "python",
   "name": "python3"
  },
  "language_info": {
   "codemirror_mode": {
    "name": "ipython",
    "version": 3
   },
   "file_extension": ".py",
   "mimetype": "text/x-python",
   "name": "python",
   "nbconvert_exporter": "python",
   "pygments_lexer": "ipython3",
   "version": "3.9.6"
  }
 },
 "nbformat": 4,
 "nbformat_minor": 2
}
